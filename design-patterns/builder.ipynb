{
 "cells": [
  {
   "cell_type": "markdown",
   "metadata": {},
   "source": [
    "# Builder Pattern"
   ]
  },
  {
   "cell_type": "code",
   "execution_count": 1,
   "metadata": {},
   "outputs": [],
   "source": [
    "from abc import ABC\n",
    "\n",
    "class AircraftBuilder(ABC):\n",
    "\n",
    "    def buildEngine(self):\n",
    "        pass\n",
    "    \n",
    "    def buildWings(self):\n",
    "        pass\n",
    "    \n",
    "    def buildCockpit(self):\n",
    "        pass\n",
    "    \n",
    "    def buildBathrooms(self):\n",
    "        pass\n",
    "\n",
    "    def getResult(self):\n",
    "        pass\n",
    "\n",
    "class BoeingBuilder(AircraftBuilder):\n",
    "    \n",
    "    def buildEngine(self):\n",
    "        \n",
    "\n",
    "        \n",
    "class Director():\n",
    "    \n",
    "    "
   ]
  },
  {
   "cell_type": "code",
   "execution_count": null,
   "metadata": {},
   "outputs": [],
   "source": []
  }
 ],
 "metadata": {
  "kernelspec": {
   "display_name": "Python 3",
   "language": "python",
   "name": "python3"
  },
  "language_info": {
   "codemirror_mode": {
    "name": "ipython",
    "version": 3
   },
   "file_extension": ".py",
   "mimetype": "text/x-python",
   "name": "python",
   "nbconvert_exporter": "python",
   "pygments_lexer": "ipython3",
   "version": "3.8.5"
  }
 },
 "nbformat": 4,
 "nbformat_minor": 4
}
