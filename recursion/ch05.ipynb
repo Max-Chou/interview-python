{
 "cells": [
  {
   "cell_type": "markdown",
   "metadata": {},
   "source": [
    "# Count All Occurrences of a Number\n",
    "\n",
    "Our task is to find the number of times a key occurs in an array.\n",
    "\n"
   ]
  },
  {
   "cell_type": "code",
   "execution_count": 1,
   "metadata": {},
   "outputs": [],
   "source": [
    "def count(arr, key):\n",
    "    \n",
    "    if len(arr) == 0:\n",
    "        return 0\n",
    "    \n",
    "    if arr[0] == key:\n",
    "        return 1 + count(arr[1:], key)\n",
    "    else:\n",
    "        return count(arr[1:], key)"
   ]
  },
  {
   "cell_type": "code",
   "execution_count": 3,
   "metadata": {},
   "outputs": [
    {
     "name": "stdout",
     "output_type": "stream",
     "text": [
      "1\n"
     ]
    }
   ],
   "source": [
    "print(count([1, 2, 1, 4, 5, 1], 4))"
   ]
  },
  {
   "cell_type": "markdown",
   "metadata": {},
   "source": [
    "# Invert an Array\n",
    "\n",
    "Our task is to flip the elements of the array, meaning we will make the first element of the array the last element, the second element the second last element, and so on."
   ]
  },
  {
   "cell_type": "code",
   "execution_count": 6,
   "metadata": {},
   "outputs": [],
   "source": [
    "def invert(arr):\n",
    "    \n",
    "    if len(arr) == 0:\n",
    "        return []\n",
    "    \n",
    "    return invert(arr[1:]) + [arr[0]]"
   ]
  },
  {
   "cell_type": "code",
   "execution_count": 7,
   "metadata": {},
   "outputs": [
    {
     "name": "stdout",
     "output_type": "stream",
     "text": [
      "[4, 3, 2, 1]\n"
     ]
    }
   ],
   "source": [
    "print(invert([1,2,3,4]))"
   ]
  },
  {
   "cell_type": "markdown",
   "metadata": {},
   "source": [
    "# Replace All Negative Numbers with Zero\n",
    "\n",
    "An array can contain negative numbers. Our task is to replace all instances of negative numbers with 00 starting from a given index of the array.\n",
    "\n"
   ]
  },
  {
   "cell_type": "code",
   "execution_count": 8,
   "metadata": {},
   "outputs": [],
   "source": [
    "def replace(arr):\n",
    "    \n",
    "    if len(arr) == 0:\n",
    "        return []\n",
    "    \n",
    "    if arr[0] < 0:\n",
    "        return [0] + replace(arr[1:])\n",
    "    else:\n",
    "        return [arr[0]] + replace(arr[1:])"
   ]
  },
  {
   "cell_type": "code",
   "execution_count": 9,
   "metadata": {},
   "outputs": [
    {
     "name": "stdout",
     "output_type": "stream",
     "text": [
      "[2, 0, 0, 0, 0, 8]\n"
     ]
    }
   ],
   "source": [
    "arr = [2, -3, -4, -1, -7, 8]\n",
    "print(replace(arr))"
   ]
  },
  {
   "cell_type": "code",
   "execution_count": null,
   "metadata": {},
   "outputs": [],
   "source": []
  }
 ],
 "metadata": {
  "kernelspec": {
   "display_name": "Python 3",
   "language": "python",
   "name": "python3"
  },
  "language_info": {
   "codemirror_mode": {
    "name": "ipython",
    "version": 3
   },
   "file_extension": ".py",
   "mimetype": "text/x-python",
   "name": "python",
   "nbconvert_exporter": "python",
   "pygments_lexer": "ipython3",
   "version": "3.8.5"
  }
 },
 "nbformat": 4,
 "nbformat_minor": 4
}
