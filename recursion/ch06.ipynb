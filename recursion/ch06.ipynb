{
 "cells": [
  {
   "cell_type": "markdown",
   "metadata": {},
   "source": [
    "# Reverse Linked List"
   ]
  },
  {
   "cell_type": "markdown",
   "metadata": {},
   "source": [
    "### Node and LinkedList"
   ]
  },
  {
   "cell_type": "code",
   "execution_count": 2,
   "metadata": {},
   "outputs": [],
   "source": [
    "class Node:\n",
    "    def __init__(self, data):\n",
    "        self.data = data\n",
    "        self.nextNode = None\n",
    "\n",
    "class LinkedList:\n",
    "    def __init__(self):\n",
    "        self.head = None\n",
    "    \n",
    "    def append(self, data):\n",
    "        \n",
    "        node = Node(data)\n",
    "        \n",
    "        if not self.head:\n",
    "            self.head = node\n",
    "            return \n",
    "        \n",
    "        node.nextNode = self.head\n",
    "        self.head = node\n",
    "        \n",
    "        return \n",
    "    \n",
    "    def printList(self):\n",
    "        curNode = self.head\n",
    "        while(curNode):\n",
    "            print(curNode.data)\n",
    "            curNode = curNode.nextNode\n",
    "        "
   ]
  },
  {
   "cell_type": "code",
   "execution_count": 7,
   "metadata": {},
   "outputs": [],
   "source": [
    "def reverse(linkedList, curNode, preNode):\n",
    "    \n",
    "    # Base Case\n",
    "    if not curNode:\n",
    "        linkedList.head = preNode\n",
    "        return None\n",
    "    \n",
    "    nextNode = curNode.nextNode\n",
    "    curNode.nextNode = preNode\n",
    "    return reverse(linkedList, nextNode, curNode)"
   ]
  },
  {
   "cell_type": "code",
   "execution_count": 10,
   "metadata": {},
   "outputs": [
    {
     "name": "stdout",
     "output_type": "stream",
     "text": [
      "11\n",
      "7\n",
      "4\n",
      "3\n"
     ]
    }
   ],
   "source": [
    "l = LinkedList()\n",
    "l.append(3)\n",
    "l.append(4)\n",
    "l.append(7)\n",
    "l.append(11)\n",
    "l.printList()"
   ]
  },
  {
   "cell_type": "code",
   "execution_count": 11,
   "metadata": {},
   "outputs": [],
   "source": [
    "reverse(l, l.head, None)"
   ]
  },
  {
   "cell_type": "code",
   "execution_count": 12,
   "metadata": {},
   "outputs": [
    {
     "name": "stdout",
     "output_type": "stream",
     "text": [
      "3\n",
      "4\n",
      "7\n",
      "11\n"
     ]
    }
   ],
   "source": [
    "l.printList()"
   ]
  },
  {
   "cell_type": "markdown",
   "metadata": {},
   "source": [
    "# Depth First Traversal of Graph"
   ]
  },
  {
   "cell_type": "markdown",
   "metadata": {},
   "source": [
    "*suppose the value of vertex are identical...*"
   ]
  },
  {
   "cell_type": "code",
   "execution_count": 6,
   "metadata": {},
   "outputs": [],
   "source": [
    "from collections import defaultdict\n",
    "\n",
    "class Graph:\n",
    "    def __init__(self):\n",
    "        self.graph = defaultdict(set)\n",
    "        self.vertices = set()\n",
    "    \n",
    "    def addEdge(self, u, v):\n",
    "        self.graph[u].add(v)\n",
    "        self.vertices.add(u)\n",
    "        self.vertices.add(v)\n",
    "        "
   ]
  },
  {
   "cell_type": "code",
   "execution_count": 28,
   "metadata": {},
   "outputs": [],
   "source": [
    "def helper(g, idx, is_visited):\n",
    "    \n",
    "    # print out current vertex\n",
    "    if not is_visited[idx]:\n",
    "        is_visited[idx] = True\n",
    "        print(idx)\n",
    "    \n",
    "    # find another ones\n",
    "    for vertex in g.graph[idx]:\n",
    "        if not is_visited[vertex]:\n",
    "            helper(g, vertex, is_visited)\n",
    "\n",
    "\n",
    "def travel(g):\n",
    "    num = len(g.vertices)\n",
    "    \n",
    "    is_visited = {}\n",
    "    for vertex in g.vertices:\n",
    "        is_visited[vertex] = False\n",
    "    \n",
    "    return helper(g, 0, is_visited)\n",
    "    \n"
   ]
  },
  {
   "cell_type": "code",
   "execution_count": 29,
   "metadata": {},
   "outputs": [],
   "source": [
    "graph = Graph()\n",
    "\n",
    "graph.addEdge(0, 1)\n",
    "graph.addEdge(1, 2)\n",
    "graph.addEdge(1, 3)\n",
    "graph.addEdge(2, 4)\n",
    "graph.addEdge(3, 4)\n",
    "graph.addEdge(3, 5)"
   ]
  },
  {
   "cell_type": "code",
   "execution_count": 30,
   "metadata": {},
   "outputs": [
    {
     "name": "stdout",
     "output_type": "stream",
     "text": [
      "0\n",
      "1\n",
      "2\n",
      "4\n",
      "3\n",
      "5\n"
     ]
    }
   ],
   "source": [
    "travel(graph)"
   ]
  },
  {
   "cell_type": "markdown",
   "metadata": {},
   "source": [
    "# Length of LinkedList"
   ]
  },
  {
   "cell_type": "code",
   "execution_count": 31,
   "metadata": {},
   "outputs": [],
   "source": [
    "class Node:\n",
    "    def __init__(self, data):\n",
    "        self.data = data\n",
    "        self.nextNode = None\n",
    "\n",
    "class LinkedList:\n",
    "    def __init__(self):\n",
    "        self.head = None\n",
    "    \n",
    "    def append(self, data):\n",
    "        \n",
    "        node = Node(data)\n",
    "        \n",
    "        if not self.head:\n",
    "            self.head = node\n",
    "            return \n",
    "        \n",
    "        node.nextNode = self.head\n",
    "        self.head = node\n",
    "        \n",
    "        return \n",
    "    \n",
    "    def printList(self):\n",
    "        curNode = self.head\n",
    "        while(curNode):\n",
    "            print(curNode.data)\n",
    "            curNode = curNode.nextNode\n",
    "        "
   ]
  },
  {
   "cell_type": "code",
   "execution_count": 32,
   "metadata": {},
   "outputs": [],
   "source": [
    "def length(linkedList, curNode):\n",
    "    \n",
    "    # Base Case\n",
    "    if not curNode:\n",
    "        return 0\n",
    "    \n",
    "    return 1 + length(linkedList, curNode.nextNode)"
   ]
  },
  {
   "cell_type": "markdown",
   "metadata": {},
   "source": [
    "# Reverse a Stack (Hard)\n",
    "\n",
    "without other data structures and extra stacks!"
   ]
  },
  {
   "cell_type": "code",
   "execution_count": 40,
   "metadata": {},
   "outputs": [],
   "source": [
    "class Stack:\n",
    "    def __init__(self):\n",
    "        self.stack = []\n",
    "    \n",
    "    def isEmpty(self):\n",
    "        return len(self.stack) == 0\n",
    "    \n",
    "    def push(self, item):\n",
    "        self.stack.append(item)\n",
    "    \n",
    "    def pop(self):\n",
    "        if self.isEmpty():\n",
    "            return None\n",
    "        return self.stack.pop()"
   ]
  },
  {
   "cell_type": "code",
   "execution_count": 41,
   "metadata": {},
   "outputs": [],
   "source": [
    "def insertAtBottom(stack, item):\n",
    "    if stack.isEmpty():\n",
    "        stack.push(item)\n",
    "    else:\n",
    "        temp = stack.pop()\n",
    "        insertAtBottom(stack, item)\n",
    "        stack.push(temp)\n",
    "\n",
    "\n",
    "def reverse(stack):\n",
    "    if not stack.isEmpty():\n",
    "        temp = stack.pop()\n",
    "        reverse(stack)\n",
    "        insertAtBottom(stack, temp)\n"
   ]
  },
  {
   "cell_type": "code",
   "execution_count": 42,
   "metadata": {},
   "outputs": [],
   "source": [
    "\n",
    "s = Stack()\n",
    "s.push(8)\n",
    "s.push(5)\n",
    "s.push(3)\n",
    "s.push(2)"
   ]
  },
  {
   "cell_type": "code",
   "execution_count": 43,
   "metadata": {},
   "outputs": [
    {
     "data": {
      "text/plain": [
       "[8, 5, 3, 2]"
      ]
     },
     "execution_count": 43,
     "metadata": {},
     "output_type": "execute_result"
    }
   ],
   "source": [
    "s.stack"
   ]
  },
  {
   "cell_type": "code",
   "execution_count": 44,
   "metadata": {},
   "outputs": [],
   "source": [
    "reverse(s)"
   ]
  },
  {
   "cell_type": "code",
   "execution_count": 45,
   "metadata": {},
   "outputs": [
    {
     "data": {
      "text/plain": [
       "<__main__.Stack at 0x7f31f8415700>"
      ]
     },
     "execution_count": 45,
     "metadata": {},
     "output_type": "execute_result"
    }
   ],
   "source": [
    "s"
   ]
  },
  {
   "cell_type": "code",
   "execution_count": 46,
   "metadata": {},
   "outputs": [
    {
     "data": {
      "text/plain": [
       "[2, 3, 5, 8]"
      ]
     },
     "execution_count": 46,
     "metadata": {},
     "output_type": "execute_result"
    }
   ],
   "source": [
    "s.stack"
   ]
  },
  {
   "cell_type": "markdown",
   "metadata": {},
   "source": [
    "# Topological Sorting of a Graph (Hard)\n",
    "\n",
    "Imagine you have been given the task to schedule some tasks. The tasks are represented as vertices of the graph, and if a task u must be completed before a task v can be started, then there is an edge from u to v in the graph."
   ]
  },
  {
   "cell_type": "code",
   "execution_count": 47,
   "metadata": {},
   "outputs": [],
   "source": [
    "from collections import defaultdict\n",
    "\n",
    "class Graph:\n",
    "    def __init__(self, num):\n",
    "        self.graph = defaultdict(set)\n",
    "        self.num = num\n",
    "    \n",
    "    def addEdge(self, u, v):\n",
    "        self.graph[u].add(v)\n"
   ]
  },
  {
   "cell_type": "code",
   "execution_count": 61,
   "metadata": {},
   "outputs": [],
   "source": [
    "def helperFunction(g, curNode, visited, result):\n",
    "    visited[curNode] = True\n",
    "    \n",
    "    for node in g.graph[curNode]:\n",
    "        if not visited[node]:\n",
    "            helperFunction(g, node, visited, result)\n",
    "    \n",
    "    # this task shoud be BEFORE other tasks\n",
    "    #result.insert(0, curNode)\n",
    "    result.append(curNode)\n",
    "    \n",
    "def topologicalSort(g):\n",
    "    visited = [False for i in range(g.num)]\n",
    "    result = []\n",
    "    \n",
    "    for node in range(g.num):\n",
    "        if not visited[node]:\n",
    "            helperFunction(g, node, visited, result)\n",
    "    \n",
    "    return result[::-1]"
   ]
  },
  {
   "cell_type": "code",
   "execution_count": 64,
   "metadata": {},
   "outputs": [
    {
     "data": {
      "text/plain": [
       "[1, 0, 4, 3, 2]"
      ]
     },
     "execution_count": 64,
     "metadata": {},
     "output_type": "execute_result"
    }
   ],
   "source": [
    "graph = Graph(5)\n",
    "graph.addEdge(1, 0) \n",
    "graph.addEdge(1, 3) \n",
    "graph.addEdge(0, 4) \n",
    "graph.addEdge(4, 3) \n",
    "graph.addEdge(4, 2) \n",
    "graph.addEdge(3, 2) \n",
    "\n",
    "topologicalSort(graph)"
   ]
  },
  {
   "cell_type": "code",
   "execution_count": null,
   "metadata": {},
   "outputs": [],
   "source": []
  },
  {
   "cell_type": "code",
   "execution_count": null,
   "metadata": {},
   "outputs": [],
   "source": []
  }
 ],
 "metadata": {
  "kernelspec": {
   "display_name": "Python 3",
   "language": "python",
   "name": "python3"
  },
  "language_info": {
   "codemirror_mode": {
    "name": "ipython",
    "version": 3
   },
   "file_extension": ".py",
   "mimetype": "text/x-python",
   "name": "python",
   "nbconvert_exporter": "python",
   "pygments_lexer": "ipython3",
   "version": "3.8.5"
  }
 },
 "nbformat": 4,
 "nbformat_minor": 4
}
