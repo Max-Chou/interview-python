{
 "cells": [
  {
   "cell_type": "markdown",
   "metadata": {},
   "source": [
    "# Remove Tabs in a String\n",
    "\n",
    "Our task is to remove all tabs from a string. This includes the character \\t and \" \" from a string."
   ]
  },
  {
   "cell_type": "code",
   "execution_count": 1,
   "metadata": {},
   "outputs": [],
   "source": [
    "def remove(word):\n",
    "    \n",
    "    # base case\n",
    "    if len(word) == 0:\n",
    "        return \"\"\n",
    "    \n",
    "    # if the characters is spaces, remove it\n",
    "    if word[0] == \"\\t\" or word[0] == \" \":\n",
    "        return remove(word[1:])\n",
    "    else:\n",
    "        return word[0] + remove(word[1:])"
   ]
  },
  {
   "cell_type": "code",
   "execution_count": 3,
   "metadata": {},
   "outputs": [
    {
     "name": "stdout",
     "output_type": "stream",
     "text": [
      "helloworld\n"
     ]
    }
   ],
   "source": [
    "print(remove(\"hello wor l d\"))"
   ]
  },
  {
   "cell_type": "markdown",
   "metadata": {},
   "source": [
    "# Remove All Adjacent Duplicates from a String\n",
    "\n",
    "This means that we will remove all extra instances of a character when multiple instances are found together. In other words, only one instance should remain after this process.\n",
    "\n"
   ]
  },
  {
   "cell_type": "code",
   "execution_count": 6,
   "metadata": {},
   "outputs": [],
   "source": [
    "def remove(word):\n",
    "    \n",
    "    return word[0] + helper(word, 1, 0)\n",
    "\n",
    "def helper(word, curIdx, tarIdx):\n",
    "    \n",
    "    if curIdx >= len(word):\n",
    "        return \"\"\n",
    "    \n",
    "    if word[curIdx] == word[tarIdx]:\n",
    "        return helper(word, curIdx+1, tarIdx)\n",
    "    else:\n",
    "        return word[curIdx] + helper(word, curIdx+1, curIdx)"
   ]
  },
  {
   "cell_type": "code",
   "execution_count": 8,
   "metadata": {},
   "outputs": [
    {
     "name": "stdout",
     "output_type": "stream",
     "text": [
      "Helo0\n"
     ]
    }
   ],
   "source": [
    "print(remove(\"Hello0000\"))"
   ]
  },
  {
   "cell_type": "markdown",
   "metadata": {},
   "source": [
    "# Merge Two Sorted Strings Lexicographically\n",
    "\n",
    "Lexicographical means that something is organized according to alphabetical order."
   ]
  },
  {
   "cell_type": "code",
   "execution_count": 9,
   "metadata": {},
   "outputs": [],
   "source": [
    "def merge(w1, w2):\n",
    "    \n",
    "    if len(w1) == 0:\n",
    "        return w2\n",
    "    if len(w2) == 0:\n",
    "        return w1\n",
    "    \n",
    "    if w1[0] < w2[0]:\n",
    "        return w1[0] + merge(w1[1:], w2)\n",
    "    else:\n",
    "        return w2[0] + merge(w1, w2[1:])\n",
    "    "
   ]
  },
  {
   "cell_type": "code",
   "execution_count": 10,
   "metadata": {},
   "outputs": [
    {
     "name": "stdout",
     "output_type": "stream",
     "text": [
      "abcstu\n"
     ]
    }
   ],
   "source": [
    "print(merge(\"acu\",\"bst\"))"
   ]
  },
  {
   "cell_type": "code",
   "execution_count": null,
   "metadata": {},
   "outputs": [],
   "source": []
  }
 ],
 "metadata": {
  "kernelspec": {
   "display_name": "Python 3",
   "language": "python",
   "name": "python3"
  },
  "language_info": {
   "codemirror_mode": {
    "name": "ipython",
    "version": 3
   },
   "file_extension": ".py",
   "mimetype": "text/x-python",
   "name": "python",
   "nbconvert_exporter": "python",
   "pygments_lexer": "ipython3",
   "version": "3.8.5"
  }
 },
 "nbformat": 4,
 "nbformat_minor": 4
}
