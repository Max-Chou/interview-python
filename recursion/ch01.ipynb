{
 "cells": [
  {
   "cell_type": "markdown",
   "metadata": {},
   "source": [
    "# What is recursion?\n",
    "\n",
    "The function call itself until it reaches a specified stopping condition\n",
    "\n",
    "## Format \n",
    "* Base Case\n",
    "* Recursive Case"
   ]
  },
  {
   "cell_type": "markdown",
   "metadata": {},
   "source": [
    "# Direct vs Indirect"
   ]
  },
  {
   "cell_type": "code",
   "execution_count": 1,
   "metadata": {},
   "outputs": [],
   "source": [
    "def printNumber(lower, upper):\n",
    "    # Base Case\n",
    "    if lower > upper:\n",
    "        return \n",
    "    \n",
    "    print(lower)\n",
    "    \n",
    "    printNumber(lower+1, upper)\n"
   ]
  },
  {
   "cell_type": "code",
   "execution_count": 5,
   "metadata": {},
   "outputs": [
    {
     "name": "stdout",
     "output_type": "stream",
     "text": [
      "0\n",
      "1\n",
      "2\n",
      "3\n",
      "4\n",
      "5\n"
     ]
    }
   ],
   "source": [
    "printNumber(0, 5)"
   ]
  },
  {
   "cell_type": "markdown",
   "metadata": {},
   "source": [
    "a function call another function till the original function is called. The example sucks though..."
   ]
  },
  {
   "cell_type": "code",
   "execution_count": 6,
   "metadata": {},
   "outputs": [],
   "source": [
    "def printNumber(lower, upper):\n",
    "    # Base Case\n",
    "    if lower > upper:\n",
    "        return\n",
    "    \n",
    "    print(lower)\n",
    "    lower += 1\n",
    "    helper(lower, upper)\n",
    "\n",
    "    \n",
    "def helper(lower, upper):\n",
    "    # Base Case\n",
    "    if lower > upper:\n",
    "        return\n",
    "    \n",
    "    print(lower)\n",
    "    lower += 1\n",
    "    printNumber(lower, upper)\n"
   ]
  },
  {
   "cell_type": "code",
   "execution_count": 7,
   "metadata": {},
   "outputs": [
    {
     "name": "stdout",
     "output_type": "stream",
     "text": [
      "0\n",
      "1\n",
      "2\n",
      "3\n",
      "4\n",
      "5\n"
     ]
    }
   ],
   "source": [
    "printNumber(0, 5)"
   ]
  },
  {
   "cell_type": "markdown",
   "metadata": {},
   "source": [
    "# When to use recursion?\n",
    "\n",
    "* Problem can be broken down into smaller similar subproblems. For example, dynamic programming problems.\n",
    "\n",
    "* Problem requires an arbitrary number of nested loops. You don't know the number of loops. For example, iterating through a tree or a graph."
   ]
  },
  {
   "cell_type": "code",
   "execution_count": null,
   "metadata": {},
   "outputs": [],
   "source": []
  }
 ],
 "metadata": {
  "kernelspec": {
   "display_name": "Python 3",
   "language": "python",
   "name": "python3"
  },
  "language_info": {
   "codemirror_mode": {
    "name": "ipython",
    "version": 3
   },
   "file_extension": ".py",
   "mimetype": "text/x-python",
   "name": "python",
   "nbconvert_exporter": "python",
   "pygments_lexer": "ipython3",
   "version": "3.8.5"
  }
 },
 "nbformat": 4,
 "nbformat_minor": 4
}
