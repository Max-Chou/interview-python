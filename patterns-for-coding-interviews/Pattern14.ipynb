{
 "cells": [
  {
   "cell_type": "markdown",
   "metadata": {},
   "source": [
    "# K-way merge\n",
    "\n",
    "Whenever we are given ‘K’ sorted arrays, we can use a Heap to efficiently perform a sorted traversal of all the elements of all arrays. We can push the smallest (first) element of each sorted array in a Min Heap to get the overall minimum. While inserting elements to the Min Heap we keep track of which array the element came from. We can, then, remove the top element from the heap to get the smallest element and push the next element from the same array, to which this smallest element belonged, to the heap. We can repeat this process to make a sorted traversal of all elements."
   ]
  },
  {
   "cell_type": "code",
   "execution_count": 4,
   "metadata": {},
   "outputs": [],
   "source": [
    "from heapq import *\n",
    "\n",
    "class Node():\n",
    "    def __init__(self, val):\n",
    "        self.val = val\n",
    "        self.next_node = None\n",
    "    \n",
    "    def __lt__(self, node):\n",
    "        return self.val < node.val"
   ]
  },
  {
   "cell_type": "markdown",
   "metadata": {},
   "source": [
    "## Merge K Sorted Lists (medium)\n",
    "\n",
    "Given an array of ‘K’ sorted LinkedLists, merge them into one sorted list.\n",
    "\n"
   ]
  },
  {
   "cell_type": "code",
   "execution_count": 5,
   "metadata": {},
   "outputs": [],
   "source": [
    "def merge(lists):\n",
    "    head = None\n",
    "    \n",
    "    minHeap = []\n",
    "    for l in lists:\n",
    "        current = l\n",
    "        while current:\n",
    "            heappush(minHeap, current)\n",
    "            current = current.next_node\n",
    "    \n",
    "    head = heappop(minHeap)\n",
    "    \n",
    "    current = head\n",
    "    while minHeap:\n",
    "        current.next_node = heappop(minHeap)\n",
    "        current = current.next_node\n",
    "    \n",
    "    return head\n"
   ]
  },
  {
   "cell_type": "code",
   "execution_count": 6,
   "metadata": {},
   "outputs": [],
   "source": [
    "def merge(lists):\n",
    "    \n",
    "    head = None\n",
    "    \n",
    "    minHeap = []\n",
    "    \n",
    "    for l in lists:\n",
    "        heappush(minHeap, l)\n",
    "    \n",
    "    head = heappop(minHeap)\n",
    "    heappush(minHeap, head.next_node)\n",
    "    \n",
    "    current = head\n",
    "    while minHeap:\n",
    "        next_node = heappop(minHeap)\n",
    "        current.next_node = next_node\n",
    "        if next_node.next_node:\n",
    "            heappush(minHeap, next_node.next_node)\n",
    "    \n",
    "        current = current.next_node\n",
    "    \n",
    "    return head\n",
    "    "
   ]
  },
  {
   "cell_type": "code",
   "execution_count": 7,
   "metadata": {},
   "outputs": [
    {
     "name": "stdout",
     "output_type": "stream",
     "text": [
      "1 2 3 3 4 6 6 7 8 "
     ]
    }
   ],
   "source": [
    "l1 = Node(2)\n",
    "l1.next_node = Node(6)\n",
    "l1.next_node.next_node = Node(8)\n",
    "\n",
    "l2 = Node(3)\n",
    "l2.next_node = Node(6)\n",
    "l2.next_node.next_node = Node(7)\n",
    "\n",
    "l3 = Node(1)\n",
    "l3.next_node = Node(3)\n",
    "l3.next_node.next_node = Node(4)\n",
    "\n",
    "result = merge([l1, l2, l3])\n",
    "\n",
    "while result:\n",
    "    print(str(result.val) + \" \", end=\"\")\n",
    "    result = result.next_node\n"
   ]
  },
  {
   "cell_type": "markdown",
   "metadata": {},
   "source": [
    "## Kth Smallest Number in M Sorted Lists (Medium)\n",
    "\n",
    "Given ‘M’ sorted arrays, find the K’th smallest number among all the arrays.\n",
    "\n"
   ]
  },
  {
   "cell_type": "code",
   "execution_count": 8,
   "metadata": {},
   "outputs": [],
   "source": [
    "def solution(lists, k):\n",
    "    \n",
    "    minHeap = []\n",
    "    \n",
    "    for i in range(len(lists)):\n",
    "        heappush(minHeap, (lists[i][0], 0, lists[i])) # values, current position, list\n",
    "    \n",
    "    for i in range(k):\n",
    "        \n",
    "        number, i, l = heappop(minHeap)\n",
    "        \n",
    "        # the list is empty\n",
    "        if len(l) > i+1:\n",
    "            heappush(minHeap, (l[i+1], i+1, l))\n",
    "        \n",
    "    return number\n",
    "        \n",
    "        "
   ]
  },
  {
   "cell_type": "code",
   "execution_count": 9,
   "metadata": {},
   "outputs": [
    {
     "data": {
      "text/plain": [
       "4"
      ]
     },
     "execution_count": 9,
     "metadata": {},
     "output_type": "execute_result"
    }
   ],
   "source": [
    "lists = [[2, 6, 8], [3, 6, 7], [1, 3, 4]]\n",
    "key = 5\n",
    "\n",
    "solution(lists, key)\n"
   ]
  },
  {
   "cell_type": "code",
   "execution_count": null,
   "metadata": {},
   "outputs": [],
   "source": []
  }
 ],
 "metadata": {
  "kernelspec": {
   "display_name": "Python 3",
   "language": "python",
   "name": "python3"
  },
  "language_info": {
   "codemirror_mode": {
    "name": "ipython",
    "version": 3
   },
   "file_extension": ".py",
   "mimetype": "text/x-python",
   "name": "python",
   "nbconvert_exporter": "python",
   "pygments_lexer": "ipython3",
   "version": "3.8.2"
  }
 },
 "nbformat": 4,
 "nbformat_minor": 4
}
