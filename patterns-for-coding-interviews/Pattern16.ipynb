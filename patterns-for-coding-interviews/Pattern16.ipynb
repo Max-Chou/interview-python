{
 "cells": [
  {
   "cell_type": "markdown",
   "metadata": {},
   "source": [
    "# Topological Sort (Graph)\n",
    "\n",
    "Topological Sort is used to find a linear ordering of elements that have dependencies on each other. For example, if event ‘B’ is dependent on event ‘A’, ‘A’ comes before ‘B’ in topological ordering.\n",
    "\n",
    "This pattern defines an easy way to understand the technique for performing topological sorting of a set of elements and then solves a few problems using it.\n"
   ]
  },
  {
   "cell_type": "markdown",
   "metadata": {},
   "source": [
    "## How to build a graph?\n",
    "\n",
    "1. Define the vertex and edge by class.\n",
    "\n",
    "2. Use dictionary and other data types."
   ]
  },
  {
   "cell_type": "markdown",
   "metadata": {},
   "source": [
    "## Topological Sort (medium)\n",
    "\n",
    "Topological Sort of a directed graph (a graph with unidirectional edges) is a linear ordering of its vertices such that for every directed edge (U, V) from vertex U to vertex V, U comes before V in the ordering."
   ]
  },
  {
   "cell_type": "markdown",
   "metadata": {},
   "source": [
    "**Solution 1** From educative"
   ]
  },
  {
   "cell_type": "code",
   "execution_count": 5,
   "metadata": {},
   "outputs": [],
   "source": [
    "from collections import deque\n",
    "\n",
    "def solution(n, edges):\n",
    "    sortedOrder = []\n",
    "    \n",
    "    if n <= 0:\n",
    "        return sortedOrder\n",
    "    \n",
    "    # initialize the graph\n",
    "    inDegree = {i: 0 for i in range(n)}\n",
    "    graph = {i: [] for i in range(n)}\n",
    "    \n",
    "    # build the graph\n",
    "    for edge in edges:\n",
    "        start, end = edge[0], edge[1]\n",
    "        graph[start].append(end)\n",
    "        inDegree[end] += 1\n",
    "\n",
    "    # find all sources\n",
    "    sources = deque()\n",
    "    for key in inDegree:\n",
    "        if inDegree[key] == 0:\n",
    "            sources.append(key)\n",
    "\n",
    "    # for each source, add it to the sortedOrder and subtract one from all of its Children's in-degrees\n",
    "    while sources:\n",
    "        \n",
    "        vertex = sources.popleft()\n",
    "        sortedOrder.append(vertex)\n",
    "        for end in graph[vertex]:\n",
    "            inDegree[end] -= 1\n",
    "            if inDegree[end] == 0:\n",
    "                sources.append(end)\n",
    "    \n",
    "    if len(sortedOrder) != n:\n",
    "        return []\n",
    "\n",
    "    return sortedOrder\n"
   ]
  },
  {
   "cell_type": "markdown",
   "metadata": {},
   "source": [
    "### Test"
   ]
  },
  {
   "cell_type": "code",
   "execution_count": 6,
   "metadata": {},
   "outputs": [
    {
     "data": {
      "text/plain": [
       "[3, 2, 0, 1]"
      ]
     },
     "execution_count": 6,
     "metadata": {},
     "output_type": "execute_result"
    }
   ],
   "source": [
    "n = 4\n",
    "arr = [[3, 2], [3, 0], [2, 0], [2, 1]]\n",
    "solution(4, arr)"
   ]
  },
  {
   "cell_type": "markdown",
   "metadata": {},
   "source": [
    "### Sub-Problem\n",
    "\n",
    "Find if a given Directed Graph has a cycle in it or not."
   ]
  },
  {
   "cell_type": "markdown",
   "metadata": {},
   "source": [
    "## Tasks Scheduling (medium)\n",
    "\n",
    "There are ‘N’ tasks, labeled from ‘0’ to ‘N-1’. Each task can have some prerequisite tasks which need to be completed before it can be scheduled. Given the number of tasks and a list of prerequisite pairs, find out if it is possible to schedule all the tasks."
   ]
  },
  {
   "cell_type": "markdown",
   "metadata": {},
   "source": [
    "**Solution 1** Calculate in-degree and out-degree"
   ]
  },
  {
   "cell_type": "code",
   "execution_count": null,
   "metadata": {},
   "outputs": [],
   "source": [
    "from collections import deque\n",
    "\n",
    "def solution(n, arr):\n",
    "    \n",
    "    #schedule = []\n",
    "    \n",
    "    # initialize graph\n",
    "    inDegree = {i: 0 for i in range(n)}\n",
    "    outDegree = {i: 0 for i in range(n)}\n",
    "    graph = {i: [] for i in range(n)}\n",
    "    \n",
    "    # build the graph\n",
    "    for a in arr:\n",
    "        start, end = a[0], a[1]\n",
    "        \n",
    "        # adjacency list and in-degree of vertex\n",
    "        graph[start].append(a[1])\n",
    "        inDegree[end] += 1\n",
    "        outDegree[start] += 1\n",
    "    \n",
    "    # check the sinks and sources\n",
    "    sources = deque()\n",
    "    sinks = deque()\n",
    "    for key in inDegree:\n",
    "        if inDegree[key] == 0:\n",
    "            sources.append(key)\n",
    "    \n",
    "    for key in outDegree:\n",
    "        if outDegree[key] == 0:\n",
    "            sinks.append(key)\n",
    "    \n",
    "    \n",
    "    if len(sources) == 0:\n",
    "        return False\n",
    "    \n",
    "    if len(sinks) == 0:\n",
    "        return False\n",
    "    \n",
    "    return True\n"
   ]
  },
  {
   "cell_type": "markdown",
   "metadata": {},
   "source": [
    "### Sub-Problem\n",
    "\n",
    "There are ‘N’ courses, labeled from ‘0’ to ‘N-1’. Each course can have some prerequisite courses which need to be completed before it can be taken. Given the number of courses and a list of prerequisite pairs, find if it is possible for a student to take all the courses.\n"
   ]
  },
  {
   "cell_type": "markdown",
   "metadata": {},
   "source": [
    "## Tasks Scheduling Order (medium)\n",
    "\n",
    "There are ‘N’ tasks, labeled from ‘0’ to ‘N-1’. Each task can have some prerequisite tasks which need to be completed before it can be scheduled. Given the number of tasks and a list of prerequisite pairs, write a method to find the ordering of tasks we should pick to finish all tasks."
   ]
  },
  {
   "cell_type": "markdown",
   "metadata": {},
   "source": [
    "**Solution 1**"
   ]
  },
  {
   "cell_type": "code",
   "execution_count": 2,
   "metadata": {},
   "outputs": [],
   "source": [
    "from collections import deque\n",
    "\n",
    "def solution(n, arr):\n",
    "    \n",
    "    schedule = []\n",
    "    \n",
    "    # initialize graph\n",
    "    inDegree = {i: 0 for i in range(n)}\n",
    "    outDegree = {i: 0 for i in range(n)}\n",
    "    graph = {i: [] for i in range(n)}\n",
    "    \n",
    "    # build the graph\n",
    "    for a in arr:\n",
    "        start, end = a[0], a[1]\n",
    "        \n",
    "        # adjacency list and in-degree of vertex\n",
    "        graph[start].append(a[1])\n",
    "        inDegree[end] += 1\n",
    "        outDegree[start] += 1\n",
    "    \n",
    "    # check the sinks and sources\n",
    "    sources = deque()\n",
    "    sinks = deque()\n",
    "    for key in inDegree:\n",
    "        if inDegree[key] == 0:\n",
    "            sources.append(key)\n",
    "    \n",
    "    for key in outDegree:\n",
    "        if outDegree[key] == 0:\n",
    "            sinks.append(key)\n",
    "    \n",
    "    \n",
    "    if len(sources) == 0:\n",
    "        return schedule\n",
    "    \n",
    "    if len(sinks) == 0:\n",
    "        return schedule\n",
    "    \n",
    "\n",
    "    while sources:\n",
    "        \n",
    "        v = sources.popleft()\n",
    "        schedule.append(v)\n",
    "        for w in graph[v]:\n",
    "            inDegree[w] -= 1\n",
    "            if inDegree[w] == 0:\n",
    "                sources.append(w)\n",
    "        \n",
    "    return schedule\n",
    "\n",
    "    "
   ]
  },
  {
   "cell_type": "code",
   "execution_count": 4,
   "metadata": {},
   "outputs": [
    {
     "data": {
      "text/plain": [
       "[0, 1, 4, 3, 2, 5]"
      ]
     },
     "execution_count": 4,
     "metadata": {},
     "output_type": "execute_result"
    }
   ],
   "source": [
    "n = 6\n",
    "arr = [[2, 5], [0, 5], [0, 4], [1, 4], [3, 2], [1, 3]]\n",
    "\n",
    "\n",
    "\n",
    "solution(n, arr)"
   ]
  },
  {
   "cell_type": "markdown",
   "metadata": {},
   "source": [
    "### Sub-Problem\n",
    "\n",
    "There are ‘N’ courses, labeled from ‘0’ to ‘N-1’. Each course has some prerequisite courses which need to be completed before it can be taken. Given the number of courses and a list of prerequisite pairs, write a method to find the best ordering of the courses that a student can take in order to finish all courses."
   ]
  },
  {
   "cell_type": "markdown",
   "metadata": {},
   "source": [
    "## All Tasks Scheduling Orders (hard)\n",
    "\n",
    "There are ‘N’ tasks, labeled from ‘0’ to ‘N-1’. Each task can have some prerequisite tasks which need to be completed before it can be scheduled. Given the number of tasks and a list of prerequisite pairs, write a method to print all possible ordering of tasks meeting all prerequisites."
   ]
  },
  {
   "cell_type": "code",
   "execution_count": null,
   "metadata": {},
   "outputs": [],
   "source": [
    "from collections import deque\n",
    "\n",
    "def solution(n, arr):\n",
    "    \n",
    "    schedules = [[]]\n",
    "    \n",
    "    # initialize graph\n",
    "    inDegree = {i: 0 for i in range(n)}\n",
    "    outDegree = {i: 0 for i in range(n)}\n",
    "    graph = {i: [] for i in range(n)}\n",
    "    \n",
    "    # build the graph\n",
    "    for a in arr:\n",
    "        start, end = a[0], a[1]\n",
    "        \n",
    "        # adjacency list and in-degree of vertex\n",
    "        graph[start].append(a[1])\n",
    "        inDegree[end] += 1\n",
    "        outDegree[start] += 1\n",
    "    \n",
    "    # check the sinks and sources\n",
    "    sources = deque()\n",
    "    sinks = deque()\n",
    "    for key in inDegree:\n",
    "        if inDegree[key] == 0:\n",
    "            sources.append(key)\n",
    "    \n",
    "    for key in outDegree:\n",
    "        if outDegree[key] == 0:\n",
    "            sinks.append(key)\n",
    "    \n",
    "    \n",
    "    if len(sources) == 0:\n",
    "        return schedule\n",
    "    \n",
    "    if len(sinks) == 0:\n",
    "        return schedule\n",
    "    \n",
    "    \n",
    "\n",
    "        \n",
    "    return schedules\n"
   ]
  },
  {
   "cell_type": "code",
   "execution_count": 12,
   "metadata": {},
   "outputs": [],
   "source": [
    "def recursive(graph, inDegree, sources, schedule, schedules):\n",
    "    \n",
    "    # there is sources\n",
    "    if sources:\n",
    "        for v in sources:\n",
    "            schedule.append(v)\n",
    "            sources2 = deque(sources)\n",
    "            sources2.remove(v)\n",
    "\n",
    "            # with v\n",
    "            for w in graph[v]:\n",
    "                inDegree[w] -= 1\n",
    "                if inDegree[w] == 0:\n",
    "                    sources2.append(w)\n",
    "            \n",
    "            recursive(graph, inDegree, sources2, schedule, schedules)\n",
    "            \n",
    "            # without v\n",
    "            schedule.remove(v)\n",
    "            for w in graph[v]:\n",
    "                inDegree[w] += 1\n",
    "\n",
    "    if len(schedule) == len(inDegree):\n",
    "        schedules.append(list(schedule))\n",
    "\n",
    "from collections import deque\n",
    "\n",
    "def solution(n, arr):\n",
    "    \n",
    "    schedules = []\n",
    "    schedule = []\n",
    "    \n",
    "    # initialize graph\n",
    "    inDegree = {i: 0 for i in range(n)}\n",
    "    outDegree = {i: 0 for i in range(n)}\n",
    "    graph = {i: [] for i in range(n)}\n",
    "    \n",
    "    # build the graph\n",
    "    for a in arr:\n",
    "        start, end = a[0], a[1]\n",
    "        \n",
    "        # adjacency list and in-degree of vertex\n",
    "        graph[start].append(a[1])\n",
    "        inDegree[end] += 1\n",
    "        outDegree[start] += 1\n",
    "    \n",
    "    # check the sinks and sources\n",
    "    sources = deque()\n",
    "    sinks = deque()\n",
    "    for key in inDegree:\n",
    "        if inDegree[key] == 0:\n",
    "            sources.append(key)\n",
    "    \n",
    "    for key in outDegree:\n",
    "        if outDegree[key] == 0:\n",
    "            sinks.append(key)\n",
    "    \n",
    "    \n",
    "    if len(sources) == 0:\n",
    "        return schedules\n",
    "    \n",
    "    if len(sinks) == 0:\n",
    "        return schedules\n",
    "    \n",
    "    \n",
    "    recursive(graph, inDegree, sources, schedule, schedules)\n",
    "\n",
    "        \n",
    "    return schedules"
   ]
  },
  {
   "cell_type": "code",
   "execution_count": 13,
   "metadata": {},
   "outputs": [
    {
     "data": {
      "text/plain": [
       "[[0, 1, 4, 3, 2, 5],\n",
       " [0, 1, 3, 4, 2, 5],\n",
       " [0, 1, 3, 2, 4, 5],\n",
       " [0, 1, 3, 2, 5, 4],\n",
       " [1, 0, 3, 4, 2, 5],\n",
       " [1, 0, 3, 2, 4, 5],\n",
       " [1, 0, 3, 2, 5, 4],\n",
       " [1, 0, 4, 3, 2, 5],\n",
       " [1, 3, 0, 2, 4, 5],\n",
       " [1, 3, 0, 2, 5, 4],\n",
       " [1, 3, 0, 4, 2, 5],\n",
       " [1, 3, 2, 0, 5, 4],\n",
       " [1, 3, 2, 0, 4, 5]]"
      ]
     },
     "execution_count": 13,
     "metadata": {},
     "output_type": "execute_result"
    }
   ],
   "source": [
    "n = 6\n",
    "arr = [[2, 5], [0, 5], [0, 4], [1, 4], [3, 2], [1, 3]]\n",
    "solution(n, arr)"
   ]
  },
  {
   "cell_type": "markdown",
   "metadata": {},
   "source": [
    "## Alien Dictionary (hard)\n",
    "\n",
    "There is a dictionary containing words from an alien language for which we don’t know the ordering of the characters. Write a method to find the correct order of characters in the alien language."
   ]
  },
  {
   "cell_type": "code",
   "execution_count": 16,
   "metadata": {},
   "outputs": [],
   "source": [
    "def solution(words):\n",
    "    \n",
    "    # initialize graph\n",
    "    inDegree = {}\n",
    "    graph = {}\n",
    "    \n",
    "    for word in words:\n",
    "        for char in word:\n",
    "            inDegree[char] = 0\n",
    "            graph[char] = []\n",
    "    \n",
    "    # build the graph\n",
    "    for i in range(0, len(words)-1):\n",
    "        w1, w2 = words[i], words[i+1]\n",
    "        \n",
    "        for j in range(0, min(len(w1), len(w2))):\n",
    "            start, end = w1[j], w2[j]\n",
    "            if start != end:\n",
    "                graph[start].append(end)\n",
    "                inDegree[end] += 1\n",
    "                break\n",
    "    \n",
    "    # find all sources\n",
    "    sources = deque()\n",
    "    for key in inDegree:\n",
    "        if inDegree[key] == 0:\n",
    "            sources.append(key)\n",
    "    \n",
    "    # for each source, add it to sortedOrder\n",
    "    sortedOrder = []\n",
    "    while sources:\n",
    "        v = sources.popleft()\n",
    "        sortedOrder.append(v)\n",
    "        for end in graph[v]:\n",
    "            inDegree[end] -= 1\n",
    "            if inDegree[end] == 0:\n",
    "                sources.append(end)\n",
    "    \n",
    "    \n",
    "    # cyclic \n",
    "    if len(sortedOrder) != len(inDegree):\n",
    "        return \"\"\n",
    "    \n",
    "    return ''.join(sortedOrder)   \n",
    "    \n",
    "    "
   ]
  },
  {
   "cell_type": "code",
   "execution_count": 17,
   "metadata": {},
   "outputs": [
    {
     "data": {
      "text/plain": [
       "'bac'"
      ]
     },
     "execution_count": 17,
     "metadata": {},
     "output_type": "execute_result"
    }
   ],
   "source": [
    "arr = [\"ba\", \"bc\", \"ac\", \"cab\"]\n",
    "\n",
    "solution(arr)"
   ]
  },
  {
   "cell_type": "code",
   "execution_count": null,
   "metadata": {},
   "outputs": [],
   "source": []
  }
 ],
 "metadata": {
  "kernelspec": {
   "display_name": "Python 3",
   "language": "python",
   "name": "python3"
  },
  "language_info": {
   "codemirror_mode": {
    "name": "ipython",
    "version": 3
   },
   "file_extension": ".py",
   "mimetype": "text/x-python",
   "name": "python",
   "nbconvert_exporter": "python",
   "pygments_lexer": "ipython3",
   "version": "3.8.2"
  }
 },
 "nbformat": 4,
 "nbformat_minor": 4
}
