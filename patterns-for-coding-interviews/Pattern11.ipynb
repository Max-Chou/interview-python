{
 "cells": [
  {
   "cell_type": "markdown",
   "metadata": {},
   "source": [
    "# Modified Binary Search\n",
    "\n",
    "As we know, whenever we are given a sorted Array or LinkedList or Matrix, and we are asked to find a certain element, the best algorithm we can use is the Binary Search.\n",
    "\n",
    "This pattern describes an efficient way to handle all problems involving Binary Search. We will go through a set of problems that will help us build an understanding of this pattern so that we can apply this technique to other problems we might come across in the interviews."
   ]
  },
  {
   "cell_type": "markdown",
   "metadata": {},
   "source": [
    "## Order-agnostic Binary Search (easy)\n",
    "\n",
    "\n",
    "Given a sorted array of numbers, find if a given number ‘key’ is present in the array. Though we know that the array is sorted, we don’t know if it’s sorted in ascending or descending order. You should assume that the array can have duplicates."
   ]
  },
  {
   "cell_type": "code",
   "execution_count": 1,
   "metadata": {},
   "outputs": [],
   "source": [
    "def binary_search(arr, key):\n",
    "    n = len(arr)\n",
    "    \n",
    "    i = 0\n",
    "    j = n-1\n",
    "    while i <= j:\n",
    "        mid = (i+j)//2\n",
    "        if arr[mid] < key:\n",
    "            i = mid+1\n",
    "        elif arr[mid] > key:\n",
    "            j = mid-1\n",
    "        else:\n",
    "            return mid\n",
    "    \n",
    "    return -1\n"
   ]
  },
  {
   "cell_type": "code",
   "execution_count": 2,
   "metadata": {},
   "outputs": [
    {
     "data": {
      "text/plain": [
       "2"
      ]
     },
     "execution_count": 2,
     "metadata": {},
     "output_type": "execute_result"
    }
   ],
   "source": [
    "arr = [4, 6, 10]\n",
    "key = 10\n",
    "\n",
    "binary_search(arr, key)"
   ]
  },
  {
   "cell_type": "markdown",
   "metadata": {},
   "source": [
    "## Ceiling of a Number (medium)\n",
    "\n",
    "\n",
    "Given an array of numbers sorted in an ascending order, find the ceiling of a given number ‘key’. The ceiling of the ‘key’ will be the smallest element in the given array greater than or equal to the ‘key’."
   ]
  },
  {
   "cell_type": "code",
   "execution_count": 3,
   "metadata": {},
   "outputs": [],
   "source": [
    "def solution(arr, key):\n",
    "    n = len(arr)\n",
    "    \n",
    "    i = 0\n",
    "    j = n-1\n",
    "    while i <= j:\n",
    "        mid = (i+j)//2\n",
    "        \n",
    "        if i == j-1:\n",
    "            if arr[j] > key and arr[i] < key:\n",
    "                return j\n",
    "            \n",
    "            # extreme cases\n",
    "            if arr[j] < key:\n",
    "                return -1\n",
    "            if arr[i] > key:\n",
    "                return 0\n",
    "            \n",
    "        if arr[mid] < key:\n",
    "            i = mid\n",
    "        elif arr[mid] > key:\n",
    "            j = mid\n",
    "        else:\n",
    "            return mid\n",
    "    \n",
    "    return -1"
   ]
  },
  {
   "cell_type": "code",
   "execution_count": 4,
   "metadata": {},
   "outputs": [
    {
     "data": {
      "text/plain": [
       "0"
      ]
     },
     "execution_count": 4,
     "metadata": {},
     "output_type": "execute_result"
    }
   ],
   "source": [
    "arr = [4, 6, 10]\n",
    "key = -1\n",
    "solution(arr, key)\n"
   ]
  },
  {
   "cell_type": "markdown",
   "metadata": {},
   "source": [
    "## Next Letter (medium)\n",
    "\n",
    "Given an array of lowercase letters sorted in ascending order, find the smallest letter in the given array greater than a given ‘key’.\n",
    "\n",
    "Assume the given array is a circular list, which means that the last letter is assumed to be connected with the first letter. This also means that the smallest letter in the given array is greater than the last letter of the array and is also the first letter of the array."
   ]
  },
  {
   "cell_type": "code",
   "execution_count": 5,
   "metadata": {},
   "outputs": [],
   "source": [
    "def solution(arr, key):\n",
    "    n = len(arr)\n",
    "    \n",
    "    i = 0\n",
    "    j = n-1\n",
    "    \n",
    "    while i <= j:\n",
    "        mid = (i+j)//2\n",
    "        \n",
    "        if i == j-1:\n",
    "            if arr[j] > key and arr[i] <= key:\n",
    "                return arr[j]\n",
    "            \n",
    "            if arr[j] <= key:\n",
    "                return arr[0]\n",
    "            \n",
    "            if arr[i] > key:\n",
    "                return arr[0]\n",
    "            \n",
    "        if arr[mid] <= key:\n",
    "            i = mid\n",
    "\n",
    "        else:\n",
    "            j = mid\n",
    "\n",
    "    "
   ]
  },
  {
   "cell_type": "code",
   "execution_count": 6,
   "metadata": {},
   "outputs": [
    {
     "data": {
      "text/plain": [
       "9"
      ]
     },
     "execution_count": 6,
     "metadata": {},
     "output_type": "execute_result"
    }
   ],
   "source": [
    "arr = [1, 3, 9]\n",
    "key = 3\n",
    "solution(arr, key)"
   ]
  },
  {
   "cell_type": "code",
   "execution_count": null,
   "metadata": {},
   "outputs": [],
   "source": []
  }
 ],
 "metadata": {
  "kernelspec": {
   "display_name": "Python 3",
   "language": "python",
   "name": "python3"
  },
  "language_info": {
   "codemirror_mode": {
    "name": "ipython",
    "version": 3
   },
   "file_extension": ".py",
   "mimetype": "text/x-python",
   "name": "python",
   "nbconvert_exporter": "python",
   "pygments_lexer": "ipython3",
   "version": "3.8.2"
  }
 },
 "nbformat": 4,
 "nbformat_minor": 4
}
