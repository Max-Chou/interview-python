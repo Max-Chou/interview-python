{
 "cells": [
  {
   "cell_type": "markdown",
   "metadata": {},
   "source": [
    "# 0/1 Knapsack (Dynamic Programming)\n",
    "\n",
    "0/1 Knapsack pattern is based on the famous problem with the same name which is efficiently solved using Dynamic Programming (DP).\n",
    "\n",
    "In this pattern, we will go through a set of problems to develop an understanding of DP. We will always start with a brute-force recursive solution to see the overlapping subproblems, i.e., realizing that we are solving the same problems repeatedly.\n",
    "\n",
    "After the recursive solution, we will modify our algorithm to apply advanced techniques of Memoization and Bottom-Up Dynamic Programming to develop a complete understanding of this pattern."
   ]
  },
  {
   "cell_type": "markdown",
   "metadata": {},
   "source": [
    "## 0/1 Knapsack (medium)\n",
    "\n",
    "Given the weights and profits of ‘N’ items, we are asked to put these items in a knapsack which has a capacity ‘C’. The goal is to get the maximum profit out of the items in the knapsack. Each item can only be selected once, as we don’t have multiple quantities of any item.\n"
   ]
  },
  {
   "cell_type": "code",
   "execution_count": 1,
   "metadata": {},
   "outputs": [],
   "source": [
    "def knapsack(profits, weights, capacity):\n",
    "    \n",
    "    n = len(profits)\n",
    "    max_profit = 0\n",
    "    \n",
    "    # base case\n",
    "    if n == 1:\n",
    "        if weights[0] <= capacity:\n",
    "            return profits[0]\n",
    "        else:\n",
    "            return 0\n",
    "    \n",
    "    # recursive\n",
    "    for i in range(n):\n",
    "        current_profit = profits[i]\n",
    "        current_weight = weights[i]\n",
    "        rest_profits = profits[:i] + profits[i+1:]\n",
    "        rest_weights = weights[:i] + weights[i+1:]\n",
    "        \n",
    "        if capacity-current_weight >= 0:\n",
    "            current_profit += knapsack(rest_profits, rest_weights, capacity-current_weight)\n",
    "        else:\n",
    "            current_profit = 0\n",
    "        \n",
    "        max_profit = max(max_profit, current_profit)\n",
    "    \n",
    "    return max_profit"
   ]
  },
  {
   "cell_type": "markdown",
   "metadata": {},
   "source": [
    "**version 2**"
   ]
  },
  {
   "cell_type": "code",
   "execution_count": 2,
   "metadata": {},
   "outputs": [],
   "source": [
    "def knapsack(profits, weights, capacity):\n",
    "    return knapsack_recursive(profits, weights, capacity, 0)\n",
    "\n",
    "def knapsack_recursive(profits, weights, capacity, index):\n",
    "    n = len(profits)\n",
    "    \n",
    "    if capacity <= 0 or index >= n:\n",
    "        return 0\n",
    "    \n",
    "    # choose item with index\n",
    "    profit1 = 0\n",
    "    if weights[index] <= capacity:\n",
    "        profit1 = profits[index] + knapsack_recursive(profits, weights, capacity-weights[index], index+1)\n",
    "        \n",
    "    # don't choose item with index\n",
    "    profit2 = knapsack_recursive(profits, weights, capacity, index+1)\n",
    "    \n",
    "    return max(profit1, profit2)\n",
    "    \n"
   ]
  },
  {
   "cell_type": "markdown",
   "metadata": {},
   "source": [
    "**recursive + memoization or top-down**"
   ]
  },
  {
   "cell_type": "code",
   "execution_count": 3,
   "metadata": {},
   "outputs": [],
   "source": [
    "def memoization_knapsack(profits, weights, capacity):\n",
    "    n = len(profits)\n",
    "    dp = [[None for i in range(capacity+1)] for j in range(n)]\n",
    "    \n",
    "    return knapsack_recursive(dp, profits, weights, capacity, 0)\n",
    "\n",
    "\n",
    "\n",
    "def knapsack_recursive(dp, profits, weights, capacity, index):\n",
    "    \n",
    "    n = len(profits)\n",
    "    \n",
    "    if capacity <= 0 or index >= n:\n",
    "        return 0\n",
    "    \n",
    "    # if we have a record\n",
    "    if dp[index][capacity]:\n",
    "        return dp[index][capacity]\n",
    "\n",
    "    profit1 = 0\n",
    "    if weights[index] <= capacity:\n",
    "        profit1 = profits[index] + knapsack_recursive(dp, profits, weights, capacity-weights[index], index+1)\n",
    "    \n",
    "    profit2 = knapsack_recursive(dp, profits, weights, capacity, index+1)\n",
    "    \n",
    "    dp[index][capacity] = max(profit1, profit2)\n",
    "    \n",
    "    return dp[index][capacity]"
   ]
  },
  {
   "cell_type": "markdown",
   "metadata": {},
   "source": [
    "**buttom-up**"
   ]
  },
  {
   "cell_type": "code",
   "execution_count": 4,
   "metadata": {},
   "outputs": [],
   "source": [
    "def knapsack_dynamic(profits, weights, capacity):\n",
    "    \n",
    "    n = len(profits)\n",
    "    \n",
    "    # initialization \n",
    "    dp = [[0 for i in range(capacity+1)] for j in range(n)]\n",
    "    \n",
    "    for i in range(0, n):\n",
    "        dp[i][0] = 0\n",
    "        \n",
    "    for c in range(0, capacity):\n",
    "        if weights[0] <= c:\n",
    "            dp[0][c] = profits[0]\n",
    "    \n",
    "    for i in range(1, n):\n",
    "        for c in range(1, capacity+1):\n",
    "            profit1, profit2 = 0, 0\n",
    "            \n",
    "            # choose that item\n",
    "            if weights[i] <= c:\n",
    "                profit1 = profits[i] + dp[i-1][c-weights[i]]\n",
    "    \n",
    "            # don't choose that item\n",
    "            profit2 = dp[i-1][c]\n",
    "            \n",
    "            dp[i][c] = max(profit1, profit2)\n",
    "    \n",
    "    return dp[n-1][capacity]\n",
    "    "
   ]
  },
  {
   "cell_type": "markdown",
   "metadata": {},
   "source": [
    "**improved buttom-up algorithm**\n",
    "\n",
    "Since the total profit is dependent only on previous row."
   ]
  },
  {
   "cell_type": "code",
   "execution_count": 5,
   "metadata": {},
   "outputs": [],
   "source": [
    "def knapsack_dynamic(profits, weights, capacity):\n",
    "    \n",
    "    n = len(profits)\n",
    "    \n",
    "    # initialization \n",
    "    dp = [0 for i in range(capacity+1)]\n",
    "\n",
    "    for c in range(0, capacity):\n",
    "        if weights[0] <= c:\n",
    "            dp[c] = profits[0]\n",
    "    \n",
    "    for i in range(1, n):\n",
    "        for c in range(1, capacity+1):\n",
    "            profit1, profit2 = 0, 0\n",
    "            \n",
    "            # choose that item\n",
    "            if weights[i] <= c:\n",
    "                profit1 = profits[i] + dp[c-weights[i]]\n",
    "    \n",
    "            # don't choose that item\n",
    "            profit2 = dp[c]\n",
    "            \n",
    "            dp[c] = max(profit1, profit2)\n",
    "    \n",
    "    return dp[capacity]"
   ]
  },
  {
   "cell_type": "code",
   "execution_count": 6,
   "metadata": {},
   "outputs": [
    {
     "name": "stdout",
     "output_type": "stream",
     "text": [
      "26\n"
     ]
    }
   ],
   "source": [
    "print(knapsack_dynamic([1, 6, 10, 16], [1, 2, 3, 5], 8))"
   ]
  },
  {
   "cell_type": "markdown",
   "metadata": {},
   "source": [
    "## Equal Subset Sum Partition (medium)\n",
    "\n",
    "Given a set of positive numbers, find if we can partition it into two subsets such that the sum of elements in both subsets is equal.\n"
   ]
  },
  {
   "cell_type": "code",
   "execution_count": 7,
   "metadata": {},
   "outputs": [],
   "source": [
    "def partition(arr):\n",
    "    \n",
    "    buckets = [ [], [] ] # two buckets\n",
    "    heap = [(0, 0), (0, 1)] # values and index of buckets\n",
    "    \n",
    "    for a in sorted(arr, reverse=True):\n",
    "        val, idx = heappop(heap)\n",
    "        \n",
    "        new_num = val + num\n",
    "        buckets[idx].append(new_num)\n",
    "        \n",
    "        heappush(heap, (new_num, idx))\n",
    "        \n",
    "    if heap[0][0] == heap[1][0]:\n",
    "        return True\n",
    "    \n",
    "    return False"
   ]
  },
  {
   "cell_type": "code",
   "execution_count": null,
   "metadata": {},
   "outputs": [],
   "source": [
    "def partition(arr):\n",
    "    \n",
    "    s = sum(arr)\n",
    "    if s % 2 != 0:\n",
    "        return False\n",
    "    \n",
    "    return partition_recursive(arr, s/2, 0)\n",
    "\n",
    "def partition_recursive(arr, s, idx):\n",
    "    \n",
    "    # base case\n",
    "    if s == 0:\n",
    "        return True\n",
    "\n",
    "    n = len(arr)\n",
    "    if n == 0 or idx >= n:\n",
    "        return False\n",
    "    \n",
    "    # choose this item\n",
    "    if arr[idx] <= s:\n",
    "        if partition_recursive(arr, s-arr[idx], idx+1):\n",
    "            return True\n",
    "    # don't choose this item\n",
    "    return partition_recursive(arr, s, idx+1)\n",
    "\n",
    "    "
   ]
  },
  {
   "cell_type": "code",
   "execution_count": null,
   "metadata": {},
   "outputs": [],
   "source": [
    "def partition(arr):\n",
    "    \n",
    "    s = sum(arr)\n",
    "    if s % 2 != 0:\n",
    "        return False\n",
    "    \n",
    "    dp = [[None for i in range(int(s/2)+1)] for j in range(len(arr))]\n",
    "    \n",
    "    return partition_recursive(dp, arr, s/2, 0)\n",
    "\n",
    "def partition_recursive(dp, arr, s, idx):\n",
    "    \n",
    "    # base case\n",
    "    if s == 0:\n",
    "        return True\n",
    "\n",
    "    n = len(arr)\n",
    "    if n == 0 or idx >= n:\n",
    "        return False\n",
    "    \n",
    "    \n",
    "    if dp[idx][int(s)] is not None:\n",
    "        return dp[idx][int(s)]\n",
    "    \n",
    "    \n",
    "    # choose this item\n",
    "    if arr[idx] <= s:\n",
    "        dp[idx][int(s)] = partition_recursive(dp, arr, s-arr[idx], idx+1)\n",
    "    # don't choose this item\n",
    "    \n",
    "    dp[idx][int(s)] = dp[idx][int(s)] or partition_recursive(dp, arr, s, idx+1)\n",
    "\n",
    "    return dp[idx][int(s)]\n",
    "    "
   ]
  },
  {
   "cell_type": "code",
   "execution_count": 8,
   "metadata": {},
   "outputs": [],
   "source": [
    "def partition(arr):\n",
    "    \n",
    "    s = sum(arr)\n",
    "    \n",
    "    if s % 2 !=0:\n",
    "        return False\n",
    "    \n",
    "    s = int(s / 2)\n",
    "    \n",
    "    n = len(arr)\n",
    "    dp = [[ False for i in range(s+1)] for j in range(n)]\n",
    "    \n",
    "    for i in range(0,n):\n",
    "        dp[i][0] = True\n",
    "    \n",
    "    for j in range(1, s+1):\n",
    "        dp[0][j] = arr[0] == j \n",
    "    \n",
    "    for i in range(1, n):\n",
    "        for j in range(1, s+1):\n",
    "            if dp[i-1][j]:\n",
    "                dp[i][j] = dp[i-1][j]\n",
    "            elif j >= arr[i]:\n",
    "                dp[i][j] = dp[i-1][j-arr[i]]\n",
    "    \n",
    "    return dp[n-1][s]"
   ]
  },
  {
   "cell_type": "code",
   "execution_count": 9,
   "metadata": {},
   "outputs": [
    {
     "data": {
      "text/plain": [
       "True"
      ]
     },
     "execution_count": 9,
     "metadata": {},
     "output_type": "execute_result"
    }
   ],
   "source": [
    "arr = [2, 3, 4, 5]\n",
    "partition(arr)"
   ]
  },
  {
   "cell_type": "code",
   "execution_count": null,
   "metadata": {},
   "outputs": [],
   "source": []
  }
 ],
 "metadata": {
  "kernelspec": {
   "display_name": "Python 3",
   "language": "python",
   "name": "python3"
  },
  "language_info": {
   "codemirror_mode": {
    "name": "ipython",
    "version": 3
   },
   "file_extension": ".py",
   "mimetype": "text/x-python",
   "name": "python",
   "nbconvert_exporter": "python",
   "pygments_lexer": "ipython3",
   "version": "3.8.2"
  }
 },
 "nbformat": 4,
 "nbformat_minor": 4
}
