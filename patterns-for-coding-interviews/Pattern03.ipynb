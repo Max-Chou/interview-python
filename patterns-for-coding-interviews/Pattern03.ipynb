{
 "cells": [
  {
   "cell_type": "markdown",
   "metadata": {},
   "source": [
    "# Fast & Slow Pointers\n",
    "\n",
    "The Fast & Slow pointer approach, also known as the Hare & Tortoise algorithm, is a pointer algorithm that uses two pointers which move through the array (or sequence/LinkedList) at different speeds. This approach is quite useful when dealing with cyclic LinkedLists or arrays.\n",
    "\n"
   ]
  },
  {
   "cell_type": "markdown",
   "metadata": {},
   "source": [
    "## LinkedList Cycle (easy)\n",
    "\n",
    "Given the head of a Singly LinkedList, write a function to determine if the LinkedList has a cycle in it or not."
   ]
  },
  {
   "cell_type": "code",
   "execution_count": 1,
   "metadata": {},
   "outputs": [],
   "source": [
    "# linked-list node\n",
    "class Node:\n",
    "    def __init__(self, val, nex=None):\n",
    "        self.val = val\n",
    "        self.nex = nex\n"
   ]
  },
  {
   "cell_type": "markdown",
   "metadata": {},
   "source": [
    "### Solution01"
   ]
  },
  {
   "cell_type": "code",
   "execution_count": 2,
   "metadata": {},
   "outputs": [],
   "source": [
    "def solution01(head):\n",
    "    \n",
    "    slow = head\n",
    "    fast = head\n",
    "    while fast:\n",
    "        fast = fast.nex\n",
    "        if not fast:\n",
    "            return False\n",
    "        fast = fast.nex\n",
    "        \n",
    "        slow = slow.nex\n",
    "        \n",
    "        if fast is slow:\n",
    "            return True\n",
    "    \n",
    "    return False\n"
   ]
  },
  {
   "cell_type": "markdown",
   "metadata": {},
   "source": [
    "### Test Cases\n",
    "\n",
    "Simple Case"
   ]
  },
  {
   "cell_type": "code",
   "execution_count": 4,
   "metadata": {
    "scrolled": true
   },
   "outputs": [
    {
     "name": "stdout",
     "output_type": "stream",
     "text": [
      "False\n",
      "True\n"
     ]
    }
   ],
   "source": [
    "head = Node(1)\n",
    "head.nex = Node(2)\n",
    "head.nex.nex = Node(3)\n",
    "head.nex.nex.nex = Node(4)\n",
    "head.nex.nex.nex.nex = Node(5)\n",
    "head.nex.nex.nex.nex.nex = Node(6)\n",
    "\n",
    "print(solution01(head))\n",
    "\n",
    "head.nex.nex.nex.nex.nex.nex = head.nex.nex\n",
    "head.nex.nex.nex.nex.nex.nex = head.nex.nex.nex\n",
    "\n",
    "print(solution01(head))"
   ]
  },
  {
   "cell_type": "markdown",
   "metadata": {},
   "source": [
    "**Sub-Problem**\n",
    "\n",
    "Given the head of a LinkedList with a cycle, find the length of the cycle."
   ]
  },
  {
   "cell_type": "code",
   "execution_count": 5,
   "metadata": {},
   "outputs": [],
   "source": [
    "def solution01(head):\n",
    "    slow = head\n",
    "    fast = head\n",
    "    while fast:\n",
    "        fast = fast.nex\n",
    "        if not fast:\n",
    "            return False\n",
    "        fast = fast.nex\n",
    "        \n",
    "        slow = slow.nex\n",
    "        \n",
    "        if fast is slow:\n",
    "            break\n",
    "    \n",
    "    fast = fast.nex\n",
    "    length = 1\n",
    "    while fast is not slow:\n",
    "        fast = fast.nex\n",
    "        length += 1\n",
    "    \n",
    "    return length\n",
    "    "
   ]
  },
  {
   "cell_type": "code",
   "execution_count": 6,
   "metadata": {},
   "outputs": [
    {
     "name": "stdout",
     "output_type": "stream",
     "text": [
      "4\n",
      "3\n"
     ]
    }
   ],
   "source": [
    "head = Node(1)\n",
    "head.nex = Node(2)\n",
    "head.nex.nex = Node(3)\n",
    "head.nex.nex.nex = Node(4)\n",
    "head.nex.nex.nex.nex = Node(5)\n",
    "head.nex.nex.nex.nex.nex = Node(6)\n",
    "head.nex.nex.nex.nex.nex.nex = head.nex.nex\n",
    "print(solution01(head))\n",
    "\n",
    "head.nex.nex.nex.nex.nex.nex = head.nex.nex.nex\n",
    "print(solution01(head))\n"
   ]
  },
  {
   "cell_type": "markdown",
   "metadata": {},
   "source": [
    "## Start of LinkedList Cycle (medium)\n",
    "\n",
    "Given the head of a Singly LinkedList that contains a cycle, write a function to find the starting node of the cycle.\n"
   ]
  },
  {
   "cell_type": "markdown",
   "metadata": {},
   "source": [
    "### Solution01\n",
    "\n",
    "1. find the length of the cycle, suppose it's k.\n",
    "2. move the fast pointer ahead k nodes.\n",
    "3. move both pointers and count the nodes they pass."
   ]
  },
  {
   "cell_type": "code",
   "execution_count": 10,
   "metadata": {},
   "outputs": [],
   "source": [
    "def cycle_length(head):\n",
    "    slow = head\n",
    "    fast = head\n",
    "    while fast:\n",
    "        fast = fast.nex\n",
    "        if not fast:\n",
    "            return False\n",
    "        fast = fast.nex\n",
    "        \n",
    "        slow = slow.nex\n",
    "        \n",
    "        if fast is slow:\n",
    "            break\n",
    "    \n",
    "    fast = fast.nex\n",
    "    length = 1\n",
    "    while fast is not slow:\n",
    "        fast = fast.nex\n",
    "        length += 1\n",
    "    \n",
    "    return length\n",
    "\n",
    "def solution01(head):\n",
    "    \n",
    "    p = cycle_length(head)\n",
    "    \n",
    "    slow = head\n",
    "    fast = head\n",
    "    for i in range(p):\n",
    "        fast = fast.nex\n",
    "    \n",
    "    c = 1\n",
    "    while fast is not slow:\n",
    "        fast = fast.nex\n",
    "        slow = slow.nex\n",
    "        c += 1\n",
    "        \n",
    "    return c\n",
    "    "
   ]
  },
  {
   "cell_type": "code",
   "execution_count": 11,
   "metadata": {},
   "outputs": [
    {
     "name": "stdout",
     "output_type": "stream",
     "text": [
      "3\n",
      "4\n",
      "1\n"
     ]
    }
   ],
   "source": [
    "head = Node(1)\n",
    "head.nex = Node(2)\n",
    "head.nex.nex = Node(3)\n",
    "head.nex.nex.nex = Node(4)\n",
    "head.nex.nex.nex.nex = Node(5)\n",
    "head.nex.nex.nex.nex.nex = Node(6)\n",
    "\n",
    "head.nex.nex.nex.nex.nex.nex = head.nex.nex\n",
    "print(solution01(head))\n",
    "\n",
    "head.nex.nex.nex.nex.nex.nex = head.nex.nex.nex\n",
    "print(solution01(head))\n",
    "\n",
    "\n",
    "head.nex.nex.nex.nex.nex.nex = head\n",
    "print(solution01(head))\n"
   ]
  },
  {
   "cell_type": "markdown",
   "metadata": {},
   "source": [
    "## Happy Number (medium)"
   ]
  },
  {
   "cell_type": "code",
   "execution_count": 2,
   "metadata": {},
   "outputs": [],
   "source": [
    "def find_square(num):\n",
    "    s = 0\n",
    "    while num > 0:\n",
    "        digit = num % 10\n",
    "        s += digit**2\n",
    "        num = num // 10\n",
    "    \n",
    "    return s\n",
    "\n",
    "def solution(num):\n",
    "    \n",
    "    slow = num\n",
    "    fast = num\n",
    "    \n",
    "    while True:\n",
    "        \n",
    "        slow = find_square(slow)\n",
    "        \n",
    "        fast = find_square(fast)\n",
    "        fast = find_square(fast)\n",
    "        \n",
    "        if slow == fast:\n",
    "            break\n",
    "    \n",
    "    return slow == 1\n",
    "        \n",
    "    "
   ]
  },
  {
   "cell_type": "code",
   "execution_count": 6,
   "metadata": {},
   "outputs": [
    {
     "data": {
      "text/plain": [
       "True"
      ]
     },
     "execution_count": 6,
     "metadata": {},
     "output_type": "execute_result"
    }
   ],
   "source": [
    "solution(23)"
   ]
  },
  {
   "cell_type": "markdown",
   "metadata": {},
   "source": [
    "## Middle of the LinkedList (easy)\n",
    "\n",
    "Given the head of a Singly LinkedList, write a method to return the middle node of the LinkedList.\n",
    "\n",
    "If the total number of nodes in the LinkedList is even, return the second middle node."
   ]
  },
  {
   "cell_type": "code",
   "execution_count": 1,
   "metadata": {},
   "outputs": [],
   "source": [
    "class Node:\n",
    "    def __init__(self, val, nex=None):\n",
    "        self.val = val\n",
    "        self.nex = nex\n",
    "\n",
    "def solution(head):\n",
    "    fPtr = head\n",
    "    sPtr = head\n",
    "    \n",
    "    while fPtr:\n",
    "        \n",
    "        fPtr = fPtr.nex\n",
    "        if fPtr:\n",
    "            fPtr = fPtr.nex\n",
    "            sPtr = sPtr.nex\n",
    "        else:\n",
    "            break\n",
    "\n",
    "    return sPtr\n",
    "    \n",
    "    "
   ]
  },
  {
   "cell_type": "markdown",
   "metadata": {},
   "source": [
    "### Test"
   ]
  },
  {
   "cell_type": "code",
   "execution_count": 3,
   "metadata": {},
   "outputs": [
    {
     "name": "stdout",
     "output_type": "stream",
     "text": [
      "3\n",
      "4\n",
      "4\n"
     ]
    }
   ],
   "source": [
    "head = Node(1)\n",
    "head.nex = Node(2)\n",
    "head.nex.nex = Node(3)\n",
    "head.nex.nex.nex = Node(4)\n",
    "head.nex.nex.nex.nex = Node(5)\n",
    "\n",
    "print(solution(head).val)\n",
    "\n",
    "head.nex.nex.nex.nex.nex = Node(6)\n",
    "\n",
    "print(solution(head).val)\n",
    "\n",
    "head.nex.nex.nex.nex.nex.nex = Node(7)\n",
    "\n",
    "print(solution(head).val)"
   ]
  },
  {
   "cell_type": "markdown",
   "metadata": {},
   "source": [
    "## Palindrome LinkedList (medium)\n",
    "\n",
    "Given the head of a Singly LinkedList, write a method to check if the LinkedList is a palindrome or not.\n",
    "\n",
    "Your algorithm should use constant space and the input LinkedList should be in the original form once the algorithm is finished. The algorithm should have O(N)O(N) time complexity where ‘N’ is the number of nodes in the LinkedList.\n",
    "\n"
   ]
  },
  {
   "cell_type": "markdown",
   "metadata": {},
   "source": [
    "**Not the solution** O(N<sup>2</sup>)"
   ]
  },
  {
   "cell_type": "code",
   "execution_count": 5,
   "metadata": {},
   "outputs": [],
   "source": [
    "class Node:\n",
    "    def __init__(self, value, next=None):\n",
    "        self.value = value\n",
    "        self.next = next\n",
    "\n",
    "def is_palindromic_linked_list(head):\n",
    "  \n",
    "    n = 0\n",
    "\n",
    "    ptr = head\n",
    "    while ptr:\n",
    "        ptr = ptr.next\n",
    "        n += 1\n",
    "    n -= 1\n",
    "    \n",
    "    sPtr = head\n",
    "    while n > 0:\n",
    "        fPtr = sPtr    \n",
    "        for i in range(n):\n",
    "            fPtr = fPtr.next\n",
    "        if fPtr.value != sPtr.value:\n",
    "            return False\n",
    "\n",
    "        n -= 2\n",
    "        sPtr = sPtr.next\n",
    "    \n",
    "\n",
    "    return True"
   ]
  },
  {
   "cell_type": "markdown",
   "metadata": {},
   "source": [
    "**Solution in O(N)**\n",
    "\n",
    "1. Find the middle node \n",
    "2. Reverse the list from middle node\n",
    "3. Compare the first half list and the second half list\n",
    "4. recover the linked list (optional)\n",
    "\n",
    "Total Time Complexity is O(N)"
   ]
  },
  {
   "cell_type": "code",
   "execution_count": 11,
   "metadata": {},
   "outputs": [],
   "source": [
    "def reverse(head):\n",
    "\n",
    "    prev = None\n",
    "    \n",
    "    while head:\n",
    "        next = head.next\n",
    "        head.next = prev\n",
    "        prev = head\n",
    "        head = next\n",
    "    \n",
    "    return prev\n",
    "\n",
    "def is_palindromic_linked_list(head):\n",
    "    \n",
    "    fPtr = head\n",
    "    sPtr = head\n",
    "    \n",
    "    # find the middle node\n",
    "    while fPtr:\n",
    "        \n",
    "        fPtr = fPtr.next\n",
    "        if fPtr:\n",
    "            fPtr = fPtr.next\n",
    "            sPtr = sPtr.next\n",
    "        else:\n",
    "            break\n",
    "    \n",
    "    # reverse the second half \n",
    "    second = reverse(sPtr)\n",
    "    copy_second = second\n",
    "    \n",
    "    first = head\n",
    "    \n",
    "    while second:\n",
    "        if first.value != second.value:\n",
    "            reverse(copy_second)\n",
    "            return False\n",
    "        \n",
    "        first = first.next\n",
    "        second = second.next\n",
    "    \n",
    "    reverse(copy_second)\n",
    "    return True\n"
   ]
  },
  {
   "cell_type": "code",
   "execution_count": 13,
   "metadata": {},
   "outputs": [
    {
     "name": "stdout",
     "output_type": "stream",
     "text": [
      "Is palindrome: True\n",
      "Is palindrome: False\n"
     ]
    }
   ],
   "source": [
    "head = Node(2)\n",
    "head.next = Node(4)\n",
    "head.next.next = Node(6)\n",
    "head.next.next.next = Node(4)\n",
    "head.next.next.next.next = Node(2)\n",
    "\n",
    "print(\"Is palindrome: \" + str(is_palindromic_linked_list(head)))\n",
    "\n",
    "head.next.next.next.next.next = Node(2)\n",
    "print(\"Is palindrome: \" + str(is_palindromic_linked_list(head)))"
   ]
  },
  {
   "cell_type": "markdown",
   "metadata": {},
   "source": [
    "## Rearrange a LinkedList (medium)\n",
    "\n",
    "Given the head of a Singly LinkedList, write a method to modify the LinkedList such that the nodes from the second half of the LinkedList are inserted alternately to the nodes from the first half in reverse order. So if the LinkedList has nodes 1 -> 2 -> 3 -> 4 -> 5 -> 6 -> null, your method should return 1 -> 6 -> 2 -> 5 -> 3 -> 4 -> null.\n",
    "\n",
    "Your algorithm should not use any extra space and the input LinkedList should be modified in-place.\n"
   ]
  },
  {
   "cell_type": "code",
   "execution_count": 14,
   "metadata": {},
   "outputs": [],
   "source": [
    "class Node:\n",
    "    def __init__(self, value, next=None):\n",
    "        self.value = value\n",
    "        self.next = next\n",
    "\n",
    "    def print_list(self):\n",
    "        temp = self\n",
    "        while temp is not None:\n",
    "            print(str(temp.value) + \" \", end='')\n",
    "            temp = temp.next\n",
    "        print()"
   ]
  },
  {
   "cell_type": "code",
   "execution_count": 21,
   "metadata": {},
   "outputs": [],
   "source": [
    "def reverse(head):\n",
    "\n",
    "    prev = None\n",
    "    while head:\n",
    "        next = head.next\n",
    "        head.next = prev\n",
    "        prev = head\n",
    "        head = next\n",
    "  \n",
    "    return prev\n",
    "\n",
    "def find_half(head):\n",
    "\n",
    "    a = head\n",
    "    b = head\n",
    "    while a:\n",
    "        a = a.next\n",
    "        if a:\n",
    "            a = a.next\n",
    "            b = b.next\n",
    "        else:\n",
    "            break\n",
    "    return b\n",
    "\n",
    "\n",
    "def reorder(head):\n",
    "    # TODO: Write your code here\n",
    "\n",
    "    second = find_half(head)\n",
    "    b = reverse(second)\n",
    "\n",
    "    a = head\n",
    "  \n",
    "    while b:\n",
    "        a_next = a.next\n",
    "        b_next = b.next\n",
    "        a.next = b\n",
    "        # trap! if a.next is b itself...\n",
    "        if b_next:\n",
    "            b.next = a_next\n",
    "    \n",
    "        a = a_next\n",
    "        b = b_next\n",
    "\n",
    "    return head"
   ]
  },
  {
   "cell_type": "code",
   "execution_count": 22,
   "metadata": {},
   "outputs": [
    {
     "name": "stdout",
     "output_type": "stream",
     "text": [
      "2 12 4 10 6 8 \n"
     ]
    }
   ],
   "source": [
    "head = Node(2)\n",
    "head.next = Node(4)\n",
    "head.next.next = Node(6)\n",
    "head.next.next.next = Node(8)\n",
    "head.next.next.next.next = Node(10)\n",
    "head.next.next.next.next.next = Node(12)\n",
    "reorder(head)\n",
    "head.print_list()"
   ]
  },
  {
   "cell_type": "markdown",
   "metadata": {},
   "source": [
    "## Cycle in a Circular Array (hard)\n",
    "\n",
    "\n",
    "We are given an array containing positive and negative numbers. Suppose the array contains a number ‘M’ at a particular index. Now, if ‘M’ is positive we will move forward ‘M’ indices and if ‘M’ is negative move backwards ‘M’ indices. You should assume that the array is circular which means two things:\n",
    "\n",
    "If, while moving forward, we reach the end of the array, we will jump to the first element to continue the movement.\n",
    "If, while moving backward, we reach the beginning of the array, we will jump to the last element to continue the movement.\n",
    "Write a method to determine if the array has a cycle. The cycle should have more than one element and should follow one direction which means the cycle should not contain both forward and backward movements."
   ]
  },
  {
   "cell_type": "markdown",
   "metadata": {},
   "source": [
    "**Hint**\n",
    "\n",
    "1. Use fast pointer and slow pointer to terminate the cycles. Prevent infinite loops\n",
    "\n",
    "2. O(N<sup>2</sup>)"
   ]
  },
  {
   "cell_type": "code",
   "execution_count": 24,
   "metadata": {},
   "outputs": [],
   "source": [
    "def circular_array_loop_exists(arr):\n",
    "    \n",
    "    n = len(arr)\n",
    "    for i in range(n):\n",
    "        a = i\n",
    "        b = i\n",
    "        \n",
    "        if arr[i] > 0:\n",
    "            is_forward = True\n",
    "        else:\n",
    "            is_forward = False\n",
    "        \n",
    "        while True:\n",
    "            \n",
    "            b += arr[b]\n",
    "            b %= n\n",
    "            b += arr[b]\n",
    "            b %= n\n",
    "            \n",
    "            a += arr[a]\n",
    "            a %= n\n",
    "            \n",
    "            if is_forward and arr[a] < 0:\n",
    "                break\n",
    "            \n",
    "            if not is_forward and arr[a] > 0:\n",
    "                break\n",
    "            \n",
    "            if a == b:\n",
    "                return True\n",
    "    \n",
    "    return False\n"
   ]
  },
  {
   "cell_type": "markdown",
   "metadata": {},
   "source": [
    "**We don't have to check every array element!** \n"
   ]
  },
  {
   "cell_type": "code",
   "execution_count": 26,
   "metadata": {},
   "outputs": [],
   "source": [
    "def circular_array_loop_exists(arr):\n",
    "    \n",
    "    n = len(arr)\n",
    "    \n",
    "    idx = {}\n",
    "    for i in range(n):\n",
    "        idx[i] = True\n",
    "    \n",
    "    \n",
    "    for i in range(n):\n",
    "        \n",
    "        if idx[i]:\n",
    "            idx[i] = False\n",
    "        \n",
    "            a = i\n",
    "            b = i\n",
    "        \n",
    "            if arr[i] > 0:\n",
    "                is_forward = True\n",
    "            else:\n",
    "                is_forward = False\n",
    "        \n",
    "            while True:\n",
    "            \n",
    "                b += arr[b]\n",
    "                b %= n\n",
    "                b += arr[b]\n",
    "                b %= n\n",
    "            \n",
    "                a += arr[a]\n",
    "                a %= n\n",
    "                if idx[a]:\n",
    "                    idx[a] = False\n",
    "            \n",
    "                if is_forward and arr[a] < 0:\n",
    "                    break\n",
    "            \n",
    "                if not is_forward and arr[a] > 0:\n",
    "                    break\n",
    "            \n",
    "                if a == b:\n",
    "                    return True\n",
    "    \n",
    "    return False\n"
   ]
  },
  {
   "cell_type": "code",
   "execution_count": 27,
   "metadata": {},
   "outputs": [
    {
     "name": "stdout",
     "output_type": "stream",
     "text": [
      "True\n",
      "True\n",
      "False\n"
     ]
    }
   ],
   "source": [
    "print(circular_array_loop_exists([1, 2, -1, 2, 2]))\n",
    "print(circular_array_loop_exists([2, 2, -1, 2]))\n",
    "print(circular_array_loop_exists([2, 1, -1, -2]))"
   ]
  },
  {
   "cell_type": "code",
   "execution_count": null,
   "metadata": {},
   "outputs": [],
   "source": []
  }
 ],
 "metadata": {
  "kernelspec": {
   "display_name": "Python 3",
   "language": "python",
   "name": "python3"
  },
  "language_info": {
   "codemirror_mode": {
    "name": "ipython",
    "version": 3
   },
   "file_extension": ".py",
   "mimetype": "text/x-python",
   "name": "python",
   "nbconvert_exporter": "python",
   "pygments_lexer": "ipython3",
   "version": "3.8.5"
  }
 },
 "nbformat": 4,
 "nbformat_minor": 4
}
