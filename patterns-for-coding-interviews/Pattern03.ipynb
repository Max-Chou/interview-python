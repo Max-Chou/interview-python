{
 "cells": [
  {
   "cell_type": "markdown",
   "metadata": {},
   "source": [
    "# Fast & Slow Pointers\n",
    "\n",
    "The Fast & Slow pointer approach, also known as the Hare & Tortoise algorithm, is a pointer algorithm that uses two pointers which move through the array (or sequence/LinkedList) at different speeds. This approach is quite useful when dealing with cyclic LinkedLists or arrays.\n",
    "\n"
   ]
  },
  {
   "cell_type": "markdown",
   "metadata": {},
   "source": [
    "## LinkedList Cycle (easy)\n",
    "\n",
    "Given the head of a Singly LinkedList, write a function to determine if the LinkedList has a cycle in it or not."
   ]
  },
  {
   "cell_type": "code",
   "execution_count": 1,
   "metadata": {},
   "outputs": [],
   "source": [
    "# linked-list node\n",
    "class Node:\n",
    "    def __init__(self, val, nex=None):\n",
    "        self.val = val\n",
    "        self.nex = nex\n"
   ]
  },
  {
   "cell_type": "markdown",
   "metadata": {},
   "source": [
    "### Solution01"
   ]
  },
  {
   "cell_type": "code",
   "execution_count": 2,
   "metadata": {},
   "outputs": [],
   "source": [
    "def solution01(head):\n",
    "    \n",
    "    slow = head\n",
    "    fast = head\n",
    "    while fast:\n",
    "        fast = fast.nex\n",
    "        if not fast:\n",
    "            return False\n",
    "        fast = fast.nex\n",
    "        \n",
    "        slow = slow.nex\n",
    "        \n",
    "        if fast is slow:\n",
    "            return True\n",
    "    \n",
    "    return False\n"
   ]
  },
  {
   "cell_type": "markdown",
   "metadata": {},
   "source": [
    "### Test Cases\n",
    "\n",
    "Simple Case"
   ]
  },
  {
   "cell_type": "code",
   "execution_count": 4,
   "metadata": {
    "scrolled": true
   },
   "outputs": [
    {
     "name": "stdout",
     "output_type": "stream",
     "text": [
      "False\n",
      "True\n"
     ]
    }
   ],
   "source": [
    "head = Node(1)\n",
    "head.nex = Node(2)\n",
    "head.nex.nex = Node(3)\n",
    "head.nex.nex.nex = Node(4)\n",
    "head.nex.nex.nex.nex = Node(5)\n",
    "head.nex.nex.nex.nex.nex = Node(6)\n",
    "\n",
    "print(solution01(head))\n",
    "\n",
    "head.nex.nex.nex.nex.nex.nex = head.nex.nex\n",
    "head.nex.nex.nex.nex.nex.nex = head.nex.nex.nex\n",
    "\n",
    "print(solution01(head))"
   ]
  },
  {
   "cell_type": "markdown",
   "metadata": {},
   "source": [
    "**Sub-Problem**\n",
    "\n",
    "Given the head of a LinkedList with a cycle, find the length of the cycle."
   ]
  },
  {
   "cell_type": "code",
   "execution_count": 5,
   "metadata": {},
   "outputs": [],
   "source": [
    "def solution01(head):\n",
    "    slow = head\n",
    "    fast = head\n",
    "    while fast:\n",
    "        fast = fast.nex\n",
    "        if not fast:\n",
    "            return False\n",
    "        fast = fast.nex\n",
    "        \n",
    "        slow = slow.nex\n",
    "        \n",
    "        if fast is slow:\n",
    "            break\n",
    "    \n",
    "    fast = fast.nex\n",
    "    length = 1\n",
    "    while fast is not slow:\n",
    "        fast = fast.nex\n",
    "        length += 1\n",
    "    \n",
    "    return length\n",
    "    "
   ]
  },
  {
   "cell_type": "code",
   "execution_count": 6,
   "metadata": {},
   "outputs": [
    {
     "name": "stdout",
     "output_type": "stream",
     "text": [
      "4\n",
      "3\n"
     ]
    }
   ],
   "source": [
    "head = Node(1)\n",
    "head.nex = Node(2)\n",
    "head.nex.nex = Node(3)\n",
    "head.nex.nex.nex = Node(4)\n",
    "head.nex.nex.nex.nex = Node(5)\n",
    "head.nex.nex.nex.nex.nex = Node(6)\n",
    "head.nex.nex.nex.nex.nex.nex = head.nex.nex\n",
    "print(solution01(head))\n",
    "\n",
    "head.nex.nex.nex.nex.nex.nex = head.nex.nex.nex\n",
    "print(solution01(head))\n"
   ]
  },
  {
   "cell_type": "markdown",
   "metadata": {},
   "source": [
    "## Start of LinkedList Cycle (medium)\n",
    "\n",
    "Given the head of a Singly LinkedList that contains a cycle, write a function to find the starting node of the cycle.\n"
   ]
  },
  {
   "cell_type": "markdown",
   "metadata": {},
   "source": [
    "### Solution01\n",
    "\n",
    "1. find the length of the cycle, suppose it's k.\n",
    "2. move the fast pointer ahead k nodes.\n",
    "3. move both pointers and count the nodes they pass."
   ]
  },
  {
   "cell_type": "code",
   "execution_count": 10,
   "metadata": {},
   "outputs": [],
   "source": [
    "def cycle_length(head):\n",
    "    slow = head\n",
    "    fast = head\n",
    "    while fast:\n",
    "        fast = fast.nex\n",
    "        if not fast:\n",
    "            return False\n",
    "        fast = fast.nex\n",
    "        \n",
    "        slow = slow.nex\n",
    "        \n",
    "        if fast is slow:\n",
    "            break\n",
    "    \n",
    "    fast = fast.nex\n",
    "    length = 1\n",
    "    while fast is not slow:\n",
    "        fast = fast.nex\n",
    "        length += 1\n",
    "    \n",
    "    return length\n",
    "\n",
    "def solution01(head):\n",
    "    \n",
    "    p = cycle_length(head)\n",
    "    \n",
    "    slow = head\n",
    "    fast = head\n",
    "    for i in range(p):\n",
    "        fast = fast.nex\n",
    "    \n",
    "    c = 1\n",
    "    while fast is not slow:\n",
    "        fast = fast.nex\n",
    "        slow = slow.nex\n",
    "        c += 1\n",
    "        \n",
    "    return c\n",
    "    "
   ]
  },
  {
   "cell_type": "code",
   "execution_count": 11,
   "metadata": {},
   "outputs": [
    {
     "name": "stdout",
     "output_type": "stream",
     "text": [
      "3\n",
      "4\n",
      "1\n"
     ]
    }
   ],
   "source": [
    "head = Node(1)\n",
    "head.nex = Node(2)\n",
    "head.nex.nex = Node(3)\n",
    "head.nex.nex.nex = Node(4)\n",
    "head.nex.nex.nex.nex = Node(5)\n",
    "head.nex.nex.nex.nex.nex = Node(6)\n",
    "\n",
    "head.nex.nex.nex.nex.nex.nex = head.nex.nex\n",
    "print(solution01(head))\n",
    "\n",
    "head.nex.nex.nex.nex.nex.nex = head.nex.nex.nex\n",
    "print(solution01(head))\n",
    "\n",
    "\n",
    "head.nex.nex.nex.nex.nex.nex = head\n",
    "print(solution01(head))\n"
   ]
  },
  {
   "cell_type": "markdown",
   "metadata": {},
   "source": [
    "## Happy Number (medium)"
   ]
  },
  {
   "cell_type": "code",
   "execution_count": 2,
   "metadata": {},
   "outputs": [],
   "source": [
    "def find_square(num):\n",
    "    s = 0\n",
    "    while num > 0:\n",
    "        digit = num % 10\n",
    "        s += digit**2\n",
    "        num = num // 10\n",
    "    \n",
    "    return s\n",
    "\n",
    "def solution(num):\n",
    "    \n",
    "    slow = num\n",
    "    fast = num\n",
    "    \n",
    "    while True:\n",
    "        \n",
    "        slow = find_square(slow)\n",
    "        \n",
    "        fast = find_square(fast)\n",
    "        fast = find_square(fast)\n",
    "        \n",
    "        if slow == fast:\n",
    "            break\n",
    "    \n",
    "    return slow == 1\n",
    "        \n",
    "    "
   ]
  },
  {
   "cell_type": "code",
   "execution_count": 6,
   "metadata": {},
   "outputs": [
    {
     "data": {
      "text/plain": [
       "True"
      ]
     },
     "execution_count": 6,
     "metadata": {},
     "output_type": "execute_result"
    }
   ],
   "source": [
    "solution(23)"
   ]
  },
  {
   "cell_type": "markdown",
   "metadata": {},
   "source": [
    "## Middle of the LinkedList (easy)"
   ]
  },
  {
   "cell_type": "code",
   "execution_count": null,
   "metadata": {},
   "outputs": [],
   "source": []
  }
 ],
 "metadata": {
  "kernelspec": {
   "display_name": "Python 3",
   "language": "python",
   "name": "python3"
  },
  "language_info": {
   "codemirror_mode": {
    "name": "ipython",
    "version": 3
   },
   "file_extension": ".py",
   "mimetype": "text/x-python",
   "name": "python",
   "nbconvert_exporter": "python",
   "pygments_lexer": "ipython3",
   "version": "3.8.5"
  }
 },
 "nbformat": 4,
 "nbformat_minor": 4
}
