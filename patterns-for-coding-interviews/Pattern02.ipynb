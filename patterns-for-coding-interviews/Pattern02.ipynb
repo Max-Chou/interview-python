{
 "cells": [
  {
   "cell_type": "markdown",
   "metadata": {},
   "source": [
    "# Two Pointers\n",
    "\n",
    "Given an array of sorted numbers and a target sum, find a pair in the array whose sum is equal to the given target."
   ]
  },
  {
   "cell_type": "markdown",
   "metadata": {},
   "source": [
    "## Pair with Target Sum (easy)\n",
    "\n",
    "Given an array of **sorted numbers** and a target sum, find a pair in the array whose sum is equal to the given target.\n"
   ]
  },
  {
   "cell_type": "markdown",
   "metadata": {},
   "source": [
    "### Solution01\n",
    "\n",
    "Brute Force"
   ]
  },
  {
   "cell_type": "code",
   "execution_count": 1,
   "metadata": {},
   "outputs": [],
   "source": [
    "def solution01(arr, target):\n",
    "    \n",
    "    n = len(arr)\n",
    "    \n",
    "    results = []\n",
    "    \n",
    "    for i in range(n):\n",
    "        for j in range(i+1,n):\n",
    "            if arr[i] + arr[j] == target:\n",
    "                results.append([i, j])\n",
    "    \n",
    "    return results\n",
    "                \n"
   ]
  },
  {
   "cell_type": "markdown",
   "metadata": {},
   "source": [
    "### Solution02\n",
    "\n",
    "two pointers"
   ]
  },
  {
   "cell_type": "code",
   "execution_count": 2,
   "metadata": {},
   "outputs": [],
   "source": [
    "def solution02(arr, target):\n",
    "    \n",
    "    n = len(arr)\n",
    "    \n",
    "    results = []\n",
    "    \n",
    "    i = 0\n",
    "    j = n-1\n",
    "    \n",
    "    while i < j:\n",
    "        if arr[i] + arr[j] > target:\n",
    "            j -= 1\n",
    "        elif arr[i] + arr[j] < target:\n",
    "            i += 1\n",
    "        else:\n",
    "            results.append([i, j])\n",
    "            i += 1\n",
    "            j -= 1\n",
    "    \n",
    "    return results\n",
    "    "
   ]
  },
  {
   "cell_type": "markdown",
   "metadata": {},
   "source": [
    "### Solution03\n",
    "\n",
    "Dictionary"
   ]
  },
  {
   "cell_type": "code",
   "execution_count": 8,
   "metadata": {},
   "outputs": [],
   "source": [
    "def solution03(arr, target):\n",
    "    \n",
    "    dic = {}\n",
    "    results = []\n",
    "    for i, a in enumerate(arr):\n",
    "        if target-a in dic:\n",
    "            results.append([dic[target-a], i])\n",
    "        else:\n",
    "            dic[arr[i]] = i\n",
    "    return results\n",
    "    "
   ]
  },
  {
   "cell_type": "markdown",
   "metadata": {},
   "source": [
    "### Test Cases\n",
    "\n",
    "Simple Case"
   ]
  },
  {
   "cell_type": "code",
   "execution_count": 9,
   "metadata": {},
   "outputs": [
    {
     "name": "stdout",
     "output_type": "stream",
     "text": [
      "[[1, 4], [2, 3]]\n",
      "[[1, 4], [2, 3]]\n",
      "[[2, 3], [1, 4]]\n"
     ]
    }
   ],
   "source": [
    "arr = [-2, 0, 1, 1, 2]\n",
    "target = 2\n",
    "print(solution01(arr, target))\n",
    "print(solution02(arr, target))\n",
    "print(solution03(arr, target))"
   ]
  },
  {
   "cell_type": "markdown",
   "metadata": {},
   "source": [
    "#### Notes:\n",
    "\n",
    "If the array is not sorted, the time complexity of two-pointers method will be O(NlogN)."
   ]
  },
  {
   "cell_type": "markdown",
   "metadata": {},
   "source": [
    "## Remove Duplicates (easy)\n",
    "\n",
    "Given an array of sorted numbers, remove all duplicates from it. **You should not use any extra space**; after removing the duplicates in-place return the new length of the array."
   ]
  },
  {
   "cell_type": "markdown",
   "metadata": {},
   "source": [
    "### Solution01\n",
    "\n",
    "two pointers"
   ]
  },
  {
   "cell_type": "code",
   "execution_count": 13,
   "metadata": {},
   "outputs": [],
   "source": [
    "def solution01(arr):\n",
    "    \n",
    "    i = 0\n",
    "    for j in range(1,len(arr)):\n",
    "        if arr[j] != arr[i]:\n",
    "            temp = arr[j]\n",
    "            arr[j] = arr[i+1]\n",
    "            arr[i+1] = temp\n",
    "            i += 1\n",
    "    \n",
    "    return i + 1"
   ]
  },
  {
   "cell_type": "markdown",
   "metadata": {},
   "source": [
    "### Test Cases\n",
    "\n",
    "Simple Case"
   ]
  },
  {
   "cell_type": "code",
   "execution_count": 14,
   "metadata": {},
   "outputs": [
    {
     "name": "stdout",
     "output_type": "stream",
     "text": [
      "4\n"
     ]
    }
   ],
   "source": [
    "arr = [2, 3, 3, 3, 6, 9, 9]\n",
    "print(solution01(arr))"
   ]
  },
  {
   "cell_type": "markdown",
   "metadata": {},
   "source": [
    "## Squaring a Sorted Array (easy)\n",
    "\n",
    "Given a sorted array, create a new array containing squares of all the number of the input array in the sorted order."
   ]
  },
  {
   "cell_type": "markdown",
   "metadata": {},
   "source": [
    "### Solution01"
   ]
  },
  {
   "cell_type": "code",
   "execution_count": 22,
   "metadata": {},
   "outputs": [],
   "source": [
    "def solution01(arr):\n",
    "    \n",
    "    results = []\n",
    "    \n",
    "    i = 0\n",
    "    j = len(arr)-1\n",
    "    \n",
    "    while i <= j:\n",
    "        if arr[i]**2 < arr[j]**2:\n",
    "            results.append(arr[j]**2)\n",
    "            j -= 1\n",
    "        else:\n",
    "            results.append(arr[i]**2)\n",
    "            i += 1\n",
    "        \n",
    "    return results[::-1]"
   ]
  },
  {
   "cell_type": "markdown",
   "metadata": {},
   "source": [
    "### Test Cases\n",
    "\n",
    "Simple Case"
   ]
  },
  {
   "cell_type": "code",
   "execution_count": 23,
   "metadata": {},
   "outputs": [
    {
     "name": "stdout",
     "output_type": "stream",
     "text": [
      "[0, 1, 4, 4, 9]\n"
     ]
    }
   ],
   "source": [
    "arr = [-2, -1, 0, 2, 3]\n",
    "\n",
    "print(solution01(arr))"
   ]
  },
  {
   "cell_type": "markdown",
   "metadata": {},
   "source": [
    "##  Triplet Sum to Zero (medium)\n",
    "\n",
    "Given an array of unsorted numbers, find all unique triplets in it that add up to zero."
   ]
  },
  {
   "cell_type": "code",
   "execution_count": 1,
   "metadata": {},
   "outputs": [],
   "source": [
    "def two_sum(arr, target):\n",
    "    n = len(arr)\n",
    "    results = []\n",
    "    \n",
    "    i = 0\n",
    "    j = n-1\n",
    "    \n",
    "    while i < j:\n",
    "        if arr[i] + arr[j] < target:\n",
    "            i += 1\n",
    "        elif arr[i] + arr[j] > target:\n",
    "            j -= 1\n",
    "        else:\n",
    "            results.append([arr[i], arr[j]])\n",
    "            i += 1\n",
    "            j -= 1\n",
    "    \n",
    "    return results\n",
    "\n",
    "def triple_sum(arr, target=0):\n",
    "    n = len(arr)\n",
    "    results = []\n",
    "    \n",
    "    arr.sort()\n",
    "    \n",
    "    for k in range(n):\n",
    "        rest = arr[:k] + arr[k+1:]\n",
    "        temps = two_sum(rest, target-arr[k])\n",
    "        if temps:\n",
    "            for temp in temps:\n",
    "                temp2 = [temp[0], temp[1], arr[k]]\n",
    "                temp2.sort()\n",
    "                if temp2 not in results:\n",
    "                    results.append(temp2)\n",
    "    return results"
   ]
  },
  {
   "cell_type": "markdown",
   "metadata": {},
   "source": [
    "### Test Cases\n",
    "\n",
    "Simple Case"
   ]
  },
  {
   "cell_type": "code",
   "execution_count": 3,
   "metadata": {},
   "outputs": [
    {
     "data": {
      "text/plain": [
       "[[-3, 1, 2], [-2, 0, 2], [-2, 1, 1], [-1, 0, 1]]"
      ]
     },
     "execution_count": 3,
     "metadata": {},
     "output_type": "execute_result"
    }
   ],
   "source": [
    "arr = [-3, 0, 1, 2, -1, 1, -2]\n",
    "triple_sum(arr)"
   ]
  },
  {
   "cell_type": "markdown",
   "metadata": {},
   "source": [
    "## Triplet Sum Close to Target (medium)\n",
    "\n",
    "Given an array of unsorted numbers and a target number, find a triplet in the array whose sum is as close to the target number as possible, return the sum of the triplet. If there are more than one such triplet, return the sum of the triplet with the smallest sum."
   ]
  },
  {
   "cell_type": "code",
   "execution_count": 6,
   "metadata": {},
   "outputs": [],
   "source": [
    "def triple_sum(arr, target=0):\n",
    "    n = len(arr)\n",
    "    results = []\n",
    "    \n",
    "    diff = 10000\n",
    "    arr.sort()\n",
    "    \n",
    "    for k in range(n):\n",
    "        rest = arr[:k] + arr[k+1:]\n",
    "        \n",
    "        i = 0\n",
    "        j = len(rest)-1\n",
    "        \n",
    "        while i < j:\n",
    "            \n",
    "            if i == j-1:\n",
    "                if abs(target-arr[k]-rest[i]-rest[i]) < diff:\n",
    "                    diff = abs(target-arr[k]-rest[i]-rest[i])\n",
    "                    temp = [rest[i], rest[j], arr[k]]\n",
    "                    temp.sort()\n",
    "                    if temp not in results:\n",
    "                        results.append(temp)\n",
    "                    \n",
    "            \n",
    "            if rest[i] + rest[j] < target - arr[k]:\n",
    "                i += 1\n",
    "            elif rest[i] + rest[j] > target - arr[k]:\n",
    "                j -= 1\n",
    "            else:\n",
    "                temp = [rest[i], rest[j], arr[k]]\n",
    "                temp.sort()\n",
    "                if temp not in results:\n",
    "                    results.append(temp)\n",
    "                i += 1\n",
    "                j -= 1\n",
    "                diff = 0\n",
    "            \n",
    "    return results"
   ]
  },
  {
   "cell_type": "code",
   "execution_count": 7,
   "metadata": {},
   "outputs": [
    {
     "data": {
      "text/plain": [
       "[[0, 1, 1]]"
      ]
     },
     "execution_count": 7,
     "metadata": {},
     "output_type": "execute_result"
    }
   ],
   "source": [
    "arr = [1, 0, 2, 1]\n",
    "target = 1\n",
    "triple_sum(arr, target)"
   ]
  },
  {
   "cell_type": "markdown",
   "metadata": {},
   "source": [
    "## Triplets with Smaller Sum (medium)\n",
    "\n",
    "Given an array arr of unsorted numbers and a target sum, count all triplets in it such that arr\\[i\\] + arr\\[j\\] + arr\\[k\\] < target where i, j, and k are three different indices. Write a function to return the count of such triplets."
   ]
  },
  {
   "cell_type": "code",
   "execution_count": 13,
   "metadata": {},
   "outputs": [],
   "source": [
    "def triple_sum(arr, target=0):\n",
    "    n = len(arr)\n",
    "    results = []\n",
    "\n",
    "    arr.sort()\n",
    "    \n",
    "    for k in range(n):\n",
    "        rest = arr[:k] + arr[k+1:]\n",
    "        \n",
    "        i = 0\n",
    "        j = len(rest)-1\n",
    "        \n",
    "        while i < j:\n",
    "            if rest[i] + rest[j] < target - arr[k]:\n",
    "                for l in range(i+1,j+1):\n",
    "                    temp = [rest[i], rest[l], arr[k]]\n",
    "                    temp.sort()\n",
    "                    if temp not in results:\n",
    "                        results.append(temp)\n",
    "                    \n",
    "                i += 1\n",
    "            else:\n",
    "                j -= 1\n",
    "            \n",
    "    return results"
   ]
  },
  {
   "cell_type": "code",
   "execution_count": 14,
   "metadata": {},
   "outputs": [
    {
     "data": {
      "text/plain": [
       "[[-1, 1, 2], [-1, 1, 3], [-1, 1, 4], [-1, 2, 3]]"
      ]
     },
     "execution_count": 14,
     "metadata": {},
     "output_type": "execute_result"
    }
   ],
   "source": [
    "arr = [-1, 4, 2, 1, 3]\n",
    "target = 5\n",
    "triple_sum(arr, target)"
   ]
  },
  {
   "cell_type": "markdown",
   "metadata": {},
   "source": [
    "**Sub-Problem**\n",
    "\n",
    " Write a function to return the list of all such triplets instead of the count. How will the time complexity change in this case?"
   ]
  },
  {
   "cell_type": "markdown",
   "metadata": {},
   "source": [
    "## Subarrays with Product Less than a Target (medium)\n",
    "\n",
    "Given an array with positive numbers and a target number, find all of its contiguous subarrays whose product is less than the target number."
   ]
  },
  {
   "cell_type": "code",
   "execution_count": 42,
   "metadata": {},
   "outputs": [],
   "source": [
    "def solution(arr, target):\n",
    "    \n",
    "    i = 0\n",
    "    results = []\n",
    "    size = len(arr)\n",
    "    temp = 1\n",
    "    \n",
    "    \n",
    "    for j in range(size):\n",
    "        temp *= arr[j]\n",
    "        \n",
    "        while temp >= target:     \n",
    "            temp /= arr[i]\n",
    "            i += 1\n",
    "            \n",
    "        if temp < target:\n",
    "            for k in range(i, j+1):\n",
    "                results.append(arr[k:j+1])\n",
    "\n",
    "    return results\n",
    "        "
   ]
  },
  {
   "cell_type": "markdown",
   "metadata": {},
   "source": [
    "**Solution from educative**"
   ]
  },
  {
   "cell_type": "code",
   "execution_count": 45,
   "metadata": {},
   "outputs": [],
   "source": [
    "from collections import deque\n",
    "\n",
    "def find_subarrays(arr, target):\n",
    "    results = []\n",
    "    \n",
    "    i = 0\n",
    "    size = len(arr)\n",
    "    temp = 1\n",
    "    \n",
    "    for j in range(size):\n",
    "        temp *= arr[j]\n",
    "        while temp >= target and i < size:\n",
    "            temp /= arr[i]\n",
    "            i += 1\n",
    "        \n",
    "        tempList = deque()\n",
    "        for k in range(j, i-1, -1):\n",
    "            tempList.appendleft(arr[k])\n",
    "            results.append(list(tempList))\n",
    "            \n",
    "    return results"
   ]
  },
  {
   "cell_type": "code",
   "execution_count": 46,
   "metadata": {},
   "outputs": [
    {
     "name": "stdout",
     "output_type": "stream",
     "text": [
      "[[2], [2, 5], [5], [5, 3], [3], [10]]\n",
      "[[2], [5], [2, 5], [3], [5, 3], [10]]\n",
      "[[8], [8, 2], [2], [2, 6], [6], [6, 5], [5]]\n",
      "[[8], [2], [8, 2], [6], [2, 6], [5], [6, 5]]\n"
     ]
    }
   ],
   "source": [
    "tests = [([2, 5, 3, 10], 30), ([8, 2, 6, 5], 50)]\n",
    "\n",
    "for test in tests:\n",
    "    print(solution(*test))\n",
    "    print(find_subarrays(*test))"
   ]
  },
  {
   "cell_type": "markdown",
   "metadata": {},
   "source": [
    "## Dutch National Flag Problem (medium)\n",
    "\n",
    "Given an array containing 0s, 1s and 2s, sort the array in-place. You should treat numbers of the array as objects, hence, **we can’t count 0s, 1s, and 2s to recreate the array**.\n",
    "\n",
    "The flag of the Netherlands consists of three colors: red, white and blue; and since our input array also consists of three different numbers that is why it is called Dutch National Flag problem."
   ]
  },
  {
   "cell_type": "code",
   "execution_count": 47,
   "metadata": {},
   "outputs": [],
   "source": [
    "def solution(arr):\n",
    "    \n",
    "    i = 0\n",
    "    size = len(arr)\n",
    "    \n",
    "    for j in range(0, size):\n",
    "        if arr[j] == 0:\n",
    "            temp = arr[j]\n",
    "            arr[j] = arr[i]\n",
    "            arr[i] = temp\n",
    "            i += 1\n",
    "    \n",
    "    for j in range(i, size):\n",
    "        if arr[j] == 1:\n",
    "            temp = arr[j]\n",
    "            arr[j] = arr[i]\n",
    "            arr[i] = temp\n",
    "            i += 1\n",
    "    \n",
    "    for j in range(i, size):\n",
    "        if arr[j] == 2:\n",
    "            temp = arr[j]\n",
    "            arr[j] = arr[i]\n",
    "            arr[i] = temp\n",
    "            i += 1\n",
    "    \n",
    "    return arr\n",
    "        \n",
    "        "
   ]
  },
  {
   "cell_type": "markdown",
   "metadata": {},
   "source": [
    "**Solution from educative**"
   ]
  },
  {
   "cell_type": "code",
   "execution_count": 52,
   "metadata": {},
   "outputs": [],
   "source": [
    "def dutch_flag_sort(arr):\n",
    "    \n",
    "    size = len(arr)\n",
    "    i, j = 0, size-1\n",
    "    k = 0\n",
    "    while(k <= j):\n",
    "        if arr[k] == 0:\n",
    "            arr[k], arr[i] = arr[i], arr[k]\n",
    "            k += 1\n",
    "            i += 1\n",
    "        elif arr[k] == 1:\n",
    "            k += 1\n",
    "        else:\n",
    "            arr[k], arr[j] = arr[j], arr[k]\n",
    "            k += 1\n",
    "            j -= 1\n",
    "\n",
    "    return arr\n",
    "    "
   ]
  },
  {
   "cell_type": "code",
   "execution_count": 53,
   "metadata": {},
   "outputs": [
    {
     "name": "stdout",
     "output_type": "stream",
     "text": [
      "[0, 0, 1, 1, 2]\n",
      "[0, 0, 1, 1, 2]\n",
      "[0, 0, 1, 2, 2, 2]\n",
      "[0, 0, 1, 2, 2, 2]\n"
     ]
    }
   ],
   "source": [
    "tests = [([1, 0, 2, 1, 0],), ([2, 2, 0, 1, 2, 0],)]\n",
    "\n",
    "for test in tests:\n",
    "    print(solution(*test))\n",
    "    print(dutch_flag_sort(*test))"
   ]
  },
  {
   "cell_type": "markdown",
   "metadata": {},
   "source": [
    "## Quadruple Sum to Target (medium)\n",
    "Given an array of unsorted numbers and a target number, find all unique quadruplets in it, whose sum is equal to the target number.\n"
   ]
  },
  {
   "cell_type": "code",
   "execution_count": 60,
   "metadata": {},
   "outputs": [],
   "source": [
    "def solution(arr, target):\n",
    "    \n",
    "    arr.sort()\n",
    "    results = []\n",
    "    \n",
    "    size = len(arr)\n",
    "        \n",
    "    j = size-1\n",
    "    for i in range(size-3):\n",
    "        temp = target - (arr[i] + arr[j])\n",
    "        \n",
    "        m = i+1\n",
    "        n = j-1\n",
    "        while m < n:\n",
    "            twoSum = arr[m] + arr[n]\n",
    "            if twoSum > temp:\n",
    "                n -= 1\n",
    "            \n",
    "            if twoSum < temp:\n",
    "                m += 1\n",
    "            \n",
    "            if twoSum == temp:\n",
    "                result = [arr[i], arr[m], arr[n], arr[j]]\n",
    "                if result not in results:\n",
    "                    results.append(result)\n",
    "                \n",
    "                n -= 1\n",
    "                m += 1\n",
    "    \n",
    "    \n",
    "    i = 0\n",
    "    for j in range(size-2, 2, -1):\n",
    "        temp = target - (arr[i] + arr[j])\n",
    "        \n",
    "        m = i+1\n",
    "        n = j-1\n",
    "        while m < n:\n",
    "            twoSum = arr[m] + arr[n]\n",
    "            if twoSum > temp:\n",
    "                n -= 1\n",
    "            \n",
    "            if twoSum < temp:\n",
    "                m += 1\n",
    "            \n",
    "            if twoSum == temp:\n",
    "                result = [arr[i], arr[m], arr[n], arr[j]]\n",
    "                if result not in results:\n",
    "                    results.append(result)\n",
    "                \n",
    "                n -= 1\n",
    "                m += 1\n",
    "        \n",
    "    \n",
    "    return results\n",
    "        \n",
    "    \n",
    "    "
   ]
  },
  {
   "cell_type": "markdown",
   "metadata": {},
   "source": [
    "**Solution from educative**"
   ]
  },
  {
   "cell_type": "code",
   "execution_count": null,
   "metadata": {},
   "outputs": [],
   "source": []
  },
  {
   "cell_type": "code",
   "execution_count": 62,
   "metadata": {},
   "outputs": [
    {
     "name": "stdout",
     "output_type": "stream",
     "text": [
      "[[-3, -1, 1, 4], [-3, 1, 1, 2]]\n",
      "[[-2, 0, 2, 2], [-1, 0, 1, 2]]\n"
     ]
    }
   ],
   "source": [
    "tests = [([4, 1, 2, -1, 1, -3], 1), ([2, 0, -1, 1, -2, 2], 2)]\n",
    "\n",
    "for test in tests:\n",
    "    print(solution(*test))"
   ]
  },
  {
   "cell_type": "markdown",
   "metadata": {},
   "source": [
    "## Comparing Strings containing Backspaces (medium)\n",
    "\n",
    "Given two strings containing backspaces (identified by the character ‘#’), check if the two strings are equal.\n",
    "\n"
   ]
  },
  {
   "cell_type": "code",
   "execution_count": 64,
   "metadata": {},
   "outputs": [],
   "source": [
    "def solution(str1, str2):\n",
    "    \n",
    "    stack1 = []\n",
    "    stack2 = []\n",
    "    \n",
    "    for c in str1:\n",
    "        if c == '#':\n",
    "            stack1.pop()\n",
    "        else:\n",
    "            stack1.append(c)\n",
    "    \n",
    "    for c in str2:\n",
    "        if c == '#':\n",
    "            stack2.pop()\n",
    "        else:\n",
    "            stack2.append(c)\n",
    "    \n",
    "    if stack1 == stack2:\n",
    "        return True\n",
    "    return False\n"
   ]
  },
  {
   "cell_type": "markdown",
   "metadata": {},
   "source": [
    "**replace string with list, but it still sucks**"
   ]
  },
  {
   "cell_type": "code",
   "execution_count": 68,
   "metadata": {},
   "outputs": [],
   "source": [
    "def remove(s):\n",
    "    \n",
    "    l = list(s)\n",
    "    i = 0\n",
    "    for j in range(len(l)):\n",
    "        if l[j] == '#':\n",
    "            if i > 0:\n",
    "                i -= 1\n",
    "        else:\n",
    "            l[i], l[j] = l[j], l[i]\n",
    "            i += 1\n",
    "\n",
    "    return l[:i]\n",
    "\n",
    "\n",
    "def solution2(str1, str2):\n",
    "    return remove(str1) == remove(str2)\n",
    "    \n"
   ]
  },
  {
   "cell_type": "markdown",
   "metadata": {},
   "source": [
    "**Solution from educative**"
   ]
  },
  {
   "cell_type": "code",
   "execution_count": 72,
   "metadata": {},
   "outputs": [],
   "source": [
    "def getNextValidChar(s, idx):\n",
    "    bCounts = 0\n",
    "    \n",
    "    while (idx >= 0):\n",
    "        if s[idx] == '#':\n",
    "            bCounts += 1\n",
    "        elif bCounts > 0:\n",
    "            bCounts -= 1\n",
    "        else:\n",
    "            break\n",
    "            \n",
    "        idx -= 1\n",
    "    return idx\n",
    "\n",
    "\n",
    "\n",
    "\n",
    "\n",
    "\n",
    "def backspace_compare(str1, str2):\n",
    "    \n",
    "    i = len(str1) - 1\n",
    "    j = len(str2) - 1\n",
    "    \n",
    "    while (i >= 0 or j >= 0):\n",
    "        \n",
    "        # remove backspaces\n",
    "        i2 = getNextValidChar(str1, i)\n",
    "        j2 = getNextValidChar(str2, j)\n",
    "        \n",
    "        # reach the end of both the strings\n",
    "        if i2 < 0 and j2 < 0:\n",
    "            return True\n",
    "        \n",
    "        # reach the end of one string\n",
    "        if i2 < 0 or j2 < 0:\n",
    "            return False\n",
    "        \n",
    "        # don't match\n",
    "        if str1[i2] != str2[j2]:\n",
    "            return False\n",
    "        \n",
    "        \n",
    "        i = i2 - 1\n",
    "        j = j2 - 1\n",
    "        \n",
    "    \n",
    "    return True\n",
    "        \n",
    "        \n",
    "    \n",
    "    "
   ]
  },
  {
   "cell_type": "code",
   "execution_count": 71,
   "metadata": {},
   "outputs": [
    {
     "name": "stdout",
     "output_type": "stream",
     "text": [
      "True\n",
      "False\n"
     ]
    }
   ],
   "source": [
    "tests = [(\"xy#z\", \"xzz#\"), (\"xy#z\", \"xyz#\")]\n",
    "\n",
    "for test in tests:\n",
    "    print(backspace_compare(*test))"
   ]
  },
  {
   "cell_type": "code",
   "execution_count": null,
   "metadata": {},
   "outputs": [],
   "source": []
  }
 ],
 "metadata": {
  "kernelspec": {
   "display_name": "Python 3",
   "language": "python",
   "name": "python3"
  },
  "language_info": {
   "codemirror_mode": {
    "name": "ipython",
    "version": 3
   },
   "file_extension": ".py",
   "mimetype": "text/x-python",
   "name": "python",
   "nbconvert_exporter": "python",
   "pygments_lexer": "ipython3",
   "version": "3.8.2"
  }
 },
 "nbformat": 4,
 "nbformat_minor": 4
}
