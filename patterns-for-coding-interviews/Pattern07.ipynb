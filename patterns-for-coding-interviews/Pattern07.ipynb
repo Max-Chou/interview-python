{
 "cells": [
  {
   "cell_type": "markdown",
   "metadata": {},
   "source": [
    "# Tree Breath First Search\n",
    "\n",
    "This pattern is based on the Breadth First Search (BFS) technique to traverse a tree.\n",
    "\n",
    "Any problem involving the traversal of a tree in a level-by-level order can be efficiently solved using this approach. We will use a Queue to keep track of all the nodes of a level before we jump onto the next level. This also means that the space complexity of the algorithm will be O(W)O(W), where ‘W’ is the maximum number of nodes on any level."
   ]
  },
  {
   "cell_type": "code",
   "execution_count": 1,
   "metadata": {},
   "outputs": [],
   "source": [
    "from collections import deque\n",
    "\n",
    "class Node:\n",
    "    def __init__(self, val):\n",
    "        self.val = val\n",
    "        self.left = None\n",
    "        self.right = None\n",
    "    "
   ]
  },
  {
   "cell_type": "markdown",
   "metadata": {},
   "source": [
    "## Binary Tree Level Order Traversal (easy)\n",
    "\n",
    "\n",
    "Given a binary tree, populate an array to represent its level-by-level traversal. You should populate the values of all nodes of each level from left to right in separate sub-arrays."
   ]
  },
  {
   "cell_type": "code",
   "execution_count": 2,
   "metadata": {},
   "outputs": [],
   "source": [
    "def traverse(root):\n",
    "    result = []\n",
    "  \n",
    "    queue = []\n",
    "    queue.append([root, 0])\n",
    "    level = 0\n",
    "    while queue:\n",
    "        current_level = []\n",
    "        while True:\n",
    "            current = queue.pop(0)\n",
    "            current_level.append(current[0].val)\n",
    "\n",
    "            if current[0].left:\n",
    "                queue.append([current[0].left, current[1]+1])\n",
    "      \n",
    "            if current[0].right:\n",
    "                queue.append([current[0].right, current[1]+1])\n",
    "      \n",
    "            if not queue:\n",
    "                break\n",
    "\n",
    "            if queue[0][1] != level:\n",
    "                break\n",
    "\n",
    "    \n",
    "        level += 1\n",
    "        result.append(current_level)\n",
    "\n",
    "    return result\n",
    "        "
   ]
  },
  {
   "cell_type": "code",
   "execution_count": 3,
   "metadata": {},
   "outputs": [],
   "source": [
    "def traverse(root):\n",
    "    result = []\n",
    "    if not root:\n",
    "        return result\n",
    "    \n",
    "    queue = deque()\n",
    "    queue.append(root)\n",
    "    while queue:\n",
    "        levelsize = len(queue)\n",
    "        current_level = []\n",
    "        for _ in range(levelsize):\n",
    "            current = queue.popleft()\n",
    "            current_level.append(current.val)\n",
    "        \n",
    "            if current.left:\n",
    "                queue.append(current.left)\n",
    "            \n",
    "            if current.right:\n",
    "                queue.append(current.right)\n",
    "        \n",
    "        result.append(current_level)\n",
    "    \n",
    "    return result"
   ]
  },
  {
   "cell_type": "code",
   "execution_count": 4,
   "metadata": {},
   "outputs": [
    {
     "name": "stdout",
     "output_type": "stream",
     "text": [
      "[[12], [7, 1], [9, 10, 5]]\n"
     ]
    }
   ],
   "source": [
    "root = Node(12)\n",
    "root.left = Node(7)\n",
    "root.right = Node(1)\n",
    "root.left.left = Node(9)\n",
    "root.right.left = Node(10)\n",
    "root.right.right = Node(5)\n",
    "\n",
    "print(traverse(root))\n"
   ]
  },
  {
   "cell_type": "markdown",
   "metadata": {},
   "source": [
    "## Reverse Level Order Traversal (easy)\n",
    "\n",
    "Given a binary tree, populate an array to represent its level-by-level traversal in reverse order, i.e., the lowest level comes first. You should populate the values of all nodes in each level from left to right in separate sub-arrays."
   ]
  },
  {
   "cell_type": "code",
   "execution_count": 5,
   "metadata": {},
   "outputs": [],
   "source": [
    "def traverse(root):\n",
    "    result = []\n",
    "    if not root:\n",
    "        return result\n",
    "    \n",
    "    queue = deque()\n",
    "    queue.append(root)\n",
    "    while queue:\n",
    "        levelsize = len(queue)\n",
    "        current_level = []\n",
    "        for _ in range(levelsize):\n",
    "            current = queue.popleft()\n",
    "            current_level.append(current.val)\n",
    "        \n",
    "            if current.left:\n",
    "                queue.append(current.left)\n",
    "            \n",
    "            if current.right:\n",
    "                queue.append(current.right)\n",
    "        \n",
    "        result.append(current_level)\n",
    "    \n",
    "    return result[::-1]"
   ]
  },
  {
   "cell_type": "code",
   "execution_count": 6,
   "metadata": {},
   "outputs": [],
   "source": [
    "def traverse(root):\n",
    "    result = deque()\n",
    "    if not root:\n",
    "        return result\n",
    "    \n",
    "    queue = deque()\n",
    "    queue.append(root)\n",
    "    while queue:\n",
    "        levelsize = len(queue)\n",
    "        current_level = []\n",
    "        for _ in range(levelsize):\n",
    "            current = queue.popleft()\n",
    "            current_level.append(current.val)\n",
    "        \n",
    "            if current.left:\n",
    "                queue.append(current.left)\n",
    "            \n",
    "            if current.right:\n",
    "                queue.append(current.right)\n",
    "        \n",
    "        result.appendleft(current_level)\n",
    "    \n",
    "    return result\n",
    "    "
   ]
  },
  {
   "cell_type": "code",
   "execution_count": 7,
   "metadata": {},
   "outputs": [
    {
     "name": "stdout",
     "output_type": "stream",
     "text": [
      "deque([[9, 10, 5], [7, 1], [12]])\n"
     ]
    }
   ],
   "source": [
    "root = Node(12)\n",
    "root.left = Node(7)\n",
    "root.right = Node(1)\n",
    "root.left.left = Node(9)\n",
    "root.right.left = Node(10)\n",
    "root.right.right = Node(5)\n",
    "\n",
    "print(traverse(root))"
   ]
  },
  {
   "cell_type": "markdown",
   "metadata": {},
   "source": [
    "## Zigzag Traversal (medium)\n",
    "\n",
    "Given a binary tree, populate an array to represent its zigzag level order traversal. You should populate the values of all nodes of the first level from left to right, then right to left for the next level and keep alternating in the same manner for the following levels.\n"
   ]
  },
  {
   "cell_type": "code",
   "execution_count": 8,
   "metadata": {},
   "outputs": [],
   "source": [
    "def traverse(root):\n",
    "    result = []\n",
    "    if not root:\n",
    "        return result\n",
    "    \n",
    "    queue = deque()\n",
    "    queue.append(root)\n",
    "    left = True\n",
    "    while queue:\n",
    "        levelsize = len(queue)\n",
    "        current_level = []\n",
    "        \n",
    "        for _ in range(levelsize):\n",
    "\n",
    "            current = queue.popleft()\n",
    "            current_level.append(current.val)\n",
    "        \n",
    "            if current.left:\n",
    "                queue.append(current.left)\n",
    "            \n",
    "            if current.right:\n",
    "                queue.append(current.right)               \n",
    "        \n",
    "        # reverse the array\n",
    "        if left:\n",
    "            result.append(current_level)\n",
    "        else:\n",
    "            result.append(current_level[::-1])\n",
    "            \n",
    "        left = not left\n",
    "    \n",
    "    return result"
   ]
  },
  {
   "cell_type": "code",
   "execution_count": 9,
   "metadata": {},
   "outputs": [
    {
     "name": "stdout",
     "output_type": "stream",
     "text": [
      "[[12], [1, 7], [9, 10, 5], [17, 20]]\n"
     ]
    }
   ],
   "source": [
    "root = Node(12)\n",
    "root.left = Node(7)\n",
    "root.right = Node(1)\n",
    "root.left.left = Node(9)\n",
    "root.right.left = Node(10)\n",
    "root.right.right = Node(5)\n",
    "root.right.left.left = Node(20)\n",
    "root.right.left.right = Node(17)\n",
    "\n",
    "print(traverse(root))"
   ]
  },
  {
   "cell_type": "markdown",
   "metadata": {},
   "source": [
    "## Level Averages in a Binary Tree (easy)\n",
    "\n",
    "Given a binary tree, populate an array to represent the averages of all of its levels.\n",
    "\n"
   ]
  },
  {
   "cell_type": "code",
   "execution_count": 11,
   "metadata": {},
   "outputs": [],
   "source": [
    "def traverse(root):\n",
    "    result = []\n",
    "    if not root:\n",
    "        return result\n",
    "    \n",
    "    queue = deque()\n",
    "    queue.append(root)\n",
    "    while queue:\n",
    "        levelsize = len(queue)\n",
    "        current_level = 0\n",
    "        for _ in range(levelsize):\n",
    "            current = queue.popleft()\n",
    "            #current_level.append(current.val)\n",
    "            current_level += current.val\n",
    "        \n",
    "            if current.left:\n",
    "                queue.append(current.left)\n",
    "            \n",
    "            if current.right:\n",
    "                queue.append(current.right)\n",
    "        \n",
    "        result.append(current_level/levelsize)\n",
    "    \n",
    "    return result"
   ]
  },
  {
   "cell_type": "code",
   "execution_count": 12,
   "metadata": {},
   "outputs": [
    {
     "name": "stdout",
     "output_type": "stream",
     "text": [
      "[12.0, 4.0, 8.0, 18.5]\n"
     ]
    }
   ],
   "source": [
    "root = Node(12)\n",
    "root.left = Node(7)\n",
    "root.right = Node(1)\n",
    "root.left.left = Node(9)\n",
    "root.right.left = Node(10)\n",
    "root.right.right = Node(5)\n",
    "root.right.left.left = Node(20)\n",
    "root.right.left.right = Node(17)\n",
    "\n",
    "print(traverse(root))"
   ]
  },
  {
   "cell_type": "markdown",
   "metadata": {},
   "source": [
    "## Minimum Depth of a Binary Tree (easy)\n",
    "\n",
    "Find the minimum depth of a binary tree. The minimum depth is the number of nodes along the shortest path from the root node to the nearest leaf node."
   ]
  },
  {
   "cell_type": "code",
   "execution_count": 13,
   "metadata": {},
   "outputs": [],
   "source": [
    "def min_depth(root):\n",
    "    \n",
    "    if not root:\n",
    "        return 0\n",
    "    \n",
    "    queue = deque()\n",
    "    queue.append(root)\n",
    "    \n",
    "    depth = 0\n",
    "    min_depth = 100\n",
    "    while queue:\n",
    "        levelsize = len(queue)\n",
    "        current_level = []\n",
    "        depth += 1\n",
    "        for _ in range(levelsize):\n",
    "            current = queue.popleft()\n",
    "            current_level.append(current.val)\n",
    "        \n",
    "            if current.left:\n",
    "                queue.append(current.left)\n",
    "            \n",
    "            if current.right:\n",
    "                queue.append(current.right)\n",
    "        \n",
    "            if not current.left and not current.right:\n",
    "                min_depth = min(min_depth, depth)\n",
    "        \n",
    "        \n",
    "        \n",
    "    \n",
    "    return min_depth"
   ]
  },
  {
   "cell_type": "code",
   "execution_count": 14,
   "metadata": {},
   "outputs": [
    {
     "name": "stdout",
     "output_type": "stream",
     "text": [
      "2\n",
      "3\n"
     ]
    }
   ],
   "source": [
    "root = Node(12)\n",
    "root.left = Node(7)\n",
    "root.right = Node(1)\n",
    "root.right.left = Node(10)\n",
    "root.right.right = Node(5)\n",
    "print(min_depth(root))\n",
    "root.left.left = Node(9)\n",
    "root.right.left.left = Node(11)\n",
    "print(min_depth(root))"
   ]
  },
  {
   "cell_type": "code",
   "execution_count": null,
   "metadata": {},
   "outputs": [],
   "source": []
  }
 ],
 "metadata": {
  "kernelspec": {
   "display_name": "Python 3",
   "language": "python",
   "name": "python3"
  },
  "language_info": {
   "codemirror_mode": {
    "name": "ipython",
    "version": 3
   },
   "file_extension": ".py",
   "mimetype": "text/x-python",
   "name": "python",
   "nbconvert_exporter": "python",
   "pygments_lexer": "ipython3",
   "version": "3.8.2"
  }
 },
 "nbformat": 4,
 "nbformat_minor": 4
}
