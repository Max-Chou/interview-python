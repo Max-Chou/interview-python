{
 "cells": [
  {
   "cell_type": "markdown",
   "metadata": {},
   "source": [
    "# Merge Intervals\n",
    "\n",
    "This pattern describes an efficient technique to deal with overlapping intervals. In a lot of problems involving intervals, we either need to find overlapping intervals or merge intervals if they overlap.\n",
    "\n",
    "There are 3 ways that two intervals can relate to each other.\n",
    "\n",
    "1. no overlap\n",
    "2. partially overlap\n",
    "3. totally overlap\n"
   ]
  },
  {
   "cell_type": "markdown",
   "metadata": {},
   "source": [
    "## Merge Intervals (medium)\n",
    "\n",
    "Given a list of intervals, merge all the overlapping intervals to produce a list that has only mutually exclusive intervals."
   ]
  },
  {
   "cell_type": "markdown",
   "metadata": {},
   "source": [
    "**Solution 1**"
   ]
  },
  {
   "cell_type": "code",
   "execution_count": 6,
   "metadata": {},
   "outputs": [],
   "source": [
    "def solution(arr):\n",
    "    \n",
    "    results = []\n",
    "    n = len(arr)\n",
    "    \n",
    "    arr.sort(key=lambda x:x[0])\n",
    "    \n",
    "    start = arr[0][0]\n",
    "    end = arr[0][1]\n",
    "    for a in arr[1:n]:\n",
    "        if a[0] <= end:\n",
    "            end = max(a[1], end)\n",
    "        \n",
    "        else:\n",
    "            results.append([start, end])\n",
    "            start = a[0]\n",
    "            end = a[1]\n",
    "\n",
    "    # last one\n",
    "    results.append([start, end])\n",
    "            \n",
    "    return results\n",
    "\n",
    "    "
   ]
  },
  {
   "cell_type": "code",
   "execution_count": 7,
   "metadata": {},
   "outputs": [
    {
     "name": "stdout",
     "output_type": "stream",
     "text": [
      "[[2, 4], [5, 9]]\n",
      "[[1, 6]]\n",
      "[[1, 8]]\n"
     ]
    }
   ],
   "source": [
    "test1 = [(6, 7), (2, 4), (5, 9)]\n",
    "test2 = [(1, 4), (2, 6), (3, 5)]\n",
    "test3 = [(1, 3), (2, 5), (4, 8), (2, 4)]\n",
    "\n",
    "print(solution(test1))\n",
    "print(solution(test2))\n",
    "print(solution(test3))"
   ]
  },
  {
   "cell_type": "markdown",
   "metadata": {},
   "source": [
    "## Insert Interval (medium)\n",
    "\n",
    "Given a list of non-overlapping intervals sorted by their start time, insert a given interval at the correct position and merge all necessary intervals to produce a list that has only mutually exclusive intervals."
   ]
  },
  {
   "cell_type": "markdown",
   "metadata": {},
   "source": [
    "**Solution 1**\n",
    "\n",
    "compare new interval with the intervals\n",
    "\n"
   ]
  },
  {
   "cell_type": "code",
   "execution_count": 10,
   "metadata": {},
   "outputs": [],
   "source": [
    "def solution(arr, new):\n",
    "    \n",
    "    results = []\n",
    "    n = len(arr)\n",
    "\n",
    "    i = 0\n",
    "    while i < n and arr[i][1] < new[0]:\n",
    "        results.append(arr[i])\n",
    "        i += 1\n",
    "    \n",
    "    \n",
    "    while i < n and arr[i][0] <= new[1]:\n",
    "        new[0] = min(arr[i][0], new[0])\n",
    "        new[1] = max(arr[i][1], new[1])\n",
    "        i += 1\n",
    "    \n",
    "    results.append(new)\n",
    "    \n",
    "    while i < n:\n",
    "        results.append(arr[i])\n",
    "        i += 1\n",
    "    \n",
    "    return results"
   ]
  },
  {
   "cell_type": "markdown",
   "metadata": {},
   "source": [
    "**Solution 2**\n",
    "\n",
    "Insert the interval into original ones. And do the merge.\n"
   ]
  },
  {
   "cell_type": "code",
   "execution_count": 17,
   "metadata": {},
   "outputs": [],
   "source": [
    "def solution2(arr, new):\n",
    "    \n",
    "    results = []\n",
    "    arr.append(new)\n",
    "    arr.sort(key=lambda x:x)\n",
    "    n = len(arr)\n",
    "    \n",
    "    start = arr[0][0]\n",
    "    end = arr[0][1]\n",
    "    for a in arr[1:n]:\n",
    "        if a[0] <= end:\n",
    "            end = max(a[1], end)\n",
    "        \n",
    "        else:\n",
    "            results.append([start, end])\n",
    "            start = a[0]\n",
    "            end = a[1]\n",
    "\n",
    "    # last one\n",
    "    results.append([start, end])\n",
    "            \n",
    "    return results\n",
    "\n",
    "    \n",
    "    "
   ]
  },
  {
   "cell_type": "code",
   "execution_count": 18,
   "metadata": {},
   "outputs": [
    {
     "name": "stdout",
     "output_type": "stream",
     "text": [
      "[[1, 3], [4, 7], [8, 12]]\n",
      "[[1, 3], [4, 12]]\n",
      "[[1, 4], [5, 7]]\n"
     ]
    }
   ],
   "source": [
    "arr1, new1 = [[1, 3], [5, 7], [8, 12]], [4, 6]\n",
    "arr2, new2 = [[1, 3], [5, 7], [8, 12]], [4, 10]\n",
    "arr3, new3 = [[2, 3], [5, 7]], [1, 4]\n",
    "\n",
    "print(solution2(arr1, new1))\n",
    "print(solution2(arr2, new2))\n",
    "print(solution2(arr3, new3))"
   ]
  },
  {
   "cell_type": "markdown",
   "metadata": {},
   "source": [
    "## Intervals Intersection (medium)\n",
    "\n",
    "Given two lists of intervals, find the intersection of these two lists. Each list consists of disjoint intervals sorted on their start time."
   ]
  },
  {
   "cell_type": "markdown",
   "metadata": {},
   "source": [
    "**Solution 1**\n",
    "\n",
    "Combine two arrays of interval and check the overlaps"
   ]
  },
  {
   "cell_type": "code",
   "execution_count": null,
   "metadata": {},
   "outputs": [],
   "source": [
    "def solution(arr1, arr2):\n",
    "    \n",
    "    # combine arr1 and arr2\n",
    "    arr = arr1.copy()\n",
    "    arr.extend(arr2)\n",
    "    arr.sort(key=lambda x: x[0])\n",
    "    \n",
    "    ans = []\n",
    "    \n",
    "    start = arr[0][0]\n",
    "    end = arr[0][1]\n",
    "    for elem in arr[1:]:\n",
    "        if elem[0] <= end:\n",
    "            new_start = max(elem[0], start)\n",
    "            new_end = min(elem[1], end)\n",
    "            ans.append([new_start, new_end])\n",
    "\n",
    "        start = elem[0]\n",
    "        end = max(elem[1], end)\n",
    "        \n",
    "        #print(elem[0], elem[1], start, end)\n",
    "    \n",
    "    return ans\n"
   ]
  },
  {
   "cell_type": "markdown",
   "metadata": {},
   "source": [
    "**Solution 2**\n",
    "\n",
    "move the positions in the two arrays\n"
   ]
  },
  {
   "cell_type": "code",
   "execution_count": 33,
   "metadata": {},
   "outputs": [],
   "source": [
    "def solution(arr1, arr2):\n",
    "    \n",
    "    i = 0\n",
    "    j = 0\n",
    "    \n",
    "    n1 = len(arr1)\n",
    "    n2 = len(arr2)\n",
    "    \n",
    "    results = []\n",
    "    \n",
    "    while i < n1 and j < n2:\n",
    "        \n",
    "        # check if the two intervals overlap \n",
    "        is_ab = arr1[i][0] >= arr2[j][0] and arr1[i][0] <= arr2[j][1]\n",
    "        is_ba = arr2[j][0] >= arr1[i][0] and arr2[j][0] <= arr1[i][1]\n",
    "        \n",
    "        if (is_ab or is_ba):\n",
    "            results.append([max(arr1[i][0], arr2[j][0]), min(arr1[i][1], arr2[j][1])])\n",
    "        \n",
    "        # move\n",
    "        if arr1[i][1] < arr2[j][1]:\n",
    "            i += 1\n",
    "        else:\n",
    "            j += 1\n",
    "    \n",
    "    return results\n",
    "    "
   ]
  },
  {
   "cell_type": "code",
   "execution_count": 34,
   "metadata": {},
   "outputs": [
    {
     "name": "stdout",
     "output_type": "stream",
     "text": [
      "[[5, 7], [9, 10]]\n"
     ]
    }
   ],
   "source": [
    "arr1=[[1, 3], [5, 6], [7, 9]]\n",
    "arr2=[[2, 3], [5, 7]]\n",
    "\n",
    "arr1=[[1, 3], [5, 7], [9, 12]]\n",
    "arr2=[[5, 10]]\n",
    "\n",
    "print(solution(arr1, arr2))"
   ]
  },
  {
   "cell_type": "code",
   "execution_count": null,
   "metadata": {},
   "outputs": [],
   "source": []
  }
 ],
 "metadata": {
  "kernelspec": {
   "display_name": "Python 3",
   "language": "python",
   "name": "python3"
  },
  "language_info": {
   "codemirror_mode": {
    "name": "ipython",
    "version": 3
   },
   "file_extension": ".py",
   "mimetype": "text/x-python",
   "name": "python",
   "nbconvert_exporter": "python",
   "pygments_lexer": "ipython3",
   "version": "3.8.2"
  }
 },
 "nbformat": 4,
 "nbformat_minor": 4
}
