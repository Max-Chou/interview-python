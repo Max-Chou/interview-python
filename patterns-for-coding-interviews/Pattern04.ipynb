{
 "cells": [
  {
   "cell_type": "markdown",
   "metadata": {},
   "source": [
    "# Merge Intervals\n",
    "\n",
    "This pattern describes an efficient technique to deal with overlapping intervals. In a lot of problems involving intervals, we either need to find overlapping intervals or merge intervals if they overlap.\n",
    "\n",
    "There are 3 ways that two intervals can relate to each other.\n",
    "\n",
    "1. no overlap\n",
    "2. partially overlap\n",
    "3. totally overlap\n"
   ]
  },
  {
   "cell_type": "markdown",
   "metadata": {},
   "source": [
    "## Merge Intervals (medium)\n",
    "\n",
    "Given a list of intervals, merge all the overlapping intervals to produce a list that has only mutually exclusive intervals."
   ]
  },
  {
   "cell_type": "markdown",
   "metadata": {},
   "source": [
    "**Solution 1**"
   ]
  },
  {
   "cell_type": "code",
   "execution_count": 6,
   "metadata": {},
   "outputs": [],
   "source": [
    "def solution(arr):\n",
    "    \n",
    "    results = []\n",
    "    n = len(arr)\n",
    "    \n",
    "    arr.sort(key=lambda x:x[0])\n",
    "    \n",
    "    start = arr[0][0]\n",
    "    end = arr[0][1]\n",
    "    for a in arr[1:n]:\n",
    "        if a[0] <= end:\n",
    "            end = max(a[1], end)\n",
    "        \n",
    "        else:\n",
    "            results.append([start, end])\n",
    "            start = a[0]\n",
    "            end = a[1]\n",
    "\n",
    "    # last one\n",
    "    results.append([start, end])\n",
    "            \n",
    "    return results\n",
    "\n",
    "    "
   ]
  },
  {
   "cell_type": "code",
   "execution_count": 7,
   "metadata": {},
   "outputs": [
    {
     "name": "stdout",
     "output_type": "stream",
     "text": [
      "[[2, 4], [5, 9]]\n",
      "[[1, 6]]\n",
      "[[1, 8]]\n"
     ]
    }
   ],
   "source": [
    "test1 = [(6, 7), (2, 4), (5, 9)]\n",
    "test2 = [(1, 4), (2, 6), (3, 5)]\n",
    "test3 = [(1, 3), (2, 5), (4, 8), (2, 4)]\n",
    "\n",
    "print(solution(test1))\n",
    "print(solution(test2))\n",
    "print(solution(test3))"
   ]
  },
  {
   "cell_type": "markdown",
   "metadata": {},
   "source": [
    "## Insert Interval (medium)\n",
    "\n",
    "Given a list of non-overlapping intervals sorted by their start time, insert a given interval at the correct position and merge all necessary intervals to produce a list that has only mutually exclusive intervals."
   ]
  },
  {
   "cell_type": "markdown",
   "metadata": {},
   "source": [
    "**Solution 1**\n",
    "\n",
    "compare new interval with the intervals\n",
    "\n"
   ]
  },
  {
   "cell_type": "code",
   "execution_count": 10,
   "metadata": {},
   "outputs": [],
   "source": [
    "def solution(arr, new):\n",
    "    \n",
    "    results = []\n",
    "    n = len(arr)\n",
    "\n",
    "    i = 0\n",
    "    while i < n and arr[i][1] < new[0]:\n",
    "        results.append(arr[i])\n",
    "        i += 1\n",
    "    \n",
    "    \n",
    "    while i < n and arr[i][0] <= new[1]:\n",
    "        new[0] = min(arr[i][0], new[0])\n",
    "        new[1] = max(arr[i][1], new[1])\n",
    "        i += 1\n",
    "    \n",
    "    results.append(new)\n",
    "    \n",
    "    while i < n:\n",
    "        results.append(arr[i])\n",
    "        i += 1\n",
    "    \n",
    "    return results"
   ]
  },
  {
   "cell_type": "markdown",
   "metadata": {},
   "source": [
    "**Solution 2**\n",
    "\n",
    "Insert the interval into original ones. And do the merge.\n"
   ]
  },
  {
   "cell_type": "code",
   "execution_count": 17,
   "metadata": {},
   "outputs": [],
   "source": [
    "def solution2(arr, new):\n",
    "    \n",
    "    results = []\n",
    "    arr.append(new)\n",
    "    arr.sort(key=lambda x:x)\n",
    "    n = len(arr)\n",
    "    \n",
    "    start = arr[0][0]\n",
    "    end = arr[0][1]\n",
    "    for a in arr[1:n]:\n",
    "        if a[0] <= end:\n",
    "            end = max(a[1], end)\n",
    "        \n",
    "        else:\n",
    "            results.append([start, end])\n",
    "            start = a[0]\n",
    "            end = a[1]\n",
    "\n",
    "    # last one\n",
    "    results.append([start, end])\n",
    "            \n",
    "    return results\n",
    "\n",
    "    \n",
    "    "
   ]
  },
  {
   "cell_type": "code",
   "execution_count": 18,
   "metadata": {},
   "outputs": [
    {
     "name": "stdout",
     "output_type": "stream",
     "text": [
      "[[1, 3], [4, 7], [8, 12]]\n",
      "[[1, 3], [4, 12]]\n",
      "[[1, 4], [5, 7]]\n"
     ]
    }
   ],
   "source": [
    "arr1, new1 = [[1, 3], [5, 7], [8, 12]], [4, 6]\n",
    "arr2, new2 = [[1, 3], [5, 7], [8, 12]], [4, 10]\n",
    "arr3, new3 = [[2, 3], [5, 7]], [1, 4]\n",
    "\n",
    "print(solution2(arr1, new1))\n",
    "print(solution2(arr2, new2))\n",
    "print(solution2(arr3, new3))"
   ]
  },
  {
   "cell_type": "markdown",
   "metadata": {},
   "source": [
    "## Intervals Intersection (medium)\n",
    "\n",
    "Given two lists of intervals, find the intersection of these two lists. Each list consists of disjoint intervals sorted on their start time."
   ]
  },
  {
   "cell_type": "markdown",
   "metadata": {},
   "source": [
    "**Solution 1**\n",
    "\n",
    "Combine two arrays of interval and check the overlaps"
   ]
  },
  {
   "cell_type": "code",
   "execution_count": null,
   "metadata": {},
   "outputs": [],
   "source": [
    "def solution(arr1, arr2):\n",
    "    \n",
    "    # combine arr1 and arr2\n",
    "    arr = arr1.copy()\n",
    "    arr.extend(arr2)\n",
    "    arr.sort(key=lambda x: x[0])\n",
    "    \n",
    "    ans = []\n",
    "    \n",
    "    start = arr[0][0]\n",
    "    end = arr[0][1]\n",
    "    for elem in arr[1:]:\n",
    "        if elem[0] <= end:\n",
    "            new_start = max(elem[0], start)\n",
    "            new_end = min(elem[1], end)\n",
    "            ans.append([new_start, new_end])\n",
    "\n",
    "        start = elem[0]\n",
    "        end = max(elem[1], end)\n",
    "        \n",
    "        #print(elem[0], elem[1], start, end)\n",
    "    \n",
    "    return ans\n"
   ]
  },
  {
   "cell_type": "markdown",
   "metadata": {},
   "source": [
    "**Solution 2**\n",
    "\n",
    "move the positions in the two arrays\n"
   ]
  },
  {
   "cell_type": "code",
   "execution_count": 33,
   "metadata": {},
   "outputs": [],
   "source": [
    "def solution(arr1, arr2):\n",
    "    \n",
    "    i = 0\n",
    "    j = 0\n",
    "    \n",
    "    n1 = len(arr1)\n",
    "    n2 = len(arr2)\n",
    "    \n",
    "    results = []\n",
    "    \n",
    "    while i < n1 and j < n2:\n",
    "        \n",
    "        # check if the two intervals overlap \n",
    "        is_ab = arr1[i][0] >= arr2[j][0] and arr1[i][0] <= arr2[j][1]\n",
    "        is_ba = arr2[j][0] >= arr1[i][0] and arr2[j][0] <= arr1[i][1]\n",
    "        \n",
    "        if (is_ab or is_ba):\n",
    "            results.append([max(arr1[i][0], arr2[j][0]), min(arr1[i][1], arr2[j][1])])\n",
    "        \n",
    "        # move\n",
    "        if arr1[i][1] < arr2[j][1]:\n",
    "            i += 1\n",
    "        else:\n",
    "            j += 1\n",
    "    \n",
    "    return results\n",
    "    "
   ]
  },
  {
   "cell_type": "code",
   "execution_count": 34,
   "metadata": {},
   "outputs": [
    {
     "name": "stdout",
     "output_type": "stream",
     "text": [
      "[[5, 7], [9, 10]]\n"
     ]
    }
   ],
   "source": [
    "arr1=[[1, 3], [5, 6], [7, 9]]\n",
    "arr2=[[2, 3], [5, 7]]\n",
    "\n",
    "arr1=[[1, 3], [5, 7], [9, 12]]\n",
    "arr2=[[5, 10]]\n",
    "\n",
    "print(solution(arr1, arr2))"
   ]
  },
  {
   "cell_type": "markdown",
   "metadata": {},
   "source": [
    "## Conflicting Appointments (medium)\n",
    "\n",
    "Given an array of intervals representing ‘N’ appointments, find out if a person can attend all the appointments."
   ]
  },
  {
   "cell_type": "code",
   "execution_count": 1,
   "metadata": {},
   "outputs": [],
   "source": [
    "def solution(arr):\n",
    "    \n",
    "    arr.sort(key=lambda a: a[0])\n",
    "    \n",
    "    start = arr[0][0]\n",
    "    end = arr[0][1]\n",
    "    for a in arr[1:]:\n",
    "        if a[0] > end:\n",
    "            start = a[0]\n",
    "            end = a[1]\n",
    "        else:\n",
    "            return False\n",
    "    \n",
    "    return True\n",
    "    "
   ]
  },
  {
   "cell_type": "markdown",
   "metadata": {},
   "source": [
    "**Similar Problems**\n",
    "\n",
    "Problem 1: Given a list of appointments, find all the conflicting appointments.\n"
   ]
  },
  {
   "cell_type": "markdown",
   "metadata": {},
   "source": [
    "## Minimum Meeting Rooms (hard)\n",
    "\n",
    "Given a list of intervals representing the start and end time of ‘N’ meetings, find the minimum number of rooms required to hold all the meetings.\n",
    "\n"
   ]
  },
  {
   "cell_type": "code",
   "execution_count": 23,
   "metadata": {},
   "outputs": [],
   "source": [
    "class Meeting:\n",
    "    def __init__(self, start, end):\n",
    "        self.start = start\n",
    "        self.end = end\n",
    "    \n",
    "    def __lt__(self, other):\n",
    "        # min heap based on meeting.end\n",
    "        return self.end < other.end"
   ]
  },
  {
   "cell_type": "code",
   "execution_count": 26,
   "metadata": {},
   "outputs": [],
   "source": [
    "def solution(arr):\n",
    "\n",
    "    arr.sort(key=lambda a: a.start)\n",
    "\n",
    "    rooms = []\n",
    "    max_rooms = 0\n",
    "    \n",
    "    for a in arr:\n",
    "        \n",
    "        rooms = list(filter(lambda x: x.end > a.start, rooms))\n",
    "        rooms.append(a)\n",
    "        \n",
    "        max_rooms = max(max_rooms, len(rooms))\n",
    "    \n",
    "    return max_rooms\n",
    "            \n"
   ]
  },
  {
   "cell_type": "code",
   "execution_count": 30,
   "metadata": {},
   "outputs": [],
   "source": [
    "from heapq import heappop, heappush\n",
    "\n",
    "\n",
    "def solution(arr):\n",
    "    \n",
    "    arr.sort(key=lambda a: a.start)\n",
    "    \n",
    "    rooms = []\n",
    "    max_rooms = 0\n",
    "    for a in arr:\n",
    "        while (len(rooms) > 0 and a.start >= rooms[0].end):\n",
    "            heappop(rooms)\n",
    "        \n",
    "        heappush(rooms, a)\n",
    "        \n",
    "        max_rooms = max(max_rooms, len(rooms))\n",
    "    return max_rooms"
   ]
  },
  {
   "cell_type": "code",
   "execution_count": 31,
   "metadata": {},
   "outputs": [
    {
     "name": "stdout",
     "output_type": "stream",
     "text": [
      "Minimum meeting rooms required: 2\n",
      "Minimum meeting rooms required: 2\n",
      "Minimum meeting rooms required: 1\n",
      "Minimum meeting rooms required: 2\n",
      "Minimum meeting rooms required: 2\n"
     ]
    }
   ],
   "source": [
    "print(\"Minimum meeting rooms required: \" + str(solution(\n",
    "    [Meeting(4, 5), Meeting(2, 3), Meeting(2, 4), Meeting(3, 5)])))\n",
    "print(\"Minimum meeting rooms required: \" +\n",
    "        str(solution([Meeting(1, 4), Meeting(2, 5), Meeting(7, 9)])))\n",
    "print(\"Minimum meeting rooms required: \" +\n",
    "        str(solution([Meeting(6, 7), Meeting(2, 4), Meeting(8, 12)])))\n",
    "print(\"Minimum meeting rooms required: \" +\n",
    "        str(solution([Meeting(1, 4), Meeting(2, 3), Meeting(3, 6)])))\n",
    "print(\"Minimum meeting rooms required: \" + str(solution(\n",
    "    [Meeting(4, 5), Meeting(2, 3), Meeting(2, 4), Meeting(3, 5)])))\n"
   ]
  },
  {
   "cell_type": "markdown",
   "metadata": {},
   "source": [
    "### Similar Problems\n",
    "Problem 1: Given a list of intervals, find the point where the maximum number of intervals overlap.\n",
    "\n",
    "Problem 2: Given a list of intervals representing the arrival and departure times of trains to a train station, our goal is to find the minimum number of platforms required for the train station so that no train has to wait."
   ]
  },
  {
   "cell_type": "markdown",
   "metadata": {},
   "source": [
    "## Maximum CPU Load (hard)\n",
    "\n",
    "We are given a list of Jobs. Each job has a Start time, an End time, and a CPU load when it is running. Our goal is to find the maximum CPU load at any time if all the jobs are running on the same machine.\n",
    "\n"
   ]
  },
  {
   "cell_type": "code",
   "execution_count": 33,
   "metadata": {},
   "outputs": [],
   "source": [
    "from heapq import heappop, heappush\n",
    "\n",
    "class Job:\n",
    "    def __init__(self, start, end, cpu_load):\n",
    "        self.start = start\n",
    "        self.end = end\n",
    "        self.cpu_load = cpu_load\n",
    "    \n",
    "    def __lt__(self, other):\n",
    "        return self.end < other.end\n",
    "\n",
    "def solution(jobs):\n",
    "    \n",
    "    jobs.sort(key=lambda j: j.start)\n",
    "    max_load = 0\n",
    "    slots = []\n",
    "    for j in jobs:\n",
    "        while len(slots) > 0 and slots[0].end <= j.start:\n",
    "            heappop(slots)\n",
    "        \n",
    "        heappush(slots, j)\n",
    "        \n",
    "        s = 0\n",
    "        for job in slots:\n",
    "            s += job.cpu_load\n",
    "        \n",
    "        max_load = max(max_load, s)\n",
    "    \n",
    "    return max_load\n",
    "    "
   ]
  },
  {
   "cell_type": "code",
   "execution_count": 34,
   "metadata": {},
   "outputs": [
    {
     "name": "stdout",
     "output_type": "stream",
     "text": [
      "Maximum CPU load at any time: 7\n",
      "Maximum CPU load at any time: 15\n",
      "Maximum CPU load at any time: 8\n"
     ]
    }
   ],
   "source": [
    "print(\"Maximum CPU load at any time: \" + str(solution([Job(1, 4, 3), Job(2, 5, 4), Job(7, 9, 6)])))\n",
    "print(\"Maximum CPU load at any time: \" + str(solution([Job(6, 7, 10), Job(2, 4, 11), Job(8, 12, 15)])))\n",
    "print(\"Maximum CPU load at any time: \" + str(solution([Job(1, 4, 2), Job(2, 4, 1), Job(3, 6, 5)])))\n"
   ]
  },
  {
   "cell_type": "markdown",
   "metadata": {},
   "source": [
    "## Employee Free Time (hard)\n",
    "\n",
    "For ‘K’ employees, we are given a list of intervals representing the working hours of each employee. Our goal is to find out if there is a free interval that is common to all employees. You can assume that each list of employee working hours is sorted on the start time."
   ]
  },
  {
   "cell_type": "code",
   "execution_count": 46,
   "metadata": {},
   "outputs": [],
   "source": [
    "from heapq import heappush, heappop\n",
    "\n",
    "class Interval:\n",
    "    def __init__(self, start, end):\n",
    "        self.start = start\n",
    "        self.end = end\n",
    "    \n",
    "    def __repr__(self):\n",
    "        return \"[\" + str(self.start) + \", \" + str(self.end) + \"]\"\n",
    "\n",
    "class EmployeeInterval:\n",
    "    def __init__(self, interval, employeeIndex, intervalIndex):\n",
    "        self.interval = interval\n",
    "        self.employeeIndex = employeeIndex\n",
    "        self.intervalIndex = intervalIndex\n",
    "\n",
    "    def __lt__(self, other):\n",
    "        return self.interval.start < other.interval.start\n",
    "\n",
    "def solution(schedule):\n",
    "    \n",
    "    n = len(schedule)\n",
    "    result, minHeap = [], []\n",
    "    \n",
    "    for i in range(n):\n",
    "        heappush(minHeap, EmployeeInterval(schedule[i][0], i, 0))\n",
    "    \n",
    "    \n",
    "    prevInterval = minHeap[0].interval\n",
    "    while minHeap:\n",
    "        queueTop = heappop(minHeap)\n",
    "        \n",
    "        # no overlap\n",
    "        if prevInterval.end < queueTop.interval.start:\n",
    "            result.append(Interval(prevInterval.end, queueTop.interval.start))\n",
    "            prevInterval = queueTop.interval\n",
    "        \n",
    "        else:\n",
    "            # update prevInterval\n",
    "            if prevInterval.end < queueTop.interval.end:\n",
    "                prevInterval = queueTop.interval\n",
    "        \n",
    "        # push if there is more intervals in employee's schedule\n",
    "        employeeSchedule = schedule[queueTop.employeeIndex]\n",
    "        if len(employeeSchedule) > queueTop.intervalIndex + 1:\n",
    "            heappush(minHeap, EmployeeInterval(employeeSchedule[queueTop.intervalIndex + 1], queueTop.employeeIndex,\n",
    "                                               queueTop.intervalIndex + 1))\n",
    "\n",
    "    return result\n",
    "        \n",
    "    "
   ]
  },
  {
   "cell_type": "code",
   "execution_count": 50,
   "metadata": {},
   "outputs": [
    {
     "name": "stdout",
     "output_type": "stream",
     "text": [
      "Free intervals: [3, 5]\n",
      "Free intervals: [4, 6][8, 9]\n",
      "Free intervals: [5, 7]"
     ]
    }
   ],
   "source": [
    "input = [[Interval(1, 3), Interval(5, 6)], [\n",
    "        Interval(2, 3), Interval(6, 8)]]\n",
    "print(\"Free intervals: \", end='')\n",
    "for interval in solution(input):\n",
    "    print(interval, end='')\n",
    "print()\n",
    "\n",
    "input = [[Interval(1, 3), Interval(9, 12)], [\n",
    "    Interval(2, 4)], [Interval(6, 8)]]\n",
    "print(\"Free intervals: \", end='')\n",
    "for interval in solution(input):\n",
    "    print(interval, end='')\n",
    "print()\n",
    "\n",
    "input = [[Interval(1, 3)], [\n",
    "    Interval(2, 4)], [Interval(3, 5), Interval(7, 9)]]\n",
    "print(\"Free intervals: \", end='')\n",
    "for interval in solution(input):\n",
    "    print(interval, end='')\n"
   ]
  },
  {
   "cell_type": "code",
   "execution_count": null,
   "metadata": {},
   "outputs": [],
   "source": []
  }
 ],
 "metadata": {
  "kernelspec": {
   "display_name": "Python 3",
   "language": "python",
   "name": "python3"
  },
  "language_info": {
   "codemirror_mode": {
    "name": "ipython",
    "version": 3
   },
   "file_extension": ".py",
   "mimetype": "text/x-python",
   "name": "python",
   "nbconvert_exporter": "python",
   "pygments_lexer": "ipython3",
   "version": "3.8.5"
  }
 },
 "nbformat": 4,
 "nbformat_minor": 4
}
