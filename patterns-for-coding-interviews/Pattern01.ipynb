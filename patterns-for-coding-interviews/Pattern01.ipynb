{
 "cells": [
  {
   "cell_type": "markdown",
   "metadata": {
    "slideshow": {
     "slide_type": "notes"
    }
   },
   "source": [
    "# Pattern: Sliding Window\n",
    "\n",
    "In many problems dealing with an array (or a LinkedList), we are asked to find or calculate something among all the **contiguous subarrays** (or sublists) of a given size.\n"
   ]
  },
  {
   "cell_type": "markdown",
   "metadata": {},
   "source": [
    "## Maximum Sum Subarray of Size K (easy)\n",
    "\n",
    "Given an array of positive numbers and a positive number ‘k’, find the maximum sum of any contiguous subarray of size ‘k’.\n"
   ]
  },
  {
   "cell_type": "markdown",
   "metadata": {},
   "source": [
    "### Solution 1\n",
    "\n",
    "Brute Force\n"
   ]
  },
  {
   "cell_type": "code",
   "execution_count": 16,
   "metadata": {},
   "outputs": [],
   "source": [
    "def solution01(arr, k):\n",
    "    \n",
    "    n = len(arr)\n",
    "    max_sum = 0 # suppose that's the maximum of integer\n",
    "    \n",
    "    for i in range(n):\n",
    "        for j in range(i,n):\n",
    "            \n",
    "            # the size matches k\n",
    "            if (j-i+1) == k:\n",
    "                s = sum(arr[i:j+1])\n",
    "                if s > max_sum:\n",
    "                    max_sum = s\n",
    "    \n",
    "    return max_sum\n",
    "    "
   ]
  },
  {
   "cell_type": "markdown",
   "metadata": {},
   "source": [
    "### Solution 2\n",
    "\n",
    "Sliding Window\n"
   ]
  },
  {
   "cell_type": "code",
   "execution_count": 17,
   "metadata": {},
   "outputs": [],
   "source": [
    "def solution02(arr, k):\n",
    "    \n",
    "    n = len(arr)\n",
    "    \n",
    "    max_sum = sum(arr[0:k])\n",
    "    s = max_sum\n",
    "    for i in range(0, n-k):\n",
    "        s -= arr[i]\n",
    "        s += arr[i+k]\n",
    "        if s > max_sum:\n",
    "            max_sum = s\n",
    "    \n",
    "    return max_sum\n",
    "    \n",
    "    "
   ]
  },
  {
   "cell_type": "markdown",
   "metadata": {},
   "source": [
    "### Test Cases\n",
    "\n",
    "Simple Case"
   ]
  },
  {
   "cell_type": "code",
   "execution_count": 18,
   "metadata": {},
   "outputs": [
    {
     "name": "stdout",
     "output_type": "stream",
     "text": [
      "18\n",
      "18\n"
     ]
    }
   ],
   "source": [
    "arr = [1, 3, 2, 6, -1, 4, 1, 8, 2]\n",
    "k = 5\n",
    "\n",
    "print(solution01(arr, k))\n",
    "print(solution02(arr, k))"
   ]
  },
  {
   "cell_type": "markdown",
   "metadata": {},
   "source": [
    "## Smallest Subarray with a given sum (easy)\n",
    "\n",
    "Given an array of positive numbers and a positive number ‘S’, find the length of the smallest contiguous subarray whose sum is greater than or equal to ‘S’. Return 0, if no such subarray exists.\n"
   ]
  },
  {
   "cell_type": "markdown",
   "metadata": {},
   "source": [
    "### Solution01\n",
    "\n",
    "Brute Force"
   ]
  },
  {
   "cell_type": "code",
   "execution_count": 13,
   "metadata": {},
   "outputs": [],
   "source": [
    "def solution01(arr, k):\n",
    "    \n",
    "    n = len(arr)\n",
    "    min_length = 100000\n",
    "    \n",
    "    for i in range(n):\n",
    "        for j in range(i,n):\n",
    "            if sum(arr[i:j+1]) == k:\n",
    "                if j-i+1 < min_length:\n",
    "                    min_length = j-i+1\n",
    "    \n",
    "    \n",
    "    return min_length"
   ]
  },
  {
   "cell_type": "markdown",
   "metadata": {},
   "source": [
    "### Solution02\n",
    "\n",
    "Sliding Window"
   ]
  },
  {
   "cell_type": "code",
   "execution_count": 14,
   "metadata": {},
   "outputs": [],
   "source": [
    "def solution02(arr, k):\n",
    "    \n",
    "    n = len(arr)\n",
    "    min_length = 100000\n",
    "    i = 0\n",
    "    s = 0\n",
    "    \n",
    "    for j in range(n):\n",
    "        s += arr[j]\n",
    "        \n",
    "        # if sum of subarry is large than k\n",
    "        while s >= k:\n",
    "            if j-i+1 < min_length:\n",
    "                min_length = j-i+1\n",
    "            s -= arr[i]\n",
    "            i += 1\n",
    "    \n",
    "    return min_length\n",
    "    "
   ]
  },
  {
   "cell_type": "markdown",
   "metadata": {},
   "source": [
    "### Test Cases\n",
    "\n",
    "Simple Case"
   ]
  },
  {
   "cell_type": "code",
   "execution_count": 15,
   "metadata": {},
   "outputs": [
    {
     "name": "stdout",
     "output_type": "stream",
     "text": [
      "3\n",
      "3\n"
     ]
    }
   ],
   "source": [
    "arr = [2, 1, 5, 2, 3, 2]\n",
    "k = 8\n",
    "\n",
    "print(solution01(arr, k))\n",
    "print(solution02(arr, k))"
   ]
  },
  {
   "cell_type": "markdown",
   "metadata": {},
   "source": [
    "## Longest Substring with K Distinct Characters (medium)\n",
    "\n",
    "Given a string, find the length of the longest substring in it with no more than K distinct characters.\n"
   ]
  },
  {
   "cell_type": "markdown",
   "metadata": {},
   "source": [
    "### Solution01\n",
    "\n",
    "Sliding Window\n"
   ]
  },
  {
   "cell_type": "code",
   "execution_count": 19,
   "metadata": {},
   "outputs": [],
   "source": [
    "def solution01(arr, k):\n",
    "    \n",
    "    n = len(arr)\n",
    "    dic = {}\n",
    "    max_length = 0\n",
    "    i = 0\n",
    "    \n",
    "    for j in range(n):\n",
    "        a = arr[j]\n",
    "        \n",
    "        if a not in dic:\n",
    "            dic[a] = 0\n",
    "        dic[a] += 1\n",
    "        \n",
    "        while len(dic) > k:\n",
    "            b = arr[i]\n",
    "            dic[b] -= 1\n",
    "            if dic[b] == 0:\n",
    "                del dic[b]\n",
    "            i += 1\n",
    "        \n",
    "        max_length = max(max_length, j-i+1)\n",
    "    \n",
    "    return max_length\n",
    "    \n",
    "    \n",
    "    "
   ]
  },
  {
   "cell_type": "markdown",
   "metadata": {},
   "source": [
    "### Test Cases\n",
    "\n",
    "Simple Case"
   ]
  },
  {
   "cell_type": "code",
   "execution_count": 21,
   "metadata": {},
   "outputs": [
    {
     "name": "stdout",
     "output_type": "stream",
     "text": [
      "4\n"
     ]
    }
   ],
   "source": [
    "arr = \"araaci\"\n",
    "k = 2\n",
    "print(solution01(arr, k))"
   ]
  },
  {
   "cell_type": "markdown",
   "metadata": {},
   "source": [
    "## Fruits into Baskets (medium)\n",
    "\n",
    "Given an array of characters where each character represents a fruit tree, you are given two baskets and your goal is to put maximum number of fruits in each basket. The only restriction is that each basket can have only one type of fruit.\n",
    "\n",
    "You can start with any tree, but **once you have started you can’t skip a tree**. You will pick one fruit from each tree until you cannot, i.e., you will stop when you have to pick from a third fruit type.\n",
    "\n",
    "**Similar Problems**  \n",
    "* Longest Substring with at most 2 distinct characters"
   ]
  },
  {
   "cell_type": "markdown",
   "metadata": {},
   "source": [
    "### Solution01\n",
    "\n",
    "Sliding Window\n"
   ]
  },
  {
   "cell_type": "code",
   "execution_count": null,
   "metadata": {},
   "outputs": [],
   "source": []
  },
  {
   "cell_type": "markdown",
   "metadata": {},
   "source": [
    "## No-repeat Substring (hard)\n",
    "\n",
    "Given a string, find the length of the longest substring which has no repeating characters."
   ]
  },
  {
   "cell_type": "markdown",
   "metadata": {},
   "source": [
    "### Solution01\n",
    "\n",
    "Sliding Window\n"
   ]
  },
  {
   "cell_type": "code",
   "execution_count": 26,
   "metadata": {},
   "outputs": [],
   "source": [
    "def solution01(arr):\n",
    "    \n",
    "    n = len(arr)\n",
    "    dic = {}\n",
    "    max_length = 0\n",
    "    i = 0\n",
    "    \n",
    "    for j in range(n):\n",
    "        a = arr[j]\n",
    "        \n",
    "        if a not in dic:\n",
    "            dic[a] = 0\n",
    "        dic[a] = j\n",
    "        \n",
    "        # size of subarray and length of dictionary\n",
    "        while j-i+1 > len(dic):\n",
    "            b = arr[i]\n",
    "            i += 1\n",
    "            if i > dic[b]:\n",
    "                del dic[b]\n",
    "            \n",
    "        \n",
    "        max_length = max(max_length, j-i+1)\n",
    "    \n",
    "    return max_length"
   ]
  },
  {
   "cell_type": "markdown",
   "metadata": {},
   "source": [
    "### Test Cases\n",
    "\n",
    "Simple Case"
   ]
  },
  {
   "cell_type": "code",
   "execution_count": 27,
   "metadata": {},
   "outputs": [
    {
     "name": "stdout",
     "output_type": "stream",
     "text": [
      "4\n"
     ]
    }
   ],
   "source": [
    "arr = \"afdsasgsagala\"\n",
    "print(solution01(arr))"
   ]
  },
  {
   "cell_type": "markdown",
   "metadata": {},
   "source": [
    "## Longest Substring with Same Letters after Replacement (hard)\n",
    "\n",
    "Given a string with lowercase letters only, if you are allowed to replace no more than ‘k’ letters with any letter, find the length of the longest substring having the same letters after replacement.\n"
   ]
  },
  {
   "cell_type": "markdown",
   "metadata": {},
   "source": [
    "### Solution01\n",
    "\n",
    "Sliding Window\n"
   ]
  },
  {
   "cell_type": "code",
   "execution_count": 29,
   "metadata": {},
   "outputs": [],
   "source": [
    "def solution01(arr, k):\n",
    "    n = len(arr)\n",
    "    dic = {}\n",
    "    \n",
    "    i = 0\n",
    "    \n",
    "    max_counts = 0  # max number of characters in subarray\n",
    "    max_length = 0  # max length of subarray\n",
    "    for j in range(n):\n",
    "        a = arr[j]\n",
    "        \n",
    "        if a not in dic:\n",
    "            dic[a] = 0\n",
    "        dic[a] += 1\n",
    "        \n",
    "        max_counts = max(max_counts, dic[a])\n",
    "        \n",
    "        # number of the other characters should less than k\n",
    "        if j-i+1-max_counts > k:\n",
    "            b = arr[i]\n",
    "            i += 1\n",
    "            dic[b] -= 1\n",
    "        \n",
    "        max_length = max(max_length, j-i+1)\n",
    "    \n",
    "    return max_length\n",
    "        "
   ]
  },
  {
   "cell_type": "markdown",
   "metadata": {},
   "source": [
    "### Test Cases\n",
    "\n",
    "Simple Case"
   ]
  },
  {
   "cell_type": "code",
   "execution_count": 30,
   "metadata": {},
   "outputs": [
    {
     "name": "stdout",
     "output_type": "stream",
     "text": [
      "5\n"
     ]
    }
   ],
   "source": [
    "arr = \"aabccbb\"\n",
    "k = 2\n",
    "\n",
    "print(solution01(arr, k))"
   ]
  },
  {
   "cell_type": "markdown",
   "metadata": {},
   "source": [
    "## Longest Subarray with Ones after Replacement (hard)\n",
    "\n",
    "Given an array containing 0s and 1s, if you are allowed to replace no more than ‘k’ 0s with 1s, find the length of the longest contiguous subarray having all 1s."
   ]
  },
  {
   "cell_type": "code",
   "execution_count": 4,
   "metadata": {},
   "outputs": [],
   "source": [
    "def solution(arr, k):\n",
    "    \n",
    "    n = len(arr)\n",
    "    i = 0\n",
    "    j = 0\n",
    "    window = {0: 0, 1: 0}\n",
    "    maxLength = 0\n",
    "    \n",
    "    \n",
    "    for j in range(n):\n",
    "        c = arr[j]\n",
    "\n",
    "        window[c] += 1\n",
    "        \n",
    "        while j-i+1-window[1] > k:\n",
    "            b = arr[i]\n",
    "            i += 1\n",
    "            window[b] -= 1\n",
    "        \n",
    "        if j-i+1 > maxLength:\n",
    "            maxLength = j-i+1\n",
    "    \n",
    "    return maxLength"
   ]
  },
  {
   "cell_type": "markdown",
   "metadata": {},
   "source": [
    "### Test Case"
   ]
  },
  {
   "cell_type": "code",
   "execution_count": 8,
   "metadata": {},
   "outputs": [
    {
     "name": "stdout",
     "output_type": "stream",
     "text": [
      "2\n",
      "9\n"
     ]
    }
   ],
   "source": [
    "arr1 = [0, 1, 1, 0, 0, 0, 1, 1, 0, 1, 1]\n",
    "arr2 = [0, 1, 0, 0, 1, 1, 0, 1, 1, 0, 0, 1, 1]\n",
    "k1 = 0\n",
    "k2 = 3\n",
    "\n",
    "print(solution(arr1, k1))\n",
    "print(solution(arr2, k2))"
   ]
  },
  {
   "cell_type": "markdown",
   "metadata": {},
   "source": [
    "## Permutation in a String (hard) \n",
    "\n",
    "Given a string and a pattern, find out if the string contains any permutation of the pattern."
   ]
  },
  {
   "cell_type": "code",
   "execution_count": 12,
   "metadata": {},
   "outputs": [],
   "source": [
    "def solution(s, pattern):\n",
    "    \n",
    "    n = len(s)\n",
    "    charCounts = {}\n",
    "    window = {}\n",
    "    i = 0\n",
    "    \n",
    "    for c in pattern:\n",
    "        if c not in charCounts:\n",
    "            charCounts[c] = 0\n",
    "            window[c] = 0\n",
    "        charCounts[c] += 1\n",
    "    \n",
    "    for j in range(n):\n",
    "        c = s[j]\n",
    "        \n",
    "        if c not in window:\n",
    "            i = j+1\n",
    "            for x in window:\n",
    "                window[x] = 0\n",
    "            continue\n",
    "        else:\n",
    "            window[c] += 1\n",
    "        \n",
    "        if window == charCounts:\n",
    "            return True\n",
    "        \n",
    "        while window[c] > charCounts[c]:\n",
    "            b = s[i]\n",
    "            i += 1\n",
    "            window[b] -= 1\n",
    "    \n",
    "    return False"
   ]
  },
  {
   "cell_type": "markdown",
   "metadata": {},
   "source": [
    "### Test"
   ]
  },
  {
   "cell_type": "code",
   "execution_count": 13,
   "metadata": {},
   "outputs": [
    {
     "name": "stdout",
     "output_type": "stream",
     "text": [
      "True\n",
      "False\n",
      "True\n",
      "True\n"
     ]
    }
   ],
   "source": [
    "tests = [(\"oidbcaf\", \"abc\"), (\"odicf\", \"dc\"), (\"bcdxabcdy\", \"bcdyabcdx\"), (\"aaacb\", \"abc\") ]\n",
    "\n",
    "for test in tests:\n",
    "    print(solution(*test))\n"
   ]
  },
  {
   "cell_type": "markdown",
   "metadata": {},
   "source": [
    "## String Anagrams (hard)\n",
    "\n",
    "Given a string and a pattern, find all anagrams of the pattern in the given string."
   ]
  },
  {
   "cell_type": "code",
   "execution_count": 14,
   "metadata": {},
   "outputs": [],
   "source": [
    "def solution(s, pattern):\n",
    "    \n",
    "    n = len(s)\n",
    "    charCounts = {}\n",
    "    window = {}\n",
    "    i = 0\n",
    "    results = []\n",
    "    \n",
    "    for c in pattern:\n",
    "        if c not in charCounts:\n",
    "            charCounts[c] = 0\n",
    "            window[c] = 0\n",
    "        charCounts[c] += 1\n",
    "    \n",
    "    for j in range(n):\n",
    "        c = s[j]\n",
    "        \n",
    "        if c not in window:\n",
    "            i = j+1\n",
    "            for x in window:\n",
    "                window[x] = 0\n",
    "            continue\n",
    "        else:\n",
    "            window[c] += 1\n",
    "        \n",
    "        # find a anagram\n",
    "        if window == charCounts:\n",
    "            results.append(i)\n",
    "            b = s[i]\n",
    "            i += 1\n",
    "            window[b] -= 1\n",
    "        \n",
    "        while window[c] > charCounts[c]:\n",
    "            b = s[i]\n",
    "            i += 1\n",
    "            window[b] -= 1\n",
    "    \n",
    "    return results"
   ]
  },
  {
   "cell_type": "markdown",
   "metadata": {},
   "source": [
    "### Test"
   ]
  },
  {
   "cell_type": "code",
   "execution_count": 16,
   "metadata": {},
   "outputs": [
    {
     "name": "stdout",
     "output_type": "stream",
     "text": [
      "[1, 2]\n",
      "[2, 3, 4]\n"
     ]
    }
   ],
   "source": [
    "tests = [(\"ppqp\", \"pq\"), (\"abbcabc\", \"abc\")]\n",
    "\n",
    "for test in tests:\n",
    "    print(solution(*test))"
   ]
  },
  {
   "cell_type": "markdown",
   "metadata": {},
   "source": [
    "## Smallest Window containing Substring (hard)\n",
    "Given a string and a pattern, find the smallest substring in the given string which has all the characters of the given pattern."
   ]
  },
  {
   "cell_type": "code",
   "execution_count": 1,
   "metadata": {},
   "outputs": [],
   "source": [
    "def contains(d1, d2):\n",
    "    \n",
    "    for c in d2:\n",
    "        if d1[c] < d2[c]:\n",
    "            return False\n",
    "    \n",
    "    return True\n",
    "\n",
    "\n",
    "def solution(s, pattern):\n",
    "    \n",
    "    n = len(s)\n",
    "    minLength = n\n",
    "    \n",
    "    chars = {}\n",
    "    window = {}\n",
    "    i = 0\n",
    "    \n",
    "    result = \"\"\n",
    "    \n",
    "    for c in pattern:\n",
    "        if c not in chars:\n",
    "            chars[c] = 0\n",
    "            window[c] = 0\n",
    "        chars[c] += 1\n",
    "    \n",
    "    \n",
    "    for j in range(n):\n",
    "        c = s[j]\n",
    "        if c in window:\n",
    "            window[c] += 1\n",
    "        \n",
    "        \n",
    "        while contains(window, chars) and i <= j:\n",
    "            if j-i+1 < minLength:\n",
    "                result = s[i:j+1]\n",
    "                minLength = j-i+1\n",
    "            b = s[i]\n",
    "            i += 1\n",
    "            if b in window:\n",
    "                window[b] -= 1\n",
    "                \n",
    "\n",
    "    return result\n",
    "    "
   ]
  },
  {
   "cell_type": "markdown",
   "metadata": {},
   "source": [
    "### solution from Educative"
   ]
  },
  {
   "cell_type": "code",
   "execution_count": 2,
   "metadata": {},
   "outputs": [],
   "source": [
    "def find_substring(s, pattern):\n",
    "    startIndex = 0\n",
    "    matched = 0\n",
    "    substrIndex = 0\n",
    "    minSize = len(s) + 1\n",
    "    size = len(s)\n",
    "    \n",
    "    charFreq = {}\n",
    "    \n",
    "    for c in pattern:\n",
    "        if c not in charFreq:\n",
    "            charFreq[c] = 0\n",
    "        charFreq[c] += 1\n",
    "    \n",
    "    for endIndex in range(size):\n",
    "        c = s[endIndex]\n",
    "        \n",
    "        if c in charFreq:\n",
    "            charFreq[c] -= 1\n",
    "            if charFreq[c] >= 0:\n",
    "                matched += 1\n",
    "        \n",
    "        while matched == len(pattern):\n",
    "            if minSize > endIndex - startIndex + 1:\n",
    "                minSize = endIndex - startIndex + 1\n",
    "                substrIndex = startIndex\n",
    "        \n",
    "            leftChar = s[startIndex]\n",
    "            startIndex += 1\n",
    "            if leftChar in charFreq:\n",
    "                if charFreq[leftChar] == 0:\n",
    "                    matched -= 1\n",
    "                charFreq[leftChar] += 1\n",
    "    \n",
    "    if minSize > len(s):\n",
    "        return \"\"\n",
    "    \n",
    "    return s[substrIndex:substrIndex+minSize]\n",
    "    "
   ]
  },
  {
   "cell_type": "markdown",
   "metadata": {},
   "source": [
    "### Test"
   ]
  },
  {
   "cell_type": "code",
   "execution_count": 3,
   "metadata": {},
   "outputs": [
    {
     "name": "stdout",
     "output_type": "stream",
     "text": [
      "abdec\n",
      "abdec\n",
      "abc\n",
      "abc\n",
      "\n",
      "\n"
     ]
    }
   ],
   "source": [
    "tests = [(\"aabdec\", \"abc\"), (\"abdabca\", \"abc\"), (\"adcad\", \"abc\")]\n",
    "\n",
    "for test in tests:\n",
    "    print(solution(*test))\n",
    "    print(find_substring(*test))"
   ]
  },
  {
   "cell_type": "markdown",
   "metadata": {},
   "source": [
    "## Words Concatenation (hard) (Unsolved)\n",
    "\n",
    "Given a string and a list of words, find all the starting indices of substrings in the given string that are a concatenation of all the given words exactly once without any overlapping of words. It is given that all words are of the same length."
   ]
  },
  {
   "cell_type": "code",
   "execution_count": 39,
   "metadata": {},
   "outputs": [],
   "source": [
    "def solution(s, words):\n",
    "    \n",
    "    wordFreq = {}\n",
    "    for word in words:\n",
    "        if word not in wordFreq:\n",
    "            wordFreq[word] = 0\n",
    "        wordFreq[word] += 1\n",
    "    \n",
    "    numWords = len(words)\n",
    "    sizeWord = len(words[0])\n",
    "    size = len(s)\n",
    "    results = []\n",
    "    \n",
    "    for i in range(size-numWords*sizeWord+1):\n",
    "        wordSeen = {}\n",
    "        for j in range(numWords):\n",
    "            startIndex = i + j*sizeWord\n",
    "            word = s[startIndex:startIndex+sizeWord]\n",
    "            \n",
    "            if word not in wordFreq:\n",
    "                break\n",
    "            \n",
    "            if word not in wordSeen:\n",
    "                wordSeen[word] = 0\n",
    "            wordSeen[word] += 1\n",
    "            \n",
    "            if wordSeen[word] > wordFreq[word]:\n",
    "                break\n",
    "                \n",
    "            if j+1 == numWords:\n",
    "                results.append(i)\n",
    "            \n",
    "    return results\n",
    "    \n",
    "    \n",
    "    "
   ]
  },
  {
   "cell_type": "code",
   "execution_count": 40,
   "metadata": {},
   "outputs": [
    {
     "name": "stdout",
     "output_type": "stream",
     "text": [
      "[0, 3]\n",
      "[3]\n"
     ]
    }
   ],
   "source": [
    "tests = [(\"catfoxcat\", [\"cat\", \"fox\"]), (\"catcatfoxfox\", [\"cat\", \"fox\"])]\n",
    "\n",
    "for test in tests:\n",
    "    print(solution(*test))"
   ]
  },
  {
   "cell_type": "code",
   "execution_count": null,
   "metadata": {},
   "outputs": [],
   "source": []
  }
 ],
 "metadata": {
  "kernelspec": {
   "display_name": "Python 3",
   "language": "python",
   "name": "python3"
  },
  "language_info": {
   "codemirror_mode": {
    "name": "ipython",
    "version": 3
   },
   "file_extension": ".py",
   "mimetype": "text/x-python",
   "name": "python",
   "nbconvert_exporter": "python",
   "pygments_lexer": "ipython3",
   "version": "3.8.2"
  }
 },
 "nbformat": 4,
 "nbformat_minor": 4
}
