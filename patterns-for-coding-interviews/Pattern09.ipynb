{
 "cells": [
  {
   "cell_type": "markdown",
   "metadata": {},
   "source": [
    "# Two Heap\n",
    "\n",
    "In many problems, where we are given a set of elements such that we can divide them into two parts. To solve the problem, we are interested in knowing the smallest element in one part and the biggest element in the other part. This pattern is an efficient approach to solve such problems.\n",
    "\n",
    "This pattern uses two Heaps to solve these problems; A Min Heap to find the smallest element and a Max Heap to find the biggest element."
   ]
  },
  {
   "cell_type": "markdown",
   "metadata": {},
   "source": [
    "## Find the Median of a Number Stream (medium)\n",
    "\n",
    "Design a class to calculate the median of a number stream. The class should have the following two methods:\n",
    "\n",
    "1. insertNum(int num): stores the number in the class\n",
    "2. findMedian(): returns the median of all numbers inserted in the class\n",
    "\n",
    "\n",
    "If the count of numbers inserted in the class is even, the median will be the average of the middle two numbers."
   ]
  },
  {
   "cell_type": "code",
   "execution_count": 1,
   "metadata": {},
   "outputs": [],
   "source": [
    "class Stream():\n",
    "    def __init__(self):\n",
    "        self.data = []\n",
    "        self.size = 0\n",
    "        \n",
    "    def insert_num(self, num):\n",
    "        self.data.append(num)\n",
    "        self.data.sort()\n",
    "        self.size += 1\n",
    "        \n",
    "    def find_median(self):\n",
    "        if self.size % 2 == 0:\n",
    "            return (self.data[self.size//2-1] + self.data[self.size//2])/2.0\n",
    "        else:\n",
    "            return self.data[self.size//2]"
   ]
  },
  {
   "cell_type": "code",
   "execution_count": 2,
   "metadata": {},
   "outputs": [],
   "source": [
    "from heapq import *\n",
    "\n",
    "class Stream():\n",
    "    \n",
    "    maxHeap = []\n",
    "    minHeap = []\n",
    "    \n",
    "    def insert_num(self, num):\n",
    "        if not self.maxHeap or -self.maxHeap[0] >= num:\n",
    "            heappush(self.maxHeap, -num)\n",
    "        else:\n",
    "            heappush(self.minHeap, num)\n",
    "\n",
    "        if len(self.maxHeap) > len(self.minHeap) + 1:\n",
    "            heappush(self.minHeap, -heappop(self.maxHeap))\n",
    "        elif len(self.maxHeap) < len(self.minHeap):\n",
    "            heappush(self.maxHeap, -heappop(self.minHeap))\n",
    "            \n",
    "    def find_median(self):\n",
    "        if len(self.maxHeap) == len(self.minHeap):\n",
    "            return -self.maxHeap[0] / 2.0 + self.minHeap[0] / 2.0\n",
    "        \n",
    "        return -self.maxHeap[0]\n",
    "    "
   ]
  },
  {
   "cell_type": "code",
   "execution_count": 3,
   "metadata": {},
   "outputs": [
    {
     "name": "stdout",
     "output_type": "stream",
     "text": [
      "2.0\n",
      "3\n",
      "3.5\n"
     ]
    }
   ],
   "source": [
    "stream = Stream()\n",
    "stream.insert_num(3)\n",
    "stream.insert_num(1)\n",
    "print(stream.find_median())\n",
    "stream.insert_num(5)\n",
    "print(stream.find_median())\n",
    "stream.insert_num(4)\n",
    "print(stream.find_median())"
   ]
  },
  {
   "cell_type": "markdown",
   "metadata": {},
   "source": [
    "## Sliding Window Median (hard)\n",
    "\n",
    "Given an array of numbers and a number ‘k’, find the median of all the ‘k’ sized sub-arrays (or windows) of the array."
   ]
  },
  {
   "cell_type": "code",
   "execution_count": 4,
   "metadata": {},
   "outputs": [],
   "source": [
    "def solution(arr, k):\n",
    "    \n",
    "    result = []\n",
    "    n = len(arr)\n",
    "    \n",
    "    if k % 2 == 0:\n",
    "        is_odd = False\n",
    "    else:\n",
    "        is_odd = True\n",
    "    \n",
    "    for i in range(n-k+1):\n",
    "        subarr = arr[i:i+k]\n",
    "        subarr.sort()\n",
    "        if is_odd:\n",
    "            result.append(subarr[k//2])\n",
    "        else:\n",
    "            result.append((subarr[k//2-1]+subarr[k//2])/2.0)\n",
    "        \n",
    "    \n",
    "    return result\n",
    "    "
   ]
  },
  {
   "cell_type": "code",
   "execution_count": 5,
   "metadata": {},
   "outputs": [],
   "source": [
    "from heapq import *\n",
    "import heapq\n",
    "\n",
    "class Solution():\n",
    "    \n",
    "    def __init__(self):\n",
    "        self.maxHeap = []\n",
    "        self.minHeap = []\n",
    "    \n",
    "    def rebalance_heaps(self):\n",
    "        if len(self.maxHeap) > len(self.minHeap) + 1:\n",
    "            heappush(self.minHeap, -heappop(self.maxHeap))\n",
    "        \n",
    "        elif len(self.maxHeap) < len(self.minHeap):\n",
    "            heappush(self.maxHeap, -heappop(self.minHeap))\n",
    "    \n",
    "    def remove(self, element):\n",
    "        \n",
    "        if element <= -self.maxHeap[0]:\n",
    "            heap = self.maxHeap\n",
    "            element = -element\n",
    "        else:\n",
    "            heap = self.minHeap\n",
    "        \n",
    "        ind = heap.index(element)\n",
    "        # swap\n",
    "        heap[ind] = heap[-1]\n",
    "        del heap[-1]\n",
    "        \n",
    "        # fix up\n",
    "        if ind < len(heap):\n",
    "            heapq._siftup(heap, ind)\n",
    "            heapq._siftdown(heap, 0, ind)\n",
    "        \n",
    "        self.rebalance_heaps()\n",
    "        \n",
    "    \n",
    "    def insert(self, element):\n",
    "        if not self.maxHeap or element <= -self.maxHeap[0]:\n",
    "            heappush(self.maxHeap, -element)\n",
    "        else:\n",
    "            heappush(self.minHeap, element)\n",
    "            \n",
    "        self.rebalance_heaps()\n",
    "    \n",
    "    def median(self):\n",
    "        if len(self.maxHeap) == len(self.minHeap):\n",
    "            return -self.maxHeap[0] / 2.0 + self.minHeap[0] / 2.0\n",
    "        \n",
    "        return -self.maxHeap[0]\n",
    "    \n",
    "    \n",
    "    def find_median(self, nums, k):\n",
    "        result = []\n",
    "        n = len(nums)\n",
    "        \n",
    "        for i in range(k):\n",
    "            self.insert(nums[i])\n",
    "            \n",
    "        result.append(self.median())\n",
    "        \n",
    "        for i in range(k,n):\n",
    "            \n",
    "            self.remove(nums[i-k])\n",
    "            self.insert(nums[i])\n",
    "            result.append(self.median())\n",
    "        \n",
    "        return result\n",
    "        \n"
   ]
  },
  {
   "cell_type": "code",
   "execution_count": 6,
   "metadata": {},
   "outputs": [
    {
     "data": {
      "text/plain": [
       "[1, 2, 3]"
      ]
     },
     "execution_count": 6,
     "metadata": {},
     "output_type": "execute_result"
    }
   ],
   "source": [
    "arr = [1, 2, -1, 3, 5]\n",
    "sol = Solution()\n",
    "sol.find_median(arr, 3)"
   ]
  },
  {
   "cell_type": "code",
   "execution_count": null,
   "metadata": {},
   "outputs": [],
   "source": []
  }
 ],
 "metadata": {
  "kernelspec": {
   "display_name": "Python 3",
   "language": "python",
   "name": "python3"
  },
  "language_info": {
   "codemirror_mode": {
    "name": "ipython",
    "version": 3
   },
   "file_extension": ".py",
   "mimetype": "text/x-python",
   "name": "python",
   "nbconvert_exporter": "python",
   "pygments_lexer": "ipython3",
   "version": "3.8.2"
  }
 },
 "nbformat": 4,
 "nbformat_minor": 4
}
