{
 "cells": [
  {
   "cell_type": "markdown",
   "metadata": {},
   "source": [
    "# Cyclic Sort\n",
    "\n",
    "You are given an unsorted array containing numbers taken from the range 1 to ‘n’. The array can have duplicates, which means that some numbers will be missing. Find all the missing numbers."
   ]
  },
  {
   "cell_type": "markdown",
   "metadata": {},
   "source": [
    "## Cyclic Sort (easy)\n",
    "\n",
    "We are given an array containing ‘n’ objects. Each object, when created, was assigned a unique number from 1 to ‘n’ based on their creation sequence. This means that the object with sequence number ‘3’ was created just before the object with sequence number ‘4’."
   ]
  },
  {
   "cell_type": "code",
   "execution_count": 62,
   "metadata": {},
   "outputs": [],
   "source": [
    "def cyclic_sort(arr):\n",
    "    num = len(arr)\n",
    "    key = 0\n",
    "    while key < num:\n",
    "        next_key = arr[key] - 1\n",
    "        if arr[key] != arr[next_key]:\n",
    "            arr[key], arr[next_key] = arr[next_key], arr[key]\n",
    "        else:\n",
    "            key += 1\n",
    "    \n",
    "    return arr\n",
    "    "
   ]
  },
  {
   "cell_type": "code",
   "execution_count": 64,
   "metadata": {},
   "outputs": [
    {
     "name": "stdout",
     "output_type": "stream",
     "text": [
      "[1, 2, 3, 4]\n"
     ]
    }
   ],
   "source": [
    "#nums = [3, 1, 5, 4, 2]\n",
    "#nums = [2, 6, 4, 3, 1, 5]\n",
    "#nums = [1, 5, 6, 4, 3, 2]\n",
    "nums = [4, 1, 3, 2]\n",
    "\n",
    "print(cyclic_sort(nums))"
   ]
  },
  {
   "cell_type": "markdown",
   "metadata": {},
   "source": [
    "## Find the Missing Number (easy)\n",
    "\n",
    "We are given an array containing ‘n’ distinct numbers taken from the range 0 to ‘n’. Since the array has only ‘n’ numbers out of the total ‘n+1’ numbers, find the missing number."
   ]
  },
  {
   "cell_type": "code",
   "execution_count": 5,
   "metadata": {},
   "outputs": [],
   "source": [
    "def solution(nums):\n",
    "    N = len(nums)\n",
    "    \n",
    "    for i in range(N+1):\n",
    "        if i not in nums:\n",
    "            return i\n",
    "    \n",
    "    return -1"
   ]
  },
  {
   "cell_type": "code",
   "execution_count": 6,
   "metadata": {},
   "outputs": [],
   "source": [
    "def solution2(nums):\n",
    "    N = len(nums)\n",
    "    \n",
    "    nums.append(None)\n",
    "    key = 0\n",
    "    while key < N+1:\n",
    "        next_key = nums[key]\n",
    "        #print(nums[key])\n",
    "        if next_key is None:\n",
    "            key += 1\n",
    "        elif nums[key] != nums[next_key]:\n",
    "            temp = nums[key]\n",
    "            nums[key] = nums[next_key]\n",
    "            nums[next_key] = temp\n",
    "        else:\n",
    "            key += 1\n",
    "    \n",
    "    \n",
    "    for i in range(N+1):\n",
    "        if nums[i] is None:\n",
    "            return i\n",
    "    return -1\n",
    "    "
   ]
  },
  {
   "cell_type": "code",
   "execution_count": 7,
   "metadata": {},
   "outputs": [
    {
     "name": "stdout",
     "output_type": "stream",
     "text": [
      "7\n"
     ]
    }
   ],
   "source": [
    "#nums = [4, 0, 3, 1]\n",
    "nums = [8, 3, 5, 2, 4, 6, 0, 1]\n",
    "\n",
    "print(solution2(nums))\n"
   ]
  },
  {
   "cell_type": "markdown",
   "metadata": {},
   "source": [
    "## Find all Missing Numbers (easy)\n",
    "\n",
    "We are given an unsorted array containing numbers taken from the range 1 to ‘n’. The array can have duplicates, which means some numbers will be missing. Find all those missing numbers."
   ]
  },
  {
   "cell_type": "code",
   "execution_count": 10,
   "metadata": {},
   "outputs": [],
   "source": [
    "def solution(nums):\n",
    "    \n",
    "    N = len(nums)\n",
    "    ans = []\n",
    "    for i in range(N):\n",
    "        if i+1 not in nums:\n",
    "            ans.append(i+1)\n",
    "    \n",
    "    return ans"
   ]
  },
  {
   "cell_type": "code",
   "execution_count": 11,
   "metadata": {},
   "outputs": [],
   "source": [
    "def solution2(nums):\n",
    "    N = len(nums)\n",
    "    \n",
    "    key = 0\n",
    "    \n",
    "    # sort\n",
    "    while key < N:\n",
    "        next_key = nums[key]-1\n",
    "        if nums[key] != nums[next_key]:\n",
    "            temp = nums[key]\n",
    "            nums[key] = nums[next_key]\n",
    "            nums[next_key] = temp\n",
    "        else:\n",
    "            key += 1\n",
    "\n",
    "    ans = []\n",
    "    for i in range(N):\n",
    "        if nums[i] != i+1:\n",
    "            ans.append(i+1)\n",
    "    \n",
    "    return ans"
   ]
  },
  {
   "cell_type": "code",
   "execution_count": 13,
   "metadata": {},
   "outputs": [
    {
     "name": "stdout",
     "output_type": "stream",
     "text": [
      "[4, 6, 7]\n",
      "[2, 3, 1, 8, 2, 3, 5, 1]\n"
     ]
    }
   ],
   "source": [
    "nums = [2, 3, 1, 8, 2, 3, 5, 1]\n",
    "#nums = [2, 4, 1, 2]\n",
    "#nums = [2, 3, 2, 1]\n",
    "\n",
    "print(solution(nums))\n",
    "print(nums)"
   ]
  },
  {
   "cell_type": "markdown",
   "metadata": {},
   "source": [
    "## Find the Duplicate Number (easy)\n",
    "\n",
    "We are given an unsorted array containing ‘n+1’ numbers taken from the range 1 to ‘n’. The array has only one duplicate but it can be repeated multiple times. Find that duplicate number without using any extra space. You are, however, allowed to modify the input array."
   ]
  },
  {
   "cell_type": "code",
   "execution_count": 72,
   "metadata": {},
   "outputs": [],
   "source": [
    "def solution(arr):\n",
    "    num = len(arr)\n",
    "    key = 0\n",
    "    while key < num:\n",
    "        next_key = arr[key] - 1\n",
    "        if arr[key] != arr[next_key]:\n",
    "            arr[key], arr[next_key] = arr[next_key], arr[key]\n",
    "        else:\n",
    "            key += 1\n",
    "    \n",
    "    for i in range(num):\n",
    "        if arr[i] != i+1:\n",
    "            return arr[i]\n",
    "    \n"
   ]
  },
  {
   "cell_type": "code",
   "execution_count": 73,
   "metadata": {},
   "outputs": [
    {
     "name": "stdout",
     "output_type": "stream",
     "text": [
      "4\n"
     ]
    }
   ],
   "source": [
    "print(solution([4,4,3,2]))"
   ]
  },
  {
   "cell_type": "markdown",
   "metadata": {},
   "source": [
    "#### Problem 1: Can we solve the above problem in O(1) space and without modifying the input array?\n",
    "\n",
    "Solution: While doing the cyclic sort, we realized that the array will have a cycle due to the duplicate number and that the start of the cycle will always point to the duplicate number. This means that we can use the fast & the slow pointer method to find the duplicate number or the start of the cycle similar to Start of LinkedList Cycle."
   ]
  },
  {
   "cell_type": "markdown",
   "metadata": {},
   "source": [
    "# Find all Duplicate Numbers (easy)\n",
    "\n",
    "We are given an unsorted array containing ‘n’ numbers taken from the range 1 to ‘n’. The array has some numbers appearing twice, find all these duplicate numbers without using any extra space.\n"
   ]
  },
  {
   "cell_type": "code",
   "execution_count": 76,
   "metadata": {},
   "outputs": [],
   "source": [
    "def solution(arr):\n",
    "    num = len(arr)\n",
    "    key = 0\n",
    "    while key < num:\n",
    "        next_key = arr[key] - 1\n",
    "        if arr[key] != arr[next_key]:\n",
    "            arr[key], arr[next_key] = arr[next_key], arr[key]\n",
    "        else:\n",
    "            key += 1\n",
    "    \n",
    "    ans = set()\n",
    "    \n",
    "    for i in range(num):\n",
    "        if arr[i] != i+1:\n",
    "            ans.add(arr[i])\n",
    "        \n",
    "    return ans\n"
   ]
  },
  {
   "cell_type": "code",
   "execution_count": 77,
   "metadata": {},
   "outputs": [
    {
     "name": "stdout",
     "output_type": "stream",
     "text": [
      "{4, 5}\n"
     ]
    }
   ],
   "source": [
    "print(solution([3, 4, 4, 5, 5]))"
   ]
  },
  {
   "cell_type": "markdown",
   "metadata": {},
   "source": [
    "## Find the Corrupt Pair (easy)\n",
    "\n",
    "We are given an unsorted array containing ‘n’ numbers taken from the range 1 to ‘n’. The array originally contained all the numbers from 1 to ‘n’, but due to a data error, one of the numbers got duplicated which also resulted in one number going missing. Find both these numbers.\n",
    "\n"
   ]
  },
  {
   "cell_type": "code",
   "execution_count": 78,
   "metadata": {},
   "outputs": [],
   "source": [
    "def solution(arr):\n",
    "    num = len(arr)\n",
    "    key = 0\n",
    "    while key < num:\n",
    "        next_key = arr[key] - 1\n",
    "        if arr[key] != arr[next_key]:\n",
    "            arr[key], arr[next_key] = arr[next_key], arr[key]\n",
    "        else:\n",
    "            key += 1\n",
    "    \n",
    "    ans = None\n",
    "    \n",
    "    for i in range(num):\n",
    "        if arr[i] != i+1:\n",
    "            ans = [arr[i], i + 1]\n",
    "        \n",
    "    return ans"
   ]
  },
  {
   "cell_type": "code",
   "execution_count": 79,
   "metadata": {},
   "outputs": [
    {
     "name": "stdout",
     "output_type": "stream",
     "text": [
      "[2, 4]\n"
     ]
    }
   ],
   "source": [
    "print(solution([3, 1, 2, 5, 2]))"
   ]
  },
  {
   "cell_type": "markdown",
   "metadata": {},
   "source": [
    "# Find the Smallest Missing Positive Number (medium)\n",
    "\n",
    "Given an unsorted array containing numbers, find the smallest missing positive number in it.\n",
    "\n"
   ]
  },
  {
   "cell_type": "code",
   "execution_count": 82,
   "metadata": {},
   "outputs": [],
   "source": [
    "def solution(arr):\n",
    "    num = len(arr)\n",
    "    key = 0\n",
    "    while key < num:\n",
    "        next_key = arr[key] - 1\n",
    "        if next_key < 0 or next_key >= num:\n",
    "            key += 1\n",
    "            continue\n",
    "        if arr[key] != arr[next_key]:\n",
    "            arr[key], arr[next_key] = arr[next_key], arr[key]\n",
    "        else:\n",
    "            key += 1\n",
    "    \n",
    "    for i in range(num):\n",
    "        if arr[i] != i + 1:\n",
    "            return i + 1\n",
    "\n",
    "    "
   ]
  },
  {
   "cell_type": "code",
   "execution_count": 85,
   "metadata": {},
   "outputs": [
    {
     "name": "stdout",
     "output_type": "stream",
     "text": [
      "4\n"
     ]
    }
   ],
   "source": [
    "print(solution([3, 2, 5, 1]))"
   ]
  },
  {
   "cell_type": "markdown",
   "metadata": {},
   "source": [
    "# Find the First K Missing Positive Numbers (hard)\n",
    "\n",
    "Given an unsorted array containing numbers and a number ‘k’, find the first ‘k’ missing positive numbers in the array."
   ]
  },
  {
   "cell_type": "code",
   "execution_count": 104,
   "metadata": {},
   "outputs": [],
   "source": [
    "def solution(arr, k):\n",
    "    num = len(arr)\n",
    "    key = 0\n",
    "    # garbages = []\n",
    "    while key < num:\n",
    "        next_key = arr[key] - 1\n",
    "        if next_key < 0 or next_key >= num:\n",
    "            # garbages.append(arr[key])\n",
    "            key += 1\n",
    "            continue\n",
    "        if arr[key] != arr[next_key]:\n",
    "            arr[key], arr[next_key] = arr[next_key], arr[key]\n",
    "        else:\n",
    "            key += 1\n",
    "    \n",
    "    ans = []\n",
    "    count = 0\n",
    "    for i in range(num):\n",
    "        if arr[i] != i + 1:\n",
    "            ans.append(i+1)\n",
    "            count += 1\n",
    "        \n",
    "        if count >= k:\n",
    "            break\n",
    "    \n",
    "    i = num + 1\n",
    "    while count < k:\n",
    "        if not i in arr:\n",
    "            ans.append(i)\n",
    "            count += 1\n",
    "        i += 1\n",
    "    \n",
    "    return ans\n",
    "    "
   ]
  },
  {
   "cell_type": "code",
   "execution_count": 105,
   "metadata": {},
   "outputs": [
    {
     "name": "stdout",
     "output_type": "stream",
     "text": [
      "[1, 2]\n"
     ]
    }
   ],
   "source": [
    "print(solution([-2, -3, 4], 2))"
   ]
  },
  {
   "cell_type": "code",
   "execution_count": null,
   "metadata": {},
   "outputs": [],
   "source": []
  }
 ],
 "metadata": {
  "kernelspec": {
   "display_name": "Python 3",
   "language": "python",
   "name": "python3"
  },
  "language_info": {
   "codemirror_mode": {
    "name": "ipython",
    "version": 3
   },
   "file_extension": ".py",
   "mimetype": "text/x-python",
   "name": "python",
   "nbconvert_exporter": "python",
   "pygments_lexer": "ipython3",
   "version": "3.8.5"
  }
 },
 "nbformat": 4,
 "nbformat_minor": 4
}
