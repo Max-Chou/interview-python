{
 "cells": [
  {
   "cell_type": "markdown",
   "metadata": {},
   "source": [
    "# Cyclic Sort\n",
    "\n",
    "You are given an unsorted array containing numbers taken from the range 1 to ‘n’. The array can have duplicates, which means that some numbers will be missing. Find all the missing numbers."
   ]
  },
  {
   "cell_type": "markdown",
   "metadata": {},
   "source": [
    "## Cyclic Sort (easy)\n",
    "\n",
    "We are given an array containing ‘n’ objects. Each object, when created, was assigned a unique number from 1 to ‘n’ based on their creation sequence. This means that the object with sequence number ‘3’ was created just before the object with sequence number ‘4’."
   ]
  },
  {
   "cell_type": "code",
   "execution_count": 1,
   "metadata": {},
   "outputs": [],
   "source": [
    "def cyclic_sort(nums):\n",
    "    N = len(nums)\n",
    "    key = 0\n",
    "    \n",
    "    for i in range(N):\n",
    "        next_key = nums[key]-1\n",
    "        \n",
    "        # wrong place\n",
    "        if nums[key] != nums[next_key]:\n",
    "            temp = nums[key]\n",
    "            nums[key] = nums[next_key]\n",
    "            nums[next_key] = temp\n",
    "            \n",
    "        else:\n",
    "            key += 1\n",
    "    \n",
    "    return nums"
   ]
  },
  {
   "cell_type": "code",
   "execution_count": 2,
   "metadata": {},
   "outputs": [
    {
     "name": "stdout",
     "output_type": "stream",
     "text": [
      "[1, 2, 3, 4, 5, 6]\n"
     ]
    }
   ],
   "source": [
    "#nums = [3, 1, 5, 4, 2]\n",
    "#nums = [2, 6, 4, 3, 1, 5]\n",
    "nums = [1, 5, 6, 4, 3, 2]\n",
    "\n",
    "print(cyclic_sort(nums))"
   ]
  },
  {
   "cell_type": "markdown",
   "metadata": {},
   "source": [
    "## Find the Missing Number (easy)\n",
    "\n",
    "We are given an array containing ‘n’ distinct numbers taken from the range 0 to ‘n’. Since the array has only ‘n’ numbers out of the total ‘n+1’ numbers, find the missing number."
   ]
  },
  {
   "cell_type": "code",
   "execution_count": 5,
   "metadata": {},
   "outputs": [],
   "source": [
    "def solution(nums):\n",
    "    N = len(nums)\n",
    "    \n",
    "    for i in range(N+1):\n",
    "        if i not in nums:\n",
    "            return i\n",
    "    \n",
    "    return -1"
   ]
  },
  {
   "cell_type": "code",
   "execution_count": 6,
   "metadata": {},
   "outputs": [],
   "source": [
    "def solution2(nums):\n",
    "    N = len(nums)\n",
    "    \n",
    "    nums.append(None)\n",
    "    key = 0\n",
    "    while key < N+1:\n",
    "        next_key = nums[key]\n",
    "        #print(nums[key])\n",
    "        if next_key is None:\n",
    "            key += 1\n",
    "        elif nums[key] != nums[next_key]:\n",
    "            temp = nums[key]\n",
    "            nums[key] = nums[next_key]\n",
    "            nums[next_key] = temp\n",
    "        else:\n",
    "            key += 1\n",
    "    \n",
    "    \n",
    "    for i in range(N+1):\n",
    "        if nums[i] is None:\n",
    "            return i\n",
    "    return -1\n",
    "    "
   ]
  },
  {
   "cell_type": "code",
   "execution_count": 7,
   "metadata": {},
   "outputs": [
    {
     "name": "stdout",
     "output_type": "stream",
     "text": [
      "7\n"
     ]
    }
   ],
   "source": [
    "#nums = [4, 0, 3, 1]\n",
    "nums = [8, 3, 5, 2, 4, 6, 0, 1]\n",
    "\n",
    "print(solution2(nums))\n"
   ]
  },
  {
   "cell_type": "markdown",
   "metadata": {},
   "source": [
    "## Find all Missing Numbers (easy)\n",
    "\n",
    "We are given an unsorted array containing numbers taken from the range 1 to ‘n’. The array can have duplicates, which means some numbers will be missing. Find all those missing numbers."
   ]
  },
  {
   "cell_type": "code",
   "execution_count": 10,
   "metadata": {},
   "outputs": [],
   "source": [
    "def solution(nums):\n",
    "    \n",
    "    N = len(nums)\n",
    "    ans = []\n",
    "    for i in range(N):\n",
    "        if i+1 not in nums:\n",
    "            ans.append(i+1)\n",
    "    \n",
    "    return ans"
   ]
  },
  {
   "cell_type": "code",
   "execution_count": 11,
   "metadata": {},
   "outputs": [],
   "source": [
    "def solution2(nums):\n",
    "    N = len(nums)\n",
    "    \n",
    "    key = 0\n",
    "    \n",
    "    # sort\n",
    "    while key < N:\n",
    "        next_key = nums[key]-1\n",
    "        if nums[key] != nums[next_key]:\n",
    "            temp = nums[key]\n",
    "            nums[key] = nums[next_key]\n",
    "            nums[next_key] = temp\n",
    "        else:\n",
    "            key += 1\n",
    "\n",
    "    ans = []\n",
    "    for i in range(N):\n",
    "        if nums[i] != i+1:\n",
    "            ans.append(i+1)\n",
    "    \n",
    "    return ans"
   ]
  },
  {
   "cell_type": "code",
   "execution_count": 13,
   "metadata": {},
   "outputs": [
    {
     "name": "stdout",
     "output_type": "stream",
     "text": [
      "[4, 6, 7]\n",
      "[2, 3, 1, 8, 2, 3, 5, 1]\n"
     ]
    }
   ],
   "source": [
    "nums = [2, 3, 1, 8, 2, 3, 5, 1]\n",
    "#nums = [2, 4, 1, 2]\n",
    "#nums = [2, 3, 2, 1]\n",
    "\n",
    "print(solution(nums))\n",
    "print(nums)"
   ]
  },
  {
   "cell_type": "code",
   "execution_count": null,
   "metadata": {},
   "outputs": [],
   "source": []
  }
 ],
 "metadata": {
  "kernelspec": {
   "display_name": "Python 3",
   "language": "python",
   "name": "python3"
  },
  "language_info": {
   "codemirror_mode": {
    "name": "ipython",
    "version": 3
   },
   "file_extension": ".py",
   "mimetype": "text/x-python",
   "name": "python",
   "nbconvert_exporter": "python",
   "pygments_lexer": "ipython3",
   "version": "3.8.2"
  }
 },
 "nbformat": 4,
 "nbformat_minor": 4
}
