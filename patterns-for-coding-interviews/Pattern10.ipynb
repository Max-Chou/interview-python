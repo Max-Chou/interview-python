{
 "cells": [
  {
   "cell_type": "markdown",
   "metadata": {},
   "source": [
    "# Subsets\n",
    "\n",
    "A huge number of coding interview problems involve dealing with Permutations and Combinations of a given set of elements. This pattern describes an efficient Breadth First Search (BFS) approach to handle all these problems."
   ]
  },
  {
   "cell_type": "markdown",
   "metadata": {},
   "source": [
    "## Subsets (easy)\n",
    "\n",
    "Given a set with distinct elements, find all of its distinct subsets.\n",
    "\n"
   ]
  },
  {
   "cell_type": "code",
   "execution_count": 1,
   "metadata": {},
   "outputs": [],
   "source": [
    "def solution(nums):\n",
    "    n = len(nums)\n",
    "    \n",
    "    queue = []\n",
    "    queue.append([[],nums])\n",
    "    \n",
    "    ans = []\n",
    "    while queue:\n",
    "        \n",
    "        current = queue.pop(0)\n",
    "        if current[0] not in ans:\n",
    "            ans.append(current[0])\n",
    "        \n",
    "        for i in range(len(current[1])):\n",
    "            elem1 = current[0].copy()\n",
    "            elem2 = current[1].copy()\n",
    "            \n",
    "            elem1.append(elem2.pop(i))\n",
    "            elem1.sort()\n",
    "            \n",
    "            queue.append([elem1, elem2])\n",
    "    \n",
    "    return ans\n",
    "    \n",
    "            \n",
    "        "
   ]
  },
  {
   "cell_type": "code",
   "execution_count": 2,
   "metadata": {},
   "outputs": [],
   "source": [
    "def solution(nums):\n",
    "    subsets = []\n",
    "    \n",
    "    subsets.append([])\n",
    "    \n",
    "    for num in nums:\n",
    "        n = len(subsets)\n",
    "        for i in range(n):\n",
    "            s = list(subsets[i])\n",
    "            s.append(num)\n",
    "            subsets.append(s)\n",
    "    \n",
    "    return subsets\n",
    "    "
   ]
  },
  {
   "cell_type": "code",
   "execution_count": null,
   "metadata": {},
   "outputs": [],
   "source": []
  },
  {
   "cell_type": "code",
   "execution_count": 3,
   "metadata": {},
   "outputs": [
    {
     "data": {
      "text/plain": [
       "[[], [1], [5], [1, 5], [3], [1, 3], [5, 3], [1, 5, 3]]"
      ]
     },
     "execution_count": 3,
     "metadata": {},
     "output_type": "execute_result"
    }
   ],
   "source": [
    "nums = [1, 5, 3]\n",
    "solution(nums)"
   ]
  },
  {
   "cell_type": "markdown",
   "metadata": {},
   "source": [
    "## Permutations (medium)\n",
    "\n",
    "Given a set of distinct numbers, find all of its permutations.\n",
    "\n"
   ]
  },
  {
   "cell_type": "code",
   "execution_count": 4,
   "metadata": {},
   "outputs": [],
   "source": [
    "def permutations(nums):\n",
    "    \n",
    "    n = len(nums)\n",
    "    ans = []\n",
    "    \n",
    "    if n == 1:\n",
    "        return [nums]\n",
    "    \n",
    "    for i in range(n):\n",
    "        a = nums[i]\n",
    "        rest = nums[:i] + nums[i+1:]\n",
    "        \n",
    "        for c in permutations(rest):\n",
    "            ans.append([a]+c)\n",
    "    \n",
    "    return ans\n",
    "        \n",
    "    "
   ]
  },
  {
   "cell_type": "code",
   "execution_count": 5,
   "metadata": {},
   "outputs": [
    {
     "data": {
      "text/plain": [
       "[[1, 2, 3, 4],\n",
       " [1, 2, 4, 3],\n",
       " [1, 3, 2, 4],\n",
       " [1, 3, 4, 2],\n",
       " [1, 4, 2, 3],\n",
       " [1, 4, 3, 2],\n",
       " [2, 1, 3, 4],\n",
       " [2, 1, 4, 3],\n",
       " [2, 3, 1, 4],\n",
       " [2, 3, 4, 1],\n",
       " [2, 4, 1, 3],\n",
       " [2, 4, 3, 1],\n",
       " [3, 1, 2, 4],\n",
       " [3, 1, 4, 2],\n",
       " [3, 2, 1, 4],\n",
       " [3, 2, 4, 1],\n",
       " [3, 4, 1, 2],\n",
       " [3, 4, 2, 1],\n",
       " [4, 1, 2, 3],\n",
       " [4, 1, 3, 2],\n",
       " [4, 2, 1, 3],\n",
       " [4, 2, 3, 1],\n",
       " [4, 3, 1, 2],\n",
       " [4, 3, 2, 1]]"
      ]
     },
     "execution_count": 5,
     "metadata": {},
     "output_type": "execute_result"
    }
   ],
   "source": [
    "nums = [1,2, 3,4]\n",
    "permutations(nums)"
   ]
  },
  {
   "cell_type": "markdown",
   "metadata": {},
   "source": [
    "## String Permutations by changing case (medium)\n",
    "\n",
    "Given a string, find all of its permutations preserving the character sequence but changing case.\n",
    "\n",
    "\n"
   ]
  },
  {
   "cell_type": "code",
   "execution_count": 6,
   "metadata": {},
   "outputs": [],
   "source": [
    "def solution(string):\n",
    "    results = []\n",
    "    \n",
    "    results.append(string)\n",
    "    m = len(string)\n",
    "    for j in range(m):\n",
    "        if string[j].isalpha():\n",
    "            n = len(results)\n",
    "            for i in range(n):\n",
    "                chars = list(results[i])\n",
    "                chars[j] = chars[j].upper()\n",
    "                \n",
    "                results.append(\"\".join(chars))\n",
    "    \n",
    "    return results"
   ]
  },
  {
   "cell_type": "code",
   "execution_count": 7,
   "metadata": {},
   "outputs": [
    {
     "data": {
      "text/plain": [
       "['ad52', 'Ad52', 'aD52', 'AD52']"
      ]
     },
     "execution_count": 7,
     "metadata": {},
     "output_type": "execute_result"
    }
   ],
   "source": [
    "string = \"ad52\"\n",
    "solution(string)"
   ]
  },
  {
   "cell_type": "code",
   "execution_count": null,
   "metadata": {},
   "outputs": [],
   "source": []
  }
 ],
 "metadata": {
  "kernelspec": {
   "display_name": "Python 3",
   "language": "python",
   "name": "python3"
  },
  "language_info": {
   "codemirror_mode": {
    "name": "ipython",
    "version": 3
   },
   "file_extension": ".py",
   "mimetype": "text/x-python",
   "name": "python",
   "nbconvert_exporter": "python",
   "pygments_lexer": "ipython3",
   "version": "3.8.2"
  }
 },
 "nbformat": 4,
 "nbformat_minor": 4
}
