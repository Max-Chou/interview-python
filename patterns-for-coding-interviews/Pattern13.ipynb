{
 "cells": [
  {
   "cell_type": "markdown",
   "metadata": {},
   "source": [
    "# Top K Elements\n",
    "\n",
    "Any problem that asks us to find the top/smallest/frequent ‘K’ elements among a given set falls under this pattern.\n",
    "\n",
    "The best data structure that comes to mind to keep track of ‘K’ elements is Heap. This pattern will make use of the Heap to solve multiple problems dealing with ‘K’ elements at a time from a set of given elements."
   ]
  },
  {
   "cell_type": "markdown",
   "metadata": {},
   "source": [
    "## Top 'K' Numbers (easy)\n",
    "\n",
    "Given an unsorted array of numbers, find the ‘K’ largest numbers in it.\n",
    "\n",
    "Note: For a detailed discussion about different approaches to solve this problem, take a look at Kth Smallest Number.\n"
   ]
  },
  {
   "cell_type": "code",
   "execution_count": 1,
   "metadata": {},
   "outputs": [],
   "source": [
    "def solution(arr, k):\n",
    "    \n",
    "    arr.sort()\n",
    "    \n",
    "    return arr[-k:]"
   ]
  },
  {
   "cell_type": "code",
   "execution_count": 2,
   "metadata": {},
   "outputs": [],
   "source": [
    "from heapq import *\n",
    "\n",
    "def solution(arr, k):\n",
    "    \n",
    "    heap = []\n",
    "    n = len(arr)\n",
    "    \n",
    "    for i in range(k):\n",
    "        heappush(heap, arr[i])\n",
    "    \n",
    "    for i in range(k,n):\n",
    "        if arr[i] > heap[0]:\n",
    "            heappop(heap)\n",
    "            heappush(heap, arr[i])\n",
    "    \n",
    "    return heap\n",
    "    \n"
   ]
  },
  {
   "cell_type": "code",
   "execution_count": 3,
   "metadata": {},
   "outputs": [
    {
     "data": {
      "text/plain": [
       "[5, 12, 11]"
      ]
     },
     "execution_count": 3,
     "metadata": {},
     "output_type": "execute_result"
    }
   ],
   "source": [
    "arr = [3, 1, 5, 12, 2, 11]\n",
    "k = 3\n",
    "solution(arr, k)"
   ]
  },
  {
   "cell_type": "markdown",
   "metadata": {},
   "source": [
    "## Kth Smallest Number (easy)\n",
    "\n",
    "Given an unsorted array of numbers, find Kth smallest number in it.\n",
    "\n",
    "Please note that it is the Kth smallest number in the sorted order, not the Kth distinct element.\n",
    "\n",
    "Note: For a detailed discussion about different approaches to solve this problem, take a look at Kth Smallest Number.\n"
   ]
  },
  {
   "cell_type": "code",
   "execution_count": 4,
   "metadata": {},
   "outputs": [],
   "source": [
    "def solution(arr, k):\n",
    "    \n",
    "    heap = []\n",
    "    n = len(arr)\n",
    "    \n",
    "    for i in range(k):\n",
    "        heappush(heap, -arr[i])\n",
    "    \n",
    "    for i in range(k, n):\n",
    "        if -arr[i] > heap[0]:\n",
    "            heappop(heap)\n",
    "            heappush(heap, -arr[i])\n",
    "    \n",
    "    return -heap[0]\n",
    "    "
   ]
  },
  {
   "cell_type": "code",
   "execution_count": 5,
   "metadata": {},
   "outputs": [
    {
     "data": {
      "text/plain": [
       "5"
      ]
     },
     "execution_count": 5,
     "metadata": {},
     "output_type": "execute_result"
    }
   ],
   "source": [
    "arr =  [1, 5, 12, 2, 11, 5]\n",
    "k = 3\n",
    "solution(arr, k)"
   ]
  },
  {
   "cell_type": "markdown",
   "metadata": {},
   "source": [
    "## 'K' Closest Points to the Origin (easy)\n",
    "\n",
    "Given an array of points in the a 2D plane, find ‘K’ closest points to the origin."
   ]
  },
  {
   "cell_type": "code",
   "execution_count": 6,
   "metadata": {},
   "outputs": [],
   "source": [
    "from heapq import *\n",
    "from math import sqrt\n",
    "\n",
    "class Point():\n",
    "    def __init__(self, x, y):\n",
    "        self.x = x\n",
    "        self.y = y\n",
    "        \n",
    "    def __lt__(self, otherPoint):\n",
    "        return self.distance() > otherPoint.distance()\n",
    "    \n",
    "    def distance(self):\n",
    "        return sqrt(self.x*self.x+self.y*self.y)\n",
    "    \n",
    "    def print_point(self):\n",
    "        print(\"[\" + str(self.x) + \", \" + str(self.y) + \"] \", end=\"\")\n",
    "\n",
    "def solution(points, k):\n",
    "    \n",
    "    maxHeap = []\n",
    "    n = len(points)\n",
    "    \n",
    "    for i in range(k):\n",
    "        heappush(maxHeap, points[i])\n",
    "    \n",
    "    for i in range(k, n):\n",
    "        if points[i].distance() < maxHeap[0].distance():\n",
    "            heappop(maxHeap)\n",
    "            heappush(maxHeap, points[i])\n",
    "    \n",
    "    return maxHeap\n",
    "    "
   ]
  },
  {
   "cell_type": "code",
   "execution_count": 7,
   "metadata": {},
   "outputs": [
    {
     "name": "stdout",
     "output_type": "stream",
     "text": [
      "[1, 3] [2, -1] "
     ]
    }
   ],
   "source": [
    "points = [Point(1, 3), Point(3, 4), Point(2, -1)]\n",
    "k = 2\n",
    "for point in solution(points, k):\n",
    "    point.print_point()"
   ]
  },
  {
   "cell_type": "markdown",
   "metadata": {},
   "source": [
    "## Connect Ropes (easy)\n",
    "\n",
    "Given ‘N’ ropes with different lengths, we need to connect these ropes into one big rope with minimum cost. The cost of connecting two ropes is equal to the sum of their lengths."
   ]
  },
  {
   "cell_type": "code",
   "execution_count": 8,
   "metadata": {},
   "outputs": [],
   "source": [
    "def solution(arr):\n",
    "    \n",
    "    heapify(arr)\n",
    "    \n",
    "    cost = 0\n",
    "    while len(arr) > 1:\n",
    "        a1 = heappop(arr)\n",
    "        a2 = heappop(arr)\n",
    "        cost += a1 + a2\n",
    "        heappush(arr, a1+a2)\n",
    "    \n",
    "    return cost    \n",
    "    "
   ]
  },
  {
   "cell_type": "code",
   "execution_count": 9,
   "metadata": {},
   "outputs": [
    {
     "data": {
      "text/plain": [
       "33"
      ]
     },
     "execution_count": 9,
     "metadata": {},
     "output_type": "execute_result"
    }
   ],
   "source": [
    "arr = [1, 3, 11, 5]\n",
    "\n",
    "solution(arr)\n"
   ]
  },
  {
   "cell_type": "code",
   "execution_count": null,
   "metadata": {},
   "outputs": [],
   "source": []
  }
 ],
 "metadata": {
  "kernelspec": {
   "display_name": "Python 3",
   "language": "python",
   "name": "python3"
  },
  "language_info": {
   "codemirror_mode": {
    "name": "ipython",
    "version": 3
   },
   "file_extension": ".py",
   "mimetype": "text/x-python",
   "name": "python",
   "nbconvert_exporter": "python",
   "pygments_lexer": "ipython3",
   "version": "3.8.2"
  }
 },
 "nbformat": 4,
 "nbformat_minor": 4
}
