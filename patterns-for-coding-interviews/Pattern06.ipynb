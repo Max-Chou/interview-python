{
 "cells": [
  {
   "cell_type": "markdown",
   "metadata": {},
   "source": [
    "# In-Place Reversal of a LinkedList\n",
    "\n",
    "In a lot of problems, we are asked to reverse the links between a set of nodes of a LinkedList. Often, the constraint is that we need to do this in-place, i.e., using the existing node objects and without using extra memory.\n"
   ]
  },
  {
   "cell_type": "code",
   "execution_count": 3,
   "metadata": {},
   "outputs": [],
   "source": [
    "class Node:\n",
    "    def __init__(self, val, nex=None):\n",
    "        self.val = val\n",
    "        self.nex = nex\n",
    "\n",
    "    def print_list(self):\n",
    "        temp = self\n",
    "        while temp is not None:\n",
    "            print(temp.val, end=\" \")\n",
    "            temp = temp.nex\n",
    "        print()"
   ]
  },
  {
   "cell_type": "markdown",
   "metadata": {},
   "source": [
    "## Reverse a LinkedList (easy)\n",
    "\n",
    "Given the head of a Singly LinkedList, reverse the LinkedList. Write a function to return the new head of the reversed LinkedList."
   ]
  },
  {
   "cell_type": "markdown",
   "metadata": {},
   "source": [
    "### Incorrect answer"
   ]
  },
  {
   "cell_type": "code",
   "execution_count": null,
   "metadata": {},
   "outputs": [],
   "source": [
    "def solution(head):\n",
    "    nodes = []\n",
    "    \n",
    "    current = head\n",
    "    while current:\n",
    "        nodes.append(current)\n",
    "        current = current.next_node\n",
    "    \n",
    "    previous = nodes.pop()\n",
    "    head = previous\n",
    "    while nodes:\n",
    "        current = nodes.pop()\n",
    "        previous.next_node = current\n",
    "        previous = current\n",
    "    \n",
    "    current.next_node = None\n",
    "        \n",
    "    \n",
    "    return head\n",
    "    "
   ]
  },
  {
   "cell_type": "code",
   "execution_count": 9,
   "metadata": {},
   "outputs": [],
   "source": [
    "def solution2(head):\n",
    "    \n",
    "    previous = None\n",
    "    current = head\n",
    "    if current:\n",
    "        nex = current.nex\n",
    "    else:\n",
    "        nex = None\n",
    "    \n",
    "    while current:\n",
    "        previous = current\n",
    "        current = nex\n",
    "        if current:\n",
    "            nex = current.nex\n",
    "            current.nex = previous\n",
    "        \n",
    "        \n",
    "    # fix it\n",
    "    head.nex = None\n",
    "    head = previous\n",
    "    \n",
    "    return head"
   ]
  },
  {
   "cell_type": "markdown",
   "metadata": {},
   "source": [
    "**Solution 3** Very simple"
   ]
  },
  {
   "cell_type": "code",
   "execution_count": 14,
   "metadata": {},
   "outputs": [],
   "source": [
    "def solution3(head):\n",
    "    \n",
    "    previous, current, nex = None, head, None\n",
    "    while current:\n",
    "        nex = current.nex\n",
    "        # reverse the linked list!\n",
    "        current.nex = previous\n",
    "        previous = current\n",
    "        current = nex\n",
    "    \n",
    "    head = previous\n",
    "    \n",
    "    return head"
   ]
  },
  {
   "cell_type": "code",
   "execution_count": 15,
   "metadata": {},
   "outputs": [
    {
     "name": "stdout",
     "output_type": "stream",
     "text": [
      "2 4 6 8 10 \n",
      "10 8 6 4 2 \n"
     ]
    }
   ],
   "source": [
    "head = Node(2)\n",
    "head.nex = Node(4)\n",
    "head.nex.nex = Node(6)\n",
    "head.nex.nex.nex = Node(8)\n",
    "head.nex.nex.nex.nex = Node(10)\n",
    "head.print_list()\n",
    "result = solution3(head)\n",
    "result.print_list()"
   ]
  },
  {
   "cell_type": "markdown",
   "metadata": {},
   "source": [
    "## Reverse a Sub-list (medium)\n",
    "\n",
    "Given the head of a LinkedList and two positions ‘p’ and ‘q’, reverse the LinkedList from position ‘p’ to ‘q’.\n",
    "\n"
   ]
  },
  {
   "cell_type": "markdown",
   "metadata": {},
   "source": [
    "**Solution 1** Dumb method, change the value of nodes"
   ]
  },
  {
   "cell_type": "code",
   "execution_count": 17,
   "metadata": {},
   "outputs": [],
   "source": [
    "def solution(head, p, q):\n",
    "    \n",
    "    current = head\n",
    "    for i in range(p-1):\n",
    "        current = current.nex\n",
    "    \n",
    "    nex = None\n",
    "    n = (q-p+1)//2\n",
    "    n2 = q-p\n",
    "    for i in range(n):\n",
    "        \n",
    "        nex = current\n",
    "        for j in range(n2-i-i):\n",
    "            nex = nex.nex\n",
    "        temp = current.val\n",
    "        current.val = nex.val\n",
    "        nex.val = temp\n",
    "        \n",
    "        current = current.nex\n",
    "        \n",
    "    \n",
    "    return head\n",
    "    "
   ]
  },
  {
   "cell_type": "code",
   "execution_count": 21,
   "metadata": {},
   "outputs": [],
   "source": [
    "def solution2(head, p, q):\n",
    "    \n",
    "    if p == q:\n",
    "        return head\n",
    "    \n",
    "    current, previous = head, None\n",
    "    i = 0\n",
    "    while current and i < p - 1:\n",
    "        previous = current\n",
    "        current = current.nex\n",
    "        i += 1\n",
    "    \n",
    "    node1 = previous\n",
    "    node2 = current\n",
    "    \n",
    "    # reverse nodes between p and q\n",
    "    i = 0\n",
    "    while current and i < q - p + 1:\n",
    "        nex = current.nex\n",
    "        current.nex = previous\n",
    "        previous = current\n",
    "        current = nex\n",
    "        i += 1\n",
    "    \n",
    "    # deal with p and q\n",
    "    if node1:\n",
    "        node1 = previous\n",
    "    else:\n",
    "        head = previous\n",
    "    \n",
    "    node2.nex = current\n",
    "    \n",
    "    return head\n",
    "        "
   ]
  },
  {
   "cell_type": "code",
   "execution_count": 22,
   "metadata": {},
   "outputs": [
    {
     "name": "stdout",
     "output_type": "stream",
     "text": [
      "2 4 6 8 10 \n",
      "8 6 4 2 10 \n"
     ]
    }
   ],
   "source": [
    "head = Node(2)\n",
    "head.nex = Node(4)\n",
    "head.nex.nex = Node(6)\n",
    "head.nex.nex.nex = Node(8)\n",
    "head.nex.nex.nex.nex = Node(10)\n",
    "head.print_list()\n",
    "result = solution2(head, 1, 4)\n",
    "result.print_list()"
   ]
  },
  {
   "cell_type": "markdown",
   "metadata": {},
   "source": [
    "## Reverse every K-element Sub-list (medium)\n",
    "\n",
    "Given the head of a LinkedList and a number ‘k’, reverse every ‘k’ sized sub-list starting from the head.\n",
    "\n",
    "If, in the end, you are left with a sub-list with less than ‘k’ elements, reverse it too."
   ]
  },
  {
   "cell_type": "code",
   "execution_count": 24,
   "metadata": {},
   "outputs": [],
   "source": [
    "def reverse(head, p, q):\n",
    "    \n",
    "    current = head\n",
    "    for i in range(p-1):\n",
    "        current = current.nex\n",
    "    \n",
    "    nex = None\n",
    "    n = (q-p+1)//2\n",
    "    n2 = q-p\n",
    "    for i in range(n):\n",
    "        \n",
    "        nex = current\n",
    "        for j in range(n2-i-i):\n",
    "            nex = nex.nex\n",
    "        temp = current.val\n",
    "        current.val = nex.val\n",
    "        nex.val = temp\n",
    "        \n",
    "        current = current.nex\n",
    "        \n",
    "    \n",
    "    return head\n",
    "\n",
    "\n",
    "def solution(head, k):    \n",
    "    n = 0\n",
    "    current = head\n",
    "    while current:\n",
    "        current = current.nex\n",
    "        n += 1\n",
    "        \n",
    "    for p in range(1,n,k):\n",
    "        q = p + k -1\n",
    "        if q > n:\n",
    "            q = n\n",
    "        reverse(head, p, q)\n",
    "    \n",
    "    return head\n",
    "    \n",
    "    \n",
    "    "
   ]
  },
  {
   "cell_type": "code",
   "execution_count": 27,
   "metadata": {},
   "outputs": [],
   "source": [
    "def solution2(head, k):\n",
    "    \n",
    "    current, previous = head, None\n",
    "    \n",
    "    while current:\n",
    "        node1 = previous\n",
    "        node2 = current\n",
    "        \n",
    "        nex = None\n",
    "        \n",
    "        i = 0\n",
    "        while current and i < k:\n",
    "            nex = current.nex\n",
    "            current.nex = previous\n",
    "            previous = current\n",
    "            current = nex\n",
    "            i += 1\n",
    "        \n",
    "        if node1:\n",
    "            node1.nex = previous\n",
    "        else:\n",
    "            head = previous\n",
    "        node2.nex = current\n",
    "        \n",
    "        previous = node2\n",
    "        \n",
    "    return head\n",
    "    \n",
    "    "
   ]
  },
  {
   "cell_type": "code",
   "execution_count": 29,
   "metadata": {},
   "outputs": [
    {
     "name": "stdout",
     "output_type": "stream",
     "text": [
      "2 4 6 8 10 \n",
      "6 4 2 10 8 \n"
     ]
    }
   ],
   "source": [
    "head = Node(2)\n",
    "head.nex = Node(4)\n",
    "head.nex.nex = Node(6)\n",
    "head.nex.nex.nex = Node(8)\n",
    "head.nex.nex.nex.nex = Node(10)\n",
    "head.print_list()\n",
    "result = solution(head, 3)\n",
    "result.print_list()"
   ]
  },
  {
   "cell_type": "code",
   "execution_count": null,
   "metadata": {},
   "outputs": [],
   "source": []
  }
 ],
 "metadata": {
  "kernelspec": {
   "display_name": "Python 3",
   "language": "python",
   "name": "python3"
  },
  "language_info": {
   "codemirror_mode": {
    "name": "ipython",
    "version": 3
   },
   "file_extension": ".py",
   "mimetype": "text/x-python",
   "name": "python",
   "nbconvert_exporter": "python",
   "pygments_lexer": "ipython3",
   "version": "3.8.2"
  }
 },
 "nbformat": 4,
 "nbformat_minor": 4
}
