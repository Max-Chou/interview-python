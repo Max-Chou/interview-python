{
 "cells": [
  {
   "cell_type": "markdown",
   "metadata": {},
   "source": [
    "# Unbounded Knapsack"
   ]
  },
  {
   "cell_type": "markdown",
   "metadata": {},
   "source": [
    "## Basic Solution"
   ]
  },
  {
   "cell_type": "code",
   "execution_count": 3,
   "metadata": {},
   "outputs": [],
   "source": [
    "def solveKnapsack(profits, weights, capacity):\n",
    "    return solveKnapsackRecursive(profits, weights, capacity, 0)\n",
    "\n",
    "def solveKnapsackRecursive(profits, weights, capacity, idx):\n",
    "    \n",
    "    numItems = len(profits)\n",
    "    \n",
    "    if capacity <= 0 or numItems == 0 or len(weights) != numItems or idx >= numItems:\n",
    "        return 0\n",
    "    \n",
    "    # we don't increment the idx!\n",
    "    profit1 = 0\n",
    "    if weights[idx] <= capacity:\n",
    "        profit1 = profits[idx] + solveKnapsackRecursive(profits, weights, capacity-weights[idx], idx)\n",
    "    \n",
    "    # we don't choose that item\n",
    "    profit2 = solveKnapsackRecursive(profits, weights, capacity, idx+1)\n",
    "    \n",
    "    return max(profit1, profit2)\n",
    "    "
   ]
  },
  {
   "cell_type": "markdown",
   "metadata": {},
   "source": [
    "## Top-down Dynamic Programming with Memoization"
   ]
  },
  {
   "cell_type": "code",
   "execution_count": 5,
   "metadata": {},
   "outputs": [],
   "source": [
    "def solveKnapsack(profits, weights, capacity):\n",
    "    \n",
    "    dp = [[-1 for x in range(capacity+1)] for y in range(len(profits))]\n",
    "    \n",
    "    return solveKnapsackRecursive(dp, profits, weights, capacity, 0)\n",
    "\n",
    "def solveKnapsackRecursive(dp, profits, weights, capacity, idx):\n",
    "    \n",
    "    numItems = len(profits)\n",
    "    \n",
    "    if capacity <= 0 or numItems == 0 or len(weights) != numItems or idx >= numItems:\n",
    "        return 0\n",
    "    \n",
    "    if dp[idx][capacity] != -1:\n",
    "        return dp[idx][capacity]\n",
    "    \n",
    "    # we don't increment the idx!\n",
    "    profit1 = 0\n",
    "    if weights[idx] <= capacity:\n",
    "        profit1 = profits[idx] + solveKnapsackRecursive(dp, profits, weights, capacity-weights[idx], idx)\n",
    "    \n",
    "    # we don't choose that item\n",
    "    profit2 = solveKnapsackRecursive(dp, profits, weights, capacity, idx+1)\n",
    "    \n",
    "    dp[idx][capacity] = max(profit1, profit2)\n",
    "    \n",
    "    return dp[idx][capacity]"
   ]
  },
  {
   "cell_type": "markdown",
   "metadata": {},
   "source": [
    "## Bottom-up Dynamic Programming"
   ]
  },
  {
   "cell_type": "code",
   "execution_count": 15,
   "metadata": {},
   "outputs": [],
   "source": [
    "def solveKnapsack(profits, weights, capacity):\n",
    "    \n",
    "    numItems = len(profits)\n",
    "    if capacity <= 0 or numItems == 0 or len(weights) != numItems:\n",
    "        return 0\n",
    "    \n",
    "    dp = [[0 for x in range(capacity+1)] for y in range(numItems)]\n",
    "    \n",
    "    for c in range(capacity+1):\n",
    "        if c >= weights[0]:\n",
    "            dp[0][c] = profits[0]\n",
    "    \n",
    "    for i in range(1, numItems):\n",
    "        for c in range(capacity+1):\n",
    "            profit = 0\n",
    "            for j in range(i+1):\n",
    "                profit1 = 0\n",
    "                if weights[j] <= c:\n",
    "                    profit1 = profits[j] + dp[i][c-weights[j]]\n",
    "            \n",
    "                profit2 = dp[i][c]\n",
    "                \n",
    "                profit = max(profit, profit1, profit2)\n",
    "    \n",
    "            dp[i][c] = profit\n",
    "    \n",
    "    return dp[numItems-1][capacity]\n",
    "    "
   ]
  },
  {
   "cell_type": "markdown",
   "metadata": {},
   "source": [
    "**Tests**"
   ]
  },
  {
   "cell_type": "code",
   "execution_count": 16,
   "metadata": {},
   "outputs": [
    {
     "name": "stdout",
     "output_type": "stream",
     "text": [
      "140\n",
      "105\n"
     ]
    }
   ],
   "source": [
    "tests = [([15, 50, 60, 90], [1, 3, 4, 5], 8), ([15, 50, 60, 90], [1, 3, 4, 5], 6)]\n",
    "\n",
    "for test in tests:\n",
    "    print(solveKnapsack(*test))"
   ]
  },
  {
   "cell_type": "markdown",
   "metadata": {},
   "source": [
    "## Rod Cutting\n",
    "\n",
    "Given a rod of length ‘n’, we are asked to cut the rod and sell the pieces in a way that will maximize the profit. We are also given the price of every piece of length ‘i’ where ‘1 <= i <= n’.\n",
    "\n"
   ]
  },
  {
   "cell_type": "code",
   "execution_count": 1,
   "metadata": {},
   "outputs": [],
   "source": [
    "def solveProblem(lengths, prices, capacity):\n",
    "    \n",
    "    return solveSubProblem(lengths, prices, capacity, 0)\n",
    "\n",
    "def solveSubProblem(lengths, prices, capacity, idx):\n",
    "    \n",
    "    n = len(lengths)\n",
    "    if idx >= n or capacity <= 0:\n",
    "        return 0\n",
    "    \n",
    "    profit1 = 0\n",
    "    if capacity >= lengths[idx]:\n",
    "        profit1 = prices[idx] + solveSubProblem(lengths, prices, capacity-lengths[idx], idx)\n",
    "    \n",
    "    profit2 = solveSubProblem(lengths, prices, capacity, idx+1)\n",
    "    \n",
    "    return max(profit1, profit2)\n",
    "    "
   ]
  },
  {
   "cell_type": "code",
   "execution_count": 3,
   "metadata": {},
   "outputs": [],
   "source": [
    "def solveProblem(lengths, prices, capacity):\n",
    "    dp = [[ -1 for x in range(capacity+1)] for y in range(len(prices))]\n",
    "    return solveSubProblem(dp, lengths, prices, capacity, 0)\n",
    "\n",
    "def solveSubProblem(dp, lengths, prices, capacity, idx):\n",
    "    \n",
    "    n = len(lengths)\n",
    "    if idx >= n or capacity <= 0:\n",
    "        return 0\n",
    "    \n",
    "    if dp[idx][capacity] != -1:\n",
    "        return dp[idx][capacity]\n",
    "    \n",
    "    \n",
    "    profit1 = 0\n",
    "    if capacity >= lengths[idx]:\n",
    "        profit1 = prices[idx] + solveSubProblem(dp, lengths, prices, capacity-lengths[idx], idx)\n",
    "    \n",
    "    profit2 = solveSubProblem(dp, lengths, prices, capacity, idx+1)\n",
    "    \n",
    "    dp[idx][capacity] = max(profit1, profit2)\n",
    "    \n",
    "    return dp[idx][capacity]\n",
    "    "
   ]
  },
  {
   "cell_type": "code",
   "execution_count": 17,
   "metadata": {},
   "outputs": [],
   "source": [
    "def solveProblem(lengths, prices, capacity):\n",
    "    \n",
    "    n = len(lengths)\n",
    "    dp = [[ 0 for x in range(capacity+1)] for y in range(n)]\n",
    "    \n",
    "    if capacity <= 0:\n",
    "        return 0\n",
    "    \n",
    "    for c in range(capacity+1):\n",
    "        if c >= lengths[0]:\n",
    "            dp[0][c] = prices[0]\n",
    "    \n",
    "    for i in range(1, n):\n",
    "        for c in range(capacity+1):\n",
    "            p1, p2 = 0, 0\n",
    "            for j in range(i+1):\n",
    "                if lengths[i] <= c:\n",
    "                    p1 = max(p1, prices[j] + dp[j][c-lengths[j]])\n",
    "            p2 = dp[i-1][c]\n",
    "            \n",
    "            dp[i][c] = max(p1, p2)\n",
    "    \n",
    "    return dp[n-1][capacity]\n",
    "    "
   ]
  },
  {
   "cell_type": "code",
   "execution_count": 19,
   "metadata": {},
   "outputs": [
    {
     "name": "stdout",
     "output_type": "stream",
     "text": [
      "14\n"
     ]
    }
   ],
   "source": [
    "test = ([1, 2, 3, 4, 5], [2, 6, 7, 10, 13], 5)\n",
    "\n",
    "print(solveProblem(*test))"
   ]
  },
  {
   "cell_type": "markdown",
   "metadata": {},
   "source": [
    "## Coin Change\n",
    "\n",
    "Given an infinite supply of ‘n’ coin denominations and a total money amount, we are asked to find the total number of distinct ways to make up that amount.\n",
    "\n"
   ]
  },
  {
   "cell_type": "code",
   "execution_count": 20,
   "metadata": {},
   "outputs": [],
   "source": [
    "def solveProblem(arr, capacity):\n",
    "    \n",
    "    return solveSubProblem(arr, capacity, 0)\n",
    "\n",
    "\n",
    "def solveSubProblem(arr, capacity, idx):\n",
    "    \n",
    "    n = len(arr)\n",
    "    \n",
    "    if capacity < 0:\n",
    "        return 0\n",
    "    \n",
    "    if idx >= n:\n",
    "        if capacity == 0:\n",
    "            return 1\n",
    "        else:\n",
    "            return 0\n",
    "    \n",
    "    \n",
    "    return solveSubProblem(arr, capacity-arr[idx], idx) + solveSubProblem(arr, capacity, idx+1)\n",
    "    \n",
    "    "
   ]
  },
  {
   "cell_type": "code",
   "execution_count": 25,
   "metadata": {},
   "outputs": [],
   "source": [
    "def solveProblem(arr, capacity):\n",
    "    \n",
    "    n = len(arr)\n",
    "    dp = [[-1 for x in range(capacity+1)] for y in range(n)]\n",
    "    \n",
    "    return solveSubProblem(dp, arr, capacity, 0)\n",
    "\n",
    "\n",
    "def solveSubProblem(dp, arr, capacity, idx):\n",
    "    \n",
    "    n = len(arr)\n",
    "    \n",
    "    if capacity < 0:\n",
    "        return 0\n",
    "    \n",
    "    if idx >= n:\n",
    "        if capacity == 0:\n",
    "            return 1\n",
    "        else:\n",
    "            return 0\n",
    "    \n",
    "    if dp[idx][capacity] != -1:\n",
    "        return dp[idx][capacity]\n",
    "    \n",
    "    dp[idx][capacity] = solveSubProblem(dp, arr, capacity-arr[idx], idx) + solveSubProblem(dp, arr, capacity, idx+1)\n",
    "\n",
    "    return dp[idx][capacity]\n",
    "    \n",
    "    "
   ]
  },
  {
   "cell_type": "code",
   "execution_count": 29,
   "metadata": {},
   "outputs": [],
   "source": [
    "def solveProblem(arr, capacity):\n",
    "    \n",
    "    n = len(arr)\n",
    "    dp = [[0 for x in range(capacity+1)] for y in range(n)]\n",
    "\n",
    "    \n",
    "    for i in range(n):\n",
    "        dp[i][0] = 1\n",
    "    \n",
    "\n",
    "    for i in range(n):\n",
    "        for c in range(1, capacity+1):\n",
    "            if i > 0:\n",
    "                dp[i][c] = dp[i-1][c]\n",
    "            if c >= arr[i]:\n",
    "                dp[i][c] += dp[i][c-arr[i]]\n",
    "\n",
    "    \n",
    "    return dp[n-1][capacity]\n",
    "        \n",
    "    "
   ]
  },
  {
   "cell_type": "code",
   "execution_count": 31,
   "metadata": {},
   "outputs": [
    {
     "name": "stdout",
     "output_type": "stream",
     "text": [
      "5\n"
     ]
    }
   ],
   "source": [
    "test = ([1, 2, 3,], 5)\n",
    "\n",
    "print(solveProblem(*test))"
   ]
  },
  {
   "cell_type": "markdown",
   "metadata": {},
   "source": [
    "## Minimum Coin Change\n",
    "\n",
    "Given an infinite supply of ‘n’ coin denominations and a total money amount, we are asked to find the minimum number of coins needed to make up that amount."
   ]
  },
  {
   "cell_type": "code",
   "execution_count": 41,
   "metadata": {},
   "outputs": [],
   "source": [
    "import math\n",
    "\n",
    "def solveProblem(arr, capacity):\n",
    "    \n",
    "    result = solveSubProblem(arr, capacity, 0)\n",
    "    \n",
    "    return -1 if result == math.inf else result\n",
    "\n",
    "\n",
    "def solveSubProblem(arr, capacity, idx):\n",
    "    \n",
    "    n = len(arr)\n",
    "    \n",
    "    if capacity == 0:\n",
    "        return 0\n",
    "    \n",
    "    if idx >= n or n == 0:\n",
    "        return math.inf\n",
    "    \n",
    "    count1 = math.inf\n",
    "    if arr[idx] <= capacity:\n",
    "        res = solveSubProblem(arr, capacity-arr[idx], idx) \n",
    "        if res != math.inf:\n",
    "            count1 = res + 1\n",
    "    \n",
    "    count2 = solveSubProblem(arr, capacity, idx+1)\n",
    "    \n",
    "    return min(count1, count2)\n",
    "        "
   ]
  },
  {
   "cell_type": "code",
   "execution_count": 47,
   "metadata": {},
   "outputs": [],
   "source": [
    "import math\n",
    "\n",
    "def solveProblem(arr, capacity):\n",
    "    \n",
    "    dp = [[-1 for x in range(capacity+1)] for y in range(len(arr))]\n",
    "    \n",
    "    result = solveSubProblem(dp, arr, capacity, 0)\n",
    "    \n",
    "    return -1 if result == math.inf else result\n",
    "\n",
    "\n",
    "def solveSubProblem(dp, arr, capacity, idx):\n",
    "    \n",
    "    n = len(arr)\n",
    "    \n",
    "    if capacity == 0:\n",
    "        return 0\n",
    "    \n",
    "    if idx >= n or n == 0:\n",
    "        return math.inf\n",
    "    \n",
    "    if dp[idx][capacity] != -1:\n",
    "        return dp[idx][capacity]\n",
    "    \n",
    "\n",
    "    count1 = math.inf\n",
    "    if arr[idx] <= capacity:\n",
    "        res = solveSubProblem(dp, arr, capacity-arr[idx], idx) \n",
    "        if res != math.inf:\n",
    "            count1 = res + 1\n",
    "    \n",
    "    count2 = solveSubProblem(dp, arr, capacity, idx+1)\n",
    "    \n",
    "    dp[idx][capacity] = min(count1, count2)\n",
    "    \n",
    "    return dp[idx][capacity]\n",
    "        "
   ]
  },
  {
   "cell_type": "code",
   "execution_count": 55,
   "metadata": {},
   "outputs": [],
   "source": [
    "import math\n",
    "\n",
    "def solveProblem(arr, capacity):\n",
    "    \n",
    "    n = len(arr)\n",
    "    \n",
    "    dp = [[ math.inf for x in range(capacity+1)] for y in range(n)]\n",
    "    \n",
    "    \n",
    "    for i in range(n):\n",
    "        dp[i][0] = 0\n",
    "        \n",
    "    for i in range(n):\n",
    "        for c in range(1, capacity+1):\n",
    "            # don't choose the coin\n",
    "            if i > 0:\n",
    "                dp[i][c] = dp[i-1][c]\n",
    "            \n",
    "            # choose the coin\n",
    "            if c >= arr[i]:\n",
    "                if dp[i][c-arr[i]] != math.inf:\n",
    "                    dp[i][c] = min(dp[i][c], dp[i][c-arr[i]]+1)\n",
    "    \n",
    "    return -1 if dp[n-1][capacity] == math.inf else dp[n-1][capacity]\n",
    "    "
   ]
  },
  {
   "cell_type": "code",
   "execution_count": 56,
   "metadata": {},
   "outputs": [
    {
     "name": "stdout",
     "output_type": "stream",
     "text": [
      "2\n",
      "4\n",
      "3\n",
      "-1\n"
     ]
    }
   ],
   "source": [
    "tests = [([1, 2, 3], 5), ([1, 2, 3], 11), ([1, 2, 3,], 7), ([3, 5], 7)]\n",
    "\n",
    "for test in tests:\n",
    "    print(solveProblem(*test))"
   ]
  },
  {
   "cell_type": "markdown",
   "metadata": {},
   "source": [
    "## Maximum Ribbon Cut\n",
    "\n",
    "We are given a ribbon of length ‘n’ and a set of possible ribbon lengths. Now we need to cut the ribbon into the maximum number of pieces that comply with the above-mentioned possible lengths. Write a method that will return the count of pieces.\n",
    "\n"
   ]
  },
  {
   "cell_type": "code",
   "execution_count": 69,
   "metadata": {},
   "outputs": [],
   "source": [
    "import math\n",
    "\n",
    "\n",
    "def solveProblem(arr, capacity):\n",
    "    \n",
    "    return solveSubProblem(arr, capacity, 0)\n",
    "\n",
    "\n",
    "def solveSubProblem(arr, capacity, idx):\n",
    "    \n",
    "    n = len(arr)\n",
    "    \n",
    "    if capacity == 0:\n",
    "        return 0\n",
    "    \n",
    "    if n == 0 or idx >= n:\n",
    "        return -math.inf\n",
    "    \n",
    "    count1 = -math.inf\n",
    "    if arr[idx] <= capacity:\n",
    "        result = solveSubProblem(arr, capacity-arr[idx], idx)    \n",
    "        if result != -math.inf:\n",
    "            count1 = result + 1\n",
    "    \n",
    "    count2 = solveSubProblem(arr, capacity, idx+1)\n",
    "    \n",
    "    return max(count1, count2)\n",
    "    \n",
    "    "
   ]
  },
  {
   "cell_type": "code",
   "execution_count": 71,
   "metadata": {},
   "outputs": [],
   "source": [
    "import math\n",
    "\n",
    "\n",
    "def solveProblem(arr, capacity):\n",
    "    \n",
    "    dp = [[-1 for x in range(capacity+1)] for y in range(len(arr))]\n",
    "    \n",
    "    return solveSubProblem(dp, arr, capacity, 0)\n",
    "\n",
    "\n",
    "def solveSubProblem(dp, arr, capacity, idx):\n",
    "    \n",
    "    n = len(arr)\n",
    "    \n",
    "    if capacity == 0:\n",
    "        return 0\n",
    "    \n",
    "    if n == 0 or idx >= n:\n",
    "        return -math.inf\n",
    "    \n",
    "    if dp[idx][capacity] != -1:\n",
    "        return dp[idx][capacity]\n",
    "    \n",
    "    count1 = -math.inf\n",
    "    if arr[idx] <= capacity:\n",
    "        result = solveSubProblem(dp, arr, capacity-arr[idx], idx)    \n",
    "        if result != -math.inf:\n",
    "            count1 = result + 1\n",
    "    \n",
    "    count2 = solveSubProblem(dp, arr, capacity, idx+1)\n",
    "    \n",
    "    dp[idx][capacity] = max(count1, count2)\n",
    "    \n",
    "    return dp[idx][capacity]"
   ]
  },
  {
   "cell_type": "code",
   "execution_count": 80,
   "metadata": {},
   "outputs": [],
   "source": [
    "def solveProblem(arr, capacity):\n",
    "    \n",
    "    n = len(arr)\n",
    "    dp = [[-math.inf for x in range(capacity+1)] for y in range(n)]\n",
    "    \n",
    "    if n == 0:\n",
    "        return -math.inf\n",
    "\n",
    "    for i in range(n):\n",
    "        dp[i][0] = 0\n",
    "\n",
    "    for i in range(n):\n",
    "        for c in range(capacity+1):\n",
    "            # don't choose the item\n",
    "            if i > 0:\n",
    "                dp[i][c] = dp[i-1][c]\n",
    "    \n",
    "            if c >= arr[i]:\n",
    "                if dp[i][c-arr[i]] != -math.inf:\n",
    "                    dp[i][c] = max(dp[i][c], dp[i][c-arr[i]]+1)\n",
    "    \n",
    "    return dp[n-1][capacity]\n",
    "    \n",
    "    \n",
    "    "
   ]
  },
  {
   "cell_type": "code",
   "execution_count": 81,
   "metadata": {},
   "outputs": [
    {
     "name": "stdout",
     "output_type": "stream",
     "text": [
      "2\n",
      "3\n",
      "3\n",
      "-inf\n"
     ]
    }
   ],
   "source": [
    "tests = [([2, 3, 5], 5), ([2, 3], 7), ([3, 5, 7], 13), ([3, 5], 7)]\n",
    "\n",
    "for test in tests:\n",
    "    print(solveProblem(*test))"
   ]
  },
  {
   "cell_type": "code",
   "execution_count": null,
   "metadata": {},
   "outputs": [],
   "source": []
  }
 ],
 "metadata": {
  "kernelspec": {
   "display_name": "Python 3",
   "language": "python",
   "name": "python3"
  },
  "language_info": {
   "codemirror_mode": {
    "name": "ipython",
    "version": 3
   },
   "file_extension": ".py",
   "mimetype": "text/x-python",
   "name": "python",
   "nbconvert_exporter": "python",
   "pygments_lexer": "ipython3",
   "version": "3.8.5"
  }
 },
 "nbformat": 4,
 "nbformat_minor": 4
}
