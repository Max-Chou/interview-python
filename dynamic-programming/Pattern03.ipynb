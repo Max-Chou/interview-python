{
 "cells": [
  {
   "cell_type": "markdown",
   "metadata": {},
   "source": [
    "# Fibonacci Numbers"
   ]
  },
  {
   "cell_type": "markdown",
   "metadata": {},
   "source": [
    "## Basic "
   ]
  },
  {
   "cell_type": "code",
   "execution_count": 1,
   "metadata": {},
   "outputs": [],
   "source": [
    "def fib(n):\n",
    "    \n",
    "    if n < 2:\n",
    "        return n\n",
    "    \n",
    "    return fib(n-1)+fib(n-2)"
   ]
  },
  {
   "cell_type": "markdown",
   "metadata": {},
   "source": [
    "## Memoization"
   ]
  },
  {
   "cell_type": "code",
   "execution_count": 17,
   "metadata": {},
   "outputs": [],
   "source": [
    "def fib(n):\n",
    "    \n",
    "    dp = [-1 for x in range(n+1)]\n",
    "    \n",
    "    return subFib(dp, n)\n",
    "\n",
    "\n",
    "def subFib(dp, n):\n",
    "    \n",
    "    if n < 2:\n",
    "        return n\n",
    "    \n",
    "    if dp[n] != -1:\n",
    "        return dp[n]\n",
    "    \n",
    "    dp[n] = subFib(dp, n-1) + subFib(dp, n-2)\n",
    "    \n",
    "    return dp[n]\n",
    "    "
   ]
  },
  {
   "cell_type": "markdown",
   "metadata": {},
   "source": [
    "## Bottom-up"
   ]
  },
  {
   "cell_type": "code",
   "execution_count": 15,
   "metadata": {},
   "outputs": [],
   "source": [
    "def fib(n):\n",
    "    \n",
    "    dp = [0 for x in range(n+1)]\n",
    "    \n",
    "    for i in range(n+1):\n",
    "        if i < 2:\n",
    "            dp[i] = i\n",
    "        else:\n",
    "            dp[i] = dp[i-1] + dp[i-2]\n",
    "        \n",
    "    return dp[n]"
   ]
  },
  {
   "cell_type": "code",
   "execution_count": 18,
   "metadata": {},
   "outputs": [
    {
     "name": "stdout",
     "output_type": "stream",
     "text": [
      "354224848179261915075\n"
     ]
    }
   ],
   "source": [
    "print(fib(100))"
   ]
  },
  {
   "cell_type": "markdown",
   "metadata": {},
   "source": [
    "## Staircase\n",
    "\n",
    "Given a stair with ‘n’ steps, implement a method to count how many possible ways are there to reach the top of the staircase, given that, at every step you can either take 1 step, 2 steps, or 3 steps."
   ]
  },
  {
   "cell_type": "code",
   "execution_count": 3,
   "metadata": {},
   "outputs": [],
   "source": [
    "def stairs(n):\n",
    "    \n",
    "    if n == 0:\n",
    "        return 1\n",
    "    \n",
    "    if n == 1:\n",
    "        return 1\n",
    "    \n",
    "    if n == 2:\n",
    "        return 2\n",
    "    \n",
    "    return stairs(n-3) + stairs(n-2) + stairs(n-1)\n",
    "    "
   ]
  },
  {
   "cell_type": "code",
   "execution_count": 5,
   "metadata": {},
   "outputs": [],
   "source": [
    "def stairs(n):\n",
    "    \n",
    "    dp = [-1 for x in range(n+1)]\n",
    "    \n",
    "    return subStairs(dp, n)\n",
    "\n",
    "def subStairs(dp, n):\n",
    "    \n",
    "    if n == 0:\n",
    "        return 1\n",
    "    \n",
    "    if n == 1:\n",
    "        return 1\n",
    "    \n",
    "    if n == 2:\n",
    "        return 2\n",
    "    \n",
    "    if dp[n] != -1:\n",
    "        return dp[n]\n",
    "\n",
    "    dp[n] = subStairs(dp, n-3) + subStairs(dp, n-2) + subStairs(dp, n-1)\n",
    "    \n",
    "    return dp[n]\n",
    "    "
   ]
  },
  {
   "cell_type": "code",
   "execution_count": 10,
   "metadata": {},
   "outputs": [],
   "source": [
    "def stairs(n):\n",
    "    \n",
    "    dp = [0 for x in range(n+1)]\n",
    "    \n",
    "    if n == 0:\n",
    "        return 1\n",
    "    \n",
    "    if n == 1:\n",
    "        return 1\n",
    "    \n",
    "    if n == 2:\n",
    "        return 2\n",
    "    \n",
    "    dp[0] = 1\n",
    "    dp[1] = 1\n",
    "    dp[2] = 2\n",
    "    \n",
    "    for i in range(3, n+1):\n",
    "        dp[i] = dp[i-1] + dp[i-2] + dp[i-3]\n",
    "    \n",
    "    return dp[n]\n",
    "    "
   ]
  },
  {
   "cell_type": "code",
   "execution_count": 13,
   "metadata": {},
   "outputs": [
    {
     "name": "stdout",
     "output_type": "stream",
     "text": [
      "4\n"
     ]
    }
   ],
   "source": [
    "print(stairs(3))"
   ]
  },
  {
   "cell_type": "markdown",
   "metadata": {},
   "source": [
    "## Number factors\n",
    "\n",
    "Given a number ‘n’, implement a method to count how many possible ways there are to express ‘n’ as the sum of 1, 3, or 4."
   ]
  },
  {
   "cell_type": "code",
   "execution_count": 14,
   "metadata": {},
   "outputs": [],
   "source": [
    "def factors(n):\n",
    "    \n",
    "    if n == 0:\n",
    "        return 1\n",
    "    \n",
    "    if n == 1:\n",
    "        return 1\n",
    "    \n",
    "    if n == 2:\n",
    "        return 1\n",
    "    \n",
    "    if n == 3:\n",
    "        return 2\n",
    "    \n",
    "    return factors(n-4) + factors(n-3) + factors(n-1)"
   ]
  },
  {
   "cell_type": "code",
   "execution_count": 23,
   "metadata": {},
   "outputs": [],
   "source": [
    "def factors(n):\n",
    "    \n",
    "    dp = [-1 for x in range(n+1)]\n",
    "\n",
    "    return subFactors(dp, n)\n",
    "\n",
    "\n",
    "def subFactors(dp, n):\n",
    "    \n",
    "    if n == 0:\n",
    "        return 1\n",
    "    \n",
    "    if n == 1:\n",
    "        return 1\n",
    "    \n",
    "    if n == 2:\n",
    "        return 1\n",
    "    \n",
    "    if n == 3:\n",
    "        return 2\n",
    "    \n",
    "    if dp[n] != -1:\n",
    "        return dp[n]\n",
    "    \n",
    "    dp[n] = subFactors(dp, n-1) + subFactors(dp, n-3) + subFactors(dp, n-4)\n",
    "    \n",
    "    return dp[n]"
   ]
  },
  {
   "cell_type": "code",
   "execution_count": 27,
   "metadata": {},
   "outputs": [],
   "source": [
    "def factors(n):\n",
    "    \n",
    "    if n == 0:\n",
    "        return 1\n",
    "    \n",
    "    if n == 1:\n",
    "        return 1\n",
    "    \n",
    "    if n == 2:\n",
    "        return 1\n",
    "    \n",
    "    if n == 3:\n",
    "        return 2\n",
    "    \n",
    "    dp = [0 for x in range(n+1)]\n",
    "    dp[0] = 1\n",
    "    dp[1] = 1\n",
    "    dp[2] = 1\n",
    "    dp[3] = 2\n",
    "    \n",
    "    for i in range(4, n+1):\n",
    "        dp[i] = dp[i-1] + dp[i-3] + dp[i-4]\n",
    "    \n",
    "    \n",
    "    return dp[n]"
   ]
  },
  {
   "cell_type": "code",
   "execution_count": 28,
   "metadata": {},
   "outputs": [
    {
     "name": "stdout",
     "output_type": "stream",
     "text": [
      "414733676044142633476\n"
     ]
    }
   ],
   "source": [
    "print(factors(100))"
   ]
  },
  {
   "cell_type": "markdown",
   "metadata": {},
   "source": [
    "## Minimum jumps to reach the end\n",
    "\n",
    "Given an array of positive numbers, where each element represents the max number of jumps that can be made forward from that element, write a program to find the minimum number of jumps needed to reach the end of the array (starting from the first element). If an element is 0, then we cannot move through that element."
   ]
  },
  {
   "cell_type": "code",
   "execution_count": 41,
   "metadata": {},
   "outputs": [],
   "source": [
    "import math\n",
    "\n",
    "def jumps(arr):\n",
    "    \n",
    "    return subJumps(arr, 0)-1\n",
    "\n",
    "def subJumps(arr, idx):\n",
    "    \n",
    "    n = len(arr)\n",
    "    \n",
    "    if idx >= n:\n",
    "        return 0\n",
    "    \n",
    "    \n",
    "    if arr[idx] == 0:\n",
    "        return math.inf\n",
    "    \n",
    "    c = math.inf\n",
    "    for i in range(1, arr[idx]+1):\n",
    "        c = min(c,subJumps(arr, idx+i))\n",
    "        if c != math.inf:\n",
    "            c += 1\n",
    "    \n",
    "    return c\n",
    "\n"
   ]
  },
  {
   "cell_type": "code",
   "execution_count": 59,
   "metadata": {},
   "outputs": [],
   "source": [
    "import math\n",
    "\n",
    "def jumps(arr):\n",
    "    \n",
    "    dp = [-1 for x in range(len(arr))]\n",
    "    \n",
    "    return subJumps(dp, arr, 0) - 1\n",
    "\n",
    "def subJumps(dp, arr, idx):\n",
    "    \n",
    "    n = len(arr)\n",
    "    \n",
    "    if idx >= n:\n",
    "        return 0\n",
    "    \n",
    "    \n",
    "    if arr[idx] == 0:\n",
    "        return math.inf\n",
    "    \n",
    "    if dp[idx] != -1:\n",
    "        return dp[idx]\n",
    "    \n",
    "    c = math.inf\n",
    "    for i in range(1, arr[idx]+1):\n",
    "        c = min(c,subJumps(dp, arr, idx+i))\n",
    "        if c != math.inf:\n",
    "            c += 1\n",
    "    dp[idx] = c\n",
    "    \n",
    "    return dp[idx]\n"
   ]
  },
  {
   "cell_type": "code",
   "execution_count": 82,
   "metadata": {},
   "outputs": [],
   "source": [
    "def jumps(arr):\n",
    "    \n",
    "    n = len(arr)\n",
    "    dp = [math.inf for x in range(n)]\n",
    "    \n",
    "    dp[0] = 0\n",
    "    \n",
    "    for i in range(n-1):\n",
    "        j = i + 1\n",
    "        while j <= i+arr[i] and j < n:\n",
    "            dp[j] = min(dp[j], dp[i]+1)\n",
    "            j += 1\n",
    "    \n",
    "    \n",
    "    return dp[n-1]\n",
    "    "
   ]
  },
  {
   "cell_type": "code",
   "execution_count": 83,
   "metadata": {},
   "outputs": [
    {
     "name": "stdout",
     "output_type": "stream",
     "text": [
      "8\n"
     ]
    }
   ],
   "source": [
    "print(jumps([1, 1, 1, 1, 1, 1, 1, 1, 1]))"
   ]
  },
  {
   "cell_type": "markdown",
   "metadata": {},
   "source": [
    "## Minimum jumps with fee\n",
    "\n",
    "Given a staircase with ‘n’ steps and an array of ‘n’ numbers representing the fee that you have to pay if you take the step. Implement a method to calculate the minimum fee required to reach the top of the staircase (beyond the top-most step). At every step, you have an option to take either 1 step, 2 steps, or 3 steps. You should assume that you are standing at the first step."
   ]
  },
  {
   "cell_type": "code",
   "execution_count": 46,
   "metadata": {},
   "outputs": [],
   "source": [
    "import math\n",
    "\n",
    "def jumps(arr):\n",
    "    \n",
    "    return subJumps(arr, 0)\n",
    "\n",
    "def subJumps(arr, idx):\n",
    "    \n",
    "    n = len(arr)\n",
    "    \n",
    "    if idx >= n:\n",
    "        return 0\n",
    "    \n",
    "    price = math.inf\n",
    "    price = min(subJumps(arr, idx+1), price)\n",
    "    price = min(subJumps(arr, idx+2), price)\n",
    "    price = min(subJumps(arr, idx+3), price)\n",
    "    \n",
    "    return price + arr[idx]\n",
    "    \n",
    "    "
   ]
  },
  {
   "cell_type": "code",
   "execution_count": 51,
   "metadata": {},
   "outputs": [],
   "source": [
    "import math\n",
    "\n",
    "def jumps(arr):\n",
    "    \n",
    "    dp = [-1 for x in range(len(arr))]\n",
    "    \n",
    "    return subJumps(dp, arr, 0)\n",
    "\n",
    "def subJumps(dp, arr, idx):\n",
    "    \n",
    "    n = len(arr)\n",
    "    \n",
    "    if idx >= n:\n",
    "        return 0\n",
    "    \n",
    "    if dp[idx] != -1:\n",
    "        return dp[idx]\n",
    "          \n",
    "    price = math.inf\n",
    "    price = min(subJumps(dp, arr, idx+1), price)\n",
    "    price = min(subJumps(dp, arr, idx+2), price)\n",
    "    price = min(subJumps(dp, arr, idx+3), price)\n",
    "    \n",
    "    dp[idx] = price + arr[idx]\n",
    "                            \n",
    "    return dp[idx]"
   ]
  },
  {
   "cell_type": "code",
   "execution_count": 52,
   "metadata": {},
   "outputs": [
    {
     "name": "stdout",
     "output_type": "stream",
     "text": [
      "5\n"
     ]
    }
   ],
   "source": [
    "print(jumps([2, 3, 4, 5]))"
   ]
  },
  {
   "cell_type": "markdown",
   "metadata": {},
   "source": [
    "## House thief\n",
    "\n",
    "There are ‘n’ houses built in a line. A thief wants to steal maximum possible money from these houses. The only restriction the thief has is that he can’t steal from two consecutive houses, as that would alert the security system. How should the thief maximize his stealing?\n",
    "\n",
    "Given a number array representing the wealth of ‘n’ houses, determine the maximum amount of money the thief can steal without alerting the security system."
   ]
  },
  {
   "cell_type": "code",
   "execution_count": 84,
   "metadata": {},
   "outputs": [],
   "source": [
    "def thief(arr):\n",
    "        \n",
    "    return steal(arr, 0)\n",
    "\n",
    "\n",
    "def steal(arr, idx):\n",
    "    \n",
    "    n = len(arr)\n",
    "    if idx >= n:\n",
    "        return 0\n",
    "    \n",
    "    \n",
    "    profit1 = arr[idx] + steal(arr, idx+2)\n",
    "    \n",
    "    profit2 = steal(arr, idx+1)\n",
    "    \n",
    "    return max(profit1, profit2)\n",
    "    "
   ]
  },
  {
   "cell_type": "code",
   "execution_count": 89,
   "metadata": {},
   "outputs": [],
   "source": [
    "def thief(arr):\n",
    "    \n",
    "    dp = [-1 for x in range(len(arr))]\n",
    "    return steal(dp, arr, 0)\n",
    "\n",
    "\n",
    "def steal(dp, arr, idx):\n",
    "    \n",
    "    n = len(arr)\n",
    "    if idx >= n:\n",
    "        return 0\n",
    "    \n",
    "    if dp[idx] != -1:\n",
    "        return dp[idx]\n",
    "    \n",
    "    \n",
    "    profit1 = arr[idx] + steal(dp, arr, idx+2)\n",
    "    \n",
    "    profit2 = steal(dp, arr, idx+1)\n",
    "    \n",
    "    dp[idx] = max(profit1, profit2)\n",
    "    \n",
    "    return dp[idx]"
   ]
  },
  {
   "cell_type": "code",
   "execution_count": 90,
   "metadata": {},
   "outputs": [
    {
     "name": "stdout",
     "output_type": "stream",
     "text": [
      "15\n",
      "18\n"
     ]
    }
   ],
   "source": [
    "print(thief([2, 5, 1, 3, 6, 2, 4]))\n",
    "print(thief([2, 10, 14, 8, 1]))"
   ]
  },
  {
   "cell_type": "code",
   "execution_count": null,
   "metadata": {},
   "outputs": [],
   "source": []
  }
 ],
 "metadata": {
  "kernelspec": {
   "display_name": "Python 3",
   "language": "python",
   "name": "python3"
  },
  "language_info": {
   "codemirror_mode": {
    "name": "ipython",
    "version": 3
   },
   "file_extension": ".py",
   "mimetype": "text/x-python",
   "name": "python",
   "nbconvert_exporter": "python",
   "pygments_lexer": "ipython3",
   "version": "3.8.5"
  }
 },
 "nbformat": 4,
 "nbformat_minor": 4
}
