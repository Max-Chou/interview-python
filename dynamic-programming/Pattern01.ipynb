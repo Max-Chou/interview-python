{
 "cells": [
  {
   "cell_type": "markdown",
   "metadata": {},
   "source": [
    "# Pattern 1: 0/1 Knapsack"
   ]
  },
  {
   "cell_type": "markdown",
   "metadata": {},
   "source": [
    "## Basic Solution"
   ]
  },
  {
   "cell_type": "code",
   "execution_count": 1,
   "metadata": {},
   "outputs": [],
   "source": [
    "def solveKnapsack(profits, weights, capacity):\n",
    "    return knapsackRecursive(profits, weights, capacity, 0)\n",
    "\n",
    "def knapsackRecursive(profits, weights, capacity, idx):\n",
    "    \n",
    "    numItems = len(profits)\n",
    "    \n",
    "    # basic check(base case)\n",
    "    if capacity <= 0 or idx >= numItems:\n",
    "        return 0\n",
    "    \n",
    "    # choose that item with Idx\n",
    "    profit1 = 0\n",
    "    if weights[idx] <= capacity:\n",
    "        profit1 = profits[idx] + knapsackRecursive(profits, weights, capacity-weights[idx], idx+1)\n",
    "        \n",
    "    # don't choose that item with Idx\n",
    "    profit2 = knapsackRecursive(profits, weights, capacity, idx+1)\n",
    "    \n",
    "    return max(profit1, profit2)\n",
    "\n",
    "    "
   ]
  },
  {
   "cell_type": "markdown",
   "metadata": {},
   "source": [
    "## Top-Down Dynamic Programming with Memoization"
   ]
  },
  {
   "cell_type": "code",
   "execution_count": 5,
   "metadata": {},
   "outputs": [],
   "source": [
    "def solveKnapsack(profits, weights, capacity):\n",
    "    \n",
    "    dp = [[-1 for x in range(capacity+1)] for y in range(len(profits))]\n",
    "    \n",
    "    return knapsackRecursive(dp, profits, weights, capacity, 0)\n",
    "\n",
    "def knapsackRecursive(dp, profits, weights, capacity, idx):\n",
    "    \n",
    "    numItems = len(profits)\n",
    "    \n",
    "    # basic check(base case)\n",
    "    if capacity <= 0 or idx >= numItems:\n",
    "        return 0\n",
    "    \n",
    "    # if the solution exists\n",
    "    if dp[idx][capacity] != -1:\n",
    "        return dp[idx][capacity]\n",
    "    \n",
    "    # choose that item with Idx\n",
    "    profit1 = 0\n",
    "    if weights[idx] <= capacity:\n",
    "        profit1 = profits[idx] + knapsackRecursive(dp, profits, weights, capacity-weights[idx], idx+1)\n",
    "        \n",
    "    # don't choose that item with Idx\n",
    "    profit2 = knapsackRecursive(dp, profits, weights, capacity, idx+1)\n",
    "    \n",
    "    dp[idx][capacity] = max(profit1, profit2)\n",
    "    \n",
    "    return dp[idx][capacity]"
   ]
  },
  {
   "cell_type": "markdown",
   "metadata": {},
   "source": [
    "## Bottom-up Dynamic Programming"
   ]
  },
  {
   "cell_type": "code",
   "execution_count": 12,
   "metadata": {},
   "outputs": [],
   "source": [
    "def solveKnapsack(profits, weights, capacity):\n",
    "    \n",
    "    numItems = len(profits)\n",
    "    \n",
    "    # basic check\n",
    "    if capacity <= 0 or numItems == 0 or len(weights) != numItems:\n",
    "        return 0\n",
    "    \n",
    "    dp = [[0 for x in range(capacity+1)] for y in range(numItems)]\n",
    "    \n",
    "    # we have only one item\n",
    "    for c in range(0, capacity+1):\n",
    "        if weights[0] <= c:\n",
    "            dp[0][c] = profits[0]\n",
    "    \n",
    "    # we have additional items\n",
    "    for i in range(1, numItems):\n",
    "        for c in range(1, capacity+1):\n",
    "            profit1, profit2 = 0, 0\n",
    "            # choose that item\n",
    "            if weights[i] <= c:\n",
    "                profit1 = profits[i] + dp[i-1][c-weights[i]]\n",
    "                \n",
    "            # don't choose it\n",
    "            profit2 = dp[i-1][c]\n",
    "            \n",
    "            dp[i][c] = max(profit1, profit2)\n",
    "    \n",
    "    printItems(dp, weights, profits, capacity)\n",
    "    \n",
    "    return dp[numItems-1][capacity]\n",
    "\n",
    "\n",
    "def printItems(dp, weights, profits, capacity):\n",
    "    print(\"Selected Items are: \", end='')\n",
    "    numItems = len(weights)\n",
    "    totalProfit = dp[numItems-1][capacity]\n",
    "    for i in range(numItems-1,0,-1):\n",
    "        if totalProfit != dp[i-1][capacity]:\n",
    "            print(f\"Item {i} \", end='')\n",
    "            capacity -= weights[i]\n",
    "            totalProfit -= profits[i]\n",
    "    \n",
    "    if totalProfit != 0:\n",
    "        print(f\"Item {0} \", end='')\n",
    "    \n"
   ]
  },
  {
   "cell_type": "code",
   "execution_count": 20,
   "metadata": {},
   "outputs": [],
   "source": [
    "def solveKnapsack(profits, weights, capacity):\n",
    "    \n",
    "    numItems = len(profits)\n",
    "    \n",
    "    # basic check\n",
    "    if capacity <= 0 or numItems == 0 or len(weights) != numItems:\n",
    "        return 0\n",
    "    \n",
    "    #dp = [[0 for x in range(capacity+1)] for y in range(numItems)]\n",
    "    d1 = [0 for x in range(capacity+1)]\n",
    "    d2 = [0 for x in range(capacity+1)]\n",
    "    \n",
    "    # we have only one item\n",
    "    for c in range(0, capacity+1):\n",
    "        if weights[0] <= c:\n",
    "            d1[c] = profits[0]\n",
    "    \n",
    "    # we have additional items\n",
    "    for i in range(1, numItems):\n",
    "        for c in range(1, capacity+1):\n",
    "            profit1, profit2 = 0, 0\n",
    "            # choose that item\n",
    "            if weights[i] <= c:\n",
    "                profit1 = profits[i] + d1[c-weights[i]]\n",
    "                \n",
    "            # don't choose it\n",
    "            profit2 = d1[c]\n",
    "            \n",
    "            d2[c] = max(profit1, profit2)\n",
    "        d1 = d2.copy()\n",
    "    \n",
    "    return d2[capacity]\n",
    "\n",
    "\n",
    "    \n"
   ]
  },
  {
   "cell_type": "markdown",
   "metadata": {},
   "source": [
    "### Tests"
   ]
  },
  {
   "cell_type": "code",
   "execution_count": 21,
   "metadata": {},
   "outputs": [
    {
     "name": "stdout",
     "output_type": "stream",
     "text": [
      "22\n",
      "17\n"
     ]
    }
   ],
   "source": [
    "tests = [([1, 6, 10, 16], [1, 2, 3, 5], 7), ([1, 6, 10, 16], [1, 2, 3, 5], 6)]\n",
    "\n",
    "for test in tests:\n",
    "    print(solveKnapsack(*test))"
   ]
  },
  {
   "cell_type": "markdown",
   "metadata": {},
   "source": [
    "## Equal Subset Sum Partition\n",
    "\n",
    "Given a set of positive numbers, find if we can partition it into two subsets such that the sum of elements in both the subsets is equal."
   ]
  },
  {
   "cell_type": "markdown",
   "metadata": {},
   "source": [
    "### Basic Solution"
   ]
  },
  {
   "cell_type": "code",
   "execution_count": 31,
   "metadata": {},
   "outputs": [],
   "source": [
    "def solveSubset(arr):\n",
    "    \n",
    "    s = sum(arr)\n",
    "    if s % 2 != 0:\n",
    "        return False\n",
    "    s = s // 2\n",
    "    \n",
    "    return subsetRecursive(s, arr, 0)\n",
    "\n",
    "def subsetRecursive(s, arr, idx):\n",
    "    \n",
    "    num = len(arr)\n",
    "    \n",
    "    if s == 0:\n",
    "        return True\n",
    "    \n",
    "    if idx >= num and s != 0:\n",
    "        return False\n",
    "    \n",
    "    d1 = subsetRecursive(s-arr[idx], arr, idx+1)\n",
    "    d2 = subsetRecursive(s, arr, idx+1)\n",
    "    \n",
    "    return d1 or d2\n",
    "    \n",
    "    "
   ]
  },
  {
   "cell_type": "markdown",
   "metadata": {},
   "source": [
    "### Top-Down Dynamic Programming with Memoization"
   ]
  },
  {
   "cell_type": "code",
   "execution_count": 36,
   "metadata": {},
   "outputs": [],
   "source": [
    "def solveSubset(arr):\n",
    "    \n",
    "    s = sum(arr)\n",
    "    if s % 2 != 0:\n",
    "        return False\n",
    "    s = s // 2\n",
    "    \n",
    "    dp = [[-1 for x in range(s+1)] for y in range(len(arr))]\n",
    "    \n",
    "    return subsetRecursive(dp, s, arr, 0)\n",
    "\n",
    "def subsetRecursive(dp, s, arr, idx):\n",
    "    \n",
    "    num = len(arr)\n",
    "    \n",
    "    if s == 0:\n",
    "        return True\n",
    "    \n",
    "    if idx >= num and s != 0:\n",
    "        return False\n",
    "    \n",
    "    if dp[idx][s] != -1:\n",
    "        return dp[idx][s]\n",
    "    \n",
    "    d1 = subsetRecursive(dp, s-arr[idx], arr, idx+1)\n",
    "    d2 = subsetRecursive(dp, s, arr, idx+1)\n",
    "    \n",
    "    dp[idx][s] = d1 or d2\n",
    "    \n",
    "    return dp[idx][s]\n",
    "    "
   ]
  },
  {
   "cell_type": "markdown",
   "metadata": {},
   "source": [
    "### Bottom-up Dynamic Programming"
   ]
  },
  {
   "cell_type": "code",
   "execution_count": 40,
   "metadata": {},
   "outputs": [],
   "source": [
    "def solveSubset(arr):\n",
    "    \n",
    "    s = sum(arr)\n",
    "    if s % 2 != 0:\n",
    "        return False\n",
    "    s = s // 2\n",
    "    num = len(arr)\n",
    "    \n",
    "    dp = [[ False for x in range(s+1)] for y in range(num)]\n",
    "    \n",
    "    for i in range(num):\n",
    "        dp[i][0] = True\n",
    "        \n",
    "    for c in range(s+1):\n",
    "        if c == arr[0]:\n",
    "            dp[0][c] = True\n",
    "    \n",
    "    for i in range(1, num):\n",
    "        for c in range(s+1):\n",
    "            \n",
    "            d1 = False\n",
    "            if c >= arr[i]:\n",
    "                d1 = dp[i-1][c-arr[i]]\n",
    "            \n",
    "            d2 = dp[i-1][c]\n",
    "    \n",
    "            dp[i][c] = d1 or d2\n",
    "    return dp[num-1][s]\n",
    "    "
   ]
  },
  {
   "cell_type": "markdown",
   "metadata": {},
   "source": [
    "**Solution other than dynamic programming**"
   ]
  },
  {
   "cell_type": "code",
   "execution_count": 57,
   "metadata": {},
   "outputs": [],
   "source": [
    "from heapq import heappush, heappop\n",
    "\n",
    "def solveSubset(arr):\n",
    "    \n",
    "    arr.sort()\n",
    "    a = arr.pop()\n",
    "    bags = []\n",
    "    heappush(bags, [a, [a]])\n",
    "    heappush(bags, [0, []])\n",
    "    \n",
    "    \n",
    "    while arr:\n",
    "        a = arr.pop()    \n",
    "        ele = heappop(bags)\n",
    "        ele[0] += a\n",
    "        ele[1].append(a)\n",
    "        heappush(bags, ele)\n",
    "    \n",
    "    return bags[0][0] == bags[1][0]\n"
   ]
  },
  {
   "cell_type": "markdown",
   "metadata": {},
   "source": [
    "**Tests**"
   ]
  },
  {
   "cell_type": "code",
   "execution_count": 58,
   "metadata": {},
   "outputs": [
    {
     "name": "stdout",
     "output_type": "stream",
     "text": [
      "True\n",
      "True\n",
      "False\n"
     ]
    }
   ],
   "source": [
    "tests = [([1, 2, 3, 4],), ([1, 1, 3, 4, 7],), ([2, 3, 4, 6],)]\n",
    "\n",
    "for test in tests:\n",
    "    print(solveSubset(*test))"
   ]
  },
  {
   "cell_type": "markdown",
   "metadata": {},
   "source": [
    "## Subset Sum\n",
    "\n",
    "Given a set of positive numbers, determine if there exists a subset whose sum is equal to a given number ‘S’.\n",
    "\n"
   ]
  },
  {
   "cell_type": "code",
   "execution_count": 62,
   "metadata": {},
   "outputs": [],
   "source": [
    "def solveSubset(arr, s):    \n",
    "    return subsetRecursive(s, arr, 0)\n",
    "\n",
    "def subsetRecursive(s, arr, idx):\n",
    "    \n",
    "    num = len(arr)\n",
    "    \n",
    "    if s == 0:\n",
    "        return True\n",
    "    \n",
    "    if idx >= num and s != 0:\n",
    "        return False\n",
    "    \n",
    "    d1 = subsetRecursive(s-arr[idx], arr, idx+1)\n",
    "    d2 = subsetRecursive(s, arr, idx+1)\n",
    "    \n",
    "    return d1 or d2"
   ]
  },
  {
   "cell_type": "code",
   "execution_count": 65,
   "metadata": {},
   "outputs": [],
   "source": [
    "def solveSubset(arr, s):\n",
    "    \n",
    "    dp = [[-1 for x in range(s+1)] for y in range(len(arr))]\n",
    "    \n",
    "    return subsetRecursive(dp, s, arr, 0)\n",
    "\n",
    "def subsetRecursive(dp, s, arr, idx):\n",
    "    \n",
    "    num = len(arr)\n",
    "    \n",
    "    if s == 0:\n",
    "        return True\n",
    "    \n",
    "    if idx >= num and s != 0:\n",
    "        return False\n",
    "    \n",
    "    if dp[idx][s] != -1:\n",
    "        return dp[idx][s]\n",
    "    \n",
    "    d1 = subsetRecursive(dp, s-arr[idx], arr, idx+1)\n",
    "    d2 = subsetRecursive(dp, s, arr, idx+1)\n",
    "    \n",
    "    dp[idx][s] = d1 or d2\n",
    "    \n",
    "    return dp[idx][s]\n",
    "    "
   ]
  },
  {
   "cell_type": "code",
   "execution_count": 67,
   "metadata": {},
   "outputs": [],
   "source": [
    "def solveSubset(arr, s):\n",
    "    \n",
    "    num = len(arr)\n",
    "    \n",
    "    dp = [[ False for x in range(s+1)] for y in range(num)]\n",
    "    \n",
    "    for i in range(num):\n",
    "        dp[i][0] = True\n",
    "        \n",
    "    for c in range(s+1):\n",
    "        if c == arr[0]:\n",
    "            dp[0][c] = True\n",
    "    \n",
    "    for i in range(1, num):\n",
    "        for c in range(s+1):\n",
    "            \n",
    "            d1 = False\n",
    "            if c >= arr[i]:\n",
    "                d1 = dp[i-1][c-arr[i]]\n",
    "            \n",
    "            d2 = dp[i-1][c]\n",
    "    \n",
    "            dp[i][c] = d1 or d2\n",
    "    return dp[num-1][s]\n",
    "    "
   ]
  },
  {
   "cell_type": "markdown",
   "metadata": {},
   "source": [
    "**Tests**"
   ]
  },
  {
   "cell_type": "code",
   "execution_count": 68,
   "metadata": {},
   "outputs": [
    {
     "name": "stdout",
     "output_type": "stream",
     "text": [
      "True\n",
      "True\n",
      "False\n"
     ]
    }
   ],
   "source": [
    "tests = [([1, 2, 3, 7], 6), ([1, 2, 7, 1, 5], 10), ([1, 3, 4, 8], 6)]\n",
    "\n",
    "for test in tests:\n",
    "    print(solveSubset(*test))"
   ]
  },
  {
   "cell_type": "markdown",
   "metadata": {},
   "source": [
    "## Minimum Subset Sum Difference\n",
    "\n",
    "Given a set of positive numbers, partition the set into two subsets with a minimum difference between their subset sums.\n",
    "\n",
    "* Using the sum of first subset and second subset"
   ]
  },
  {
   "cell_type": "code",
   "execution_count": 28,
   "metadata": {},
   "outputs": [],
   "source": [
    "def solveSubset(arr):\n",
    "\n",
    "    return subsetRecursive(0, 0, arr, 0)\n",
    "\n",
    "def subsetRecursive(s1, s2, arr, idx):\n",
    "    num = len(arr)\n",
    "    # base case\n",
    "    if idx >= num:\n",
    "        return abs(s1-s2)\n",
    "    \n",
    "    diff1 = subsetRecursive(s1+arr[idx], s2, arr, idx+1)\n",
    "    diff2 = subsetRecursive(s1, s2+arr[idx], arr, idx+1)\n",
    "    \n",
    "    return min(diff1, diff2)"
   ]
  },
  {
   "cell_type": "code",
   "execution_count": 29,
   "metadata": {},
   "outputs": [],
   "source": [
    "def solveSubset(arr):\n",
    "    \n",
    "    s = sum(arr)\n",
    "    dp = [[-1 for x in range(s+1)] for y in range(len(arr))]\n",
    "    \n",
    "    return subsetRecursive(dp, 0, 0, arr, 0)\n",
    "\n",
    "def subsetRecursive(dp, s1, s2, arr, idx):\n",
    "    \n",
    "    num = len(arr)\n",
    "    \n",
    "    # base case\n",
    "    if idx >= num:\n",
    "        return abs(s1-s2)\n",
    "\n",
    "    if dp[idx][s2] != -1:\n",
    "        return dp[idx][s2]\n",
    "    \n",
    "    \n",
    "    diff1 = subsetRecursive(dp, s1+arr[idx], s2, arr, idx+1)\n",
    "    diff2 = subsetRecursive(dp, s1, s2+arr[idx], arr, idx+1)\n",
    "    \n",
    "    dp[idx][s2] = min(diff1, diff2)\n",
    "    \n",
    "    return dp[idx][s2]\n",
    "    "
   ]
  },
  {
   "cell_type": "markdown",
   "metadata": {},
   "source": [
    "**Transform the problem to subset sum close to S/2**\n",
    "\n",
    "1. The row is the index of arr. The column is the sum of the first subset, which should be close to s/2.\n",
    "\n",
    "2. If the subset cannot be s/2, we have to find the nearest one.\n",
    "\n",
    "\n"
   ]
  },
  {
   "cell_type": "code",
   "execution_count": 34,
   "metadata": {},
   "outputs": [],
   "source": [
    "def solveSubset(arr):\n",
    "    \n",
    "    s = sum(arr)\n",
    "    n = len(arr)\n",
    "    \n",
    "    dp = [[ False for x in range(int(s/2)+1)] for y in range(n)]\n",
    "    \n",
    "    for i in range(0, n):\n",
    "        dp[i][0] = True\n",
    "    \n",
    "    for j in range(0, int(s/2)+1):\n",
    "        dp[0][j] = arr[0] == j\n",
    "        \n",
    "    \n",
    "    for i in range(1, n):\n",
    "        for j in range(1, int(s/2+1)):\n",
    "            if dp[i-1][j]:\n",
    "                dp[i][j] = dp[i-1][j]\n",
    "            elif j >= arr[i]:\n",
    "                dp[i][j] = dp[i-1][j-arr[i]]\n",
    "    \n",
    "    s1 = 0\n",
    "    for i in range(int(s/2), -1, -1):\n",
    "        if dp[n-1][i]:\n",
    "            s1 = i\n",
    "            break\n",
    "    s2 = s - s1\n",
    "    \n",
    "    return abs(s2-s1)\n",
    "                \n",
    "        "
   ]
  },
  {
   "cell_type": "markdown",
   "metadata": {},
   "source": [
    "**Solution with heap and greedy**"
   ]
  },
  {
   "cell_type": "code",
   "execution_count": 38,
   "metadata": {},
   "outputs": [],
   "source": [
    "from heapq import heappush, heappop\n",
    "\n",
    "def solveSubset(arr):\n",
    "    \n",
    "    arr.sort()\n",
    "    a = arr.pop()\n",
    "    bags = []\n",
    "    heappush(bags, [a, [a]])\n",
    "    heappush(bags, [0, []])\n",
    "    \n",
    "    \n",
    "    while arr:\n",
    "        a = arr.pop()    \n",
    "        ele = heappop(bags)\n",
    "        ele[0] += a\n",
    "        ele[1].append(a)\n",
    "        heappush(bags, ele)\n",
    "    \n",
    "    return abs(bags[0][0] - bags[1][0])\n"
   ]
  },
  {
   "cell_type": "code",
   "execution_count": 37,
   "metadata": {},
   "outputs": [
    {
     "name": "stdout",
     "output_type": "stream",
     "text": [
      "3\n",
      "0\n",
      "92\n"
     ]
    }
   ],
   "source": [
    "tests = [([1, 2, 3, 9],), ([1, 2, 7, 1, 5],), ([1, 3, 100, 4],)]\n",
    "\n",
    "for test in tests:\n",
    "    print(solveSubset(*test))"
   ]
  },
  {
   "cell_type": "markdown",
   "metadata": {},
   "source": [
    "## Count of Subset Sum\n",
    "\n",
    "Given a set of positive numbers, find the total number of subsets whose sum is equal to a given number ‘S’."
   ]
  },
  {
   "cell_type": "code",
   "execution_count": 45,
   "metadata": {},
   "outputs": [],
   "source": [
    "def solveProblem(arr, target):\n",
    "    return solveSubProblem(arr, target, 0)\n",
    "\n",
    "def solveSubProblem(arr, target, idx):\n",
    "    \n",
    "\n",
    "    if target == 0:\n",
    "        return 1\n",
    "    \n",
    "    if target < 0:\n",
    "        return 0\n",
    "    \n",
    "    if idx >= len(arr):\n",
    "        return 0\n",
    "    \n",
    "    \n",
    "    return solveSubProblem(arr, target-arr[idx], idx+1) + solveSubProblem(arr, target, idx+1)\n"
   ]
  },
  {
   "cell_type": "code",
   "execution_count": 53,
   "metadata": {},
   "outputs": [],
   "source": [
    "def solveProblem(arr, target):\n",
    "    dp = [[-1 for x in range(target+1)] for y in range(len(arr))]\n",
    "    \n",
    "    return solveSubProblem(dp, arr, target, 0)\n",
    "\n",
    "def solveSubProblem(dp, arr, target, idx):\n",
    "    \n",
    "    if target == 0:\n",
    "        return 1\n",
    "    \n",
    "    if target < 0:\n",
    "        return 0\n",
    "    \n",
    "    if idx >= len(arr):\n",
    "        return 0\n",
    "    \n",
    "    \n",
    "    if dp[idx][target] != -1:\n",
    "        return dp[idx][target]\n",
    "    \n",
    "    dp[idx][target] = solveSubProblem(dp, arr, target-arr[idx], idx+1) + solveSubProblem(dp, arr, target, idx+1)\n",
    "    \n",
    "    return dp[idx][target]\n",
    "    "
   ]
  },
  {
   "cell_type": "code",
   "execution_count": 67,
   "metadata": {},
   "outputs": [],
   "source": [
    "def solveProblem(arr, target):\n",
    "    \n",
    "    n = len(arr)\n",
    "    dp = [[0 for x in range(target+1)] for y in range(n)]\n",
    "    \n",
    "    for i in range(n):\n",
    "        dp[i][0] = 1\n",
    "    \n",
    "    for i in range(n):\n",
    "        for s in range(target+1):\n",
    "            if s == arr[i]:\n",
    "                dp[i][s] = 1\n",
    "    \n",
    "    \n",
    "    for i in range(1, n):\n",
    "        for s in range(1, target+1):\n",
    "            \n",
    "            dp[i][s] = dp[i-1][s]\n",
    "            if s >= arr[i]:\n",
    "                dp[i][s] += dp[i-1][s-arr[i]]\n",
    "            \n",
    "    \n",
    "    return dp[n-1][target]\n"
   ]
  },
  {
   "cell_type": "code",
   "execution_count": 68,
   "metadata": {},
   "outputs": [
    {
     "name": "stdout",
     "output_type": "stream",
     "text": [
      "3\n",
      "3\n"
     ]
    }
   ],
   "source": [
    "tests = [([1, 1, 2, 3], 4), ([1, 2, 7, 1, 5], 9)]\n",
    "\n",
    "for test in tests:\n",
    "    print(solveProblem(*test))"
   ]
  },
  {
   "cell_type": "markdown",
   "metadata": {},
   "source": [
    "## Target Sum\n",
    "\n",
    "Given a set of positive numbers (non zero) and a target sum ‘S’. Each number should be assigned either a ‘+’ or ‘-’ sign. We need to find out total ways to assign symbols to make the sum of numbers equal to target ‘S’."
   ]
  },
  {
   "cell_type": "code",
   "execution_count": 3,
   "metadata": {},
   "outputs": [],
   "source": [
    "def solveProblem(arr, target):\n",
    "    \n",
    "    return solveSubProblem(arr, target, 0)\n",
    "    \n",
    "\n",
    "def solveSubProblem(arr, target, idx):\n",
    "    n = len(arr)\n",
    "    if idx >= n:\n",
    "        if target == 0:\n",
    "            return 1\n",
    "        else:\n",
    "            return 0\n",
    "    \n",
    "    \n",
    "    return solveSubProblem(arr, target+arr[idx], idx+1) + solveSubProblem(arr, target-arr[idx], idx+1)\n"
   ]
  },
  {
   "cell_type": "markdown",
   "metadata": {},
   "source": [
    "**The maximum value will be target + S and the mininum value will be target - S.**"
   ]
  },
  {
   "cell_type": "code",
   "execution_count": 8,
   "metadata": {},
   "outputs": [],
   "source": [
    "def solveProblem(arr, target):\n",
    "    \n",
    "    s = sum(arr)\n",
    "    \n",
    "    dp = [[-1 for x in range(2*s+1)] for y in range(len(arr))]\n",
    "    \n",
    "    return solveSubProblem(dp, arr, target, target, 0)\n",
    "\n",
    "def solveSubProblem(dp, arr, target, current, idx):\n",
    "    \n",
    "    n = len(arr)\n",
    "    s = sum(arr)\n",
    "    \n",
    "    if idx >= n:\n",
    "        if current == 0:\n",
    "            return 1\n",
    "        else:\n",
    "            return 0\n",
    "    \n",
    "    i = int(current+s-target)\n",
    "\n",
    "    if dp[idx][current+s-target] != -1:\n",
    "        return dp[idx][current+s-target]\n",
    "    \n",
    "    dp[idx][current+s-target] = solveSubProblem(dp, arr, target, current-arr[idx], idx+1) + solveSubProblem(dp, arr, target, current+arr[idx], idx+1)\n",
    "    \n",
    "    return dp[idx][current+s-target]\n",
    "    "
   ]
  },
  {
   "cell_type": "code",
   "execution_count": 72,
   "metadata": {},
   "outputs": [],
   "source": [
    "def solveProblem(arr, target):\n",
    "    \n",
    "    n = len(arr)\n",
    "    s = sum(arr)\n",
    "\n",
    "    dp = [[0 for x in range(s*2+1)] for y in range(n)]\n",
    "\n",
    "    dp[0][s+0-arr[0]] = 1\n",
    "    dp[0][s+0+arr[0]] = 1\n",
    "    \n",
    "    \n",
    "    for i in range(1, n):\n",
    "        \n",
    "        # shift left\n",
    "        for c in range(2*s+1):\n",
    "            if c - arr[i] >= 0:\n",
    "                dp[i][c-arr[i]] += dp[i-1][c]\n",
    "            \n",
    "        # shift right\n",
    "        for c in range(2*s+1):\n",
    "            if c + arr[i] <= 2*s:\n",
    "                dp[i][c+arr[i]] += dp[i-1][c]\n",
    "            \n",
    "            \n",
    "    return dp[n-1][target+s]\n",
    "    \n",
    "    "
   ]
  },
  {
   "cell_type": "code",
   "execution_count": 73,
   "metadata": {},
   "outputs": [
    {
     "name": "stdout",
     "output_type": "stream",
     "text": [
      "3\n",
      "2\n"
     ]
    }
   ],
   "source": [
    "tests = [([1, 1, 2, 3], 1), ([1, 2, 7, 1], 9)]\n",
    "\n",
    "for test in tests:\n",
    "    print(solveProblem(*test))"
   ]
  },
  {
   "cell_type": "code",
   "execution_count": null,
   "metadata": {},
   "outputs": [],
   "source": []
  }
 ],
 "metadata": {
  "kernelspec": {
   "display_name": "Python 3",
   "language": "python",
   "name": "python3"
  },
  "language_info": {
   "codemirror_mode": {
    "name": "ipython",
    "version": 3
   },
   "file_extension": ".py",
   "mimetype": "text/x-python",
   "name": "python",
   "nbconvert_exporter": "python",
   "pygments_lexer": "ipython3",
   "version": "3.8.2"
  }
 },
 "nbformat": 4,
 "nbformat_minor": 4
}
